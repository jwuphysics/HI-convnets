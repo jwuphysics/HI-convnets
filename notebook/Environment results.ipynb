{
 "cells": [
  {
   "cell_type": "code",
   "execution_count": 1,
   "metadata": {},
   "outputs": [],
   "source": [
    "import numpy as np\n",
    "import matplotlib.pyplot as plt\n",
    "import pandas as pd\n",
    "\n",
    "import os\n",
    "\n",
    "%matplotlib inline\n",
    "\n",
    "PATH = os.path.abspath('..')\n"
   ]
  },
  {
   "cell_type": "markdown",
   "metadata": {},
   "source": [
    "# ALFALFA results"
   ]
  },
  {
   "cell_type": "code",
   "execution_count": 2,
   "metadata": {},
   "outputs": [],
   "source": [
    "\n",
    "with open (f'{PATH}/results/environment/transition_results.txt', 'r') as f:\n",
    "    lines = f.readlines()\n",
    "    env_results = np.array([[np.mean([float(l[10:14]), float(l[15:19])]),\n",
    "                             float(l[21:27]),\n",
    "                             float(l[32:38])\n",
    "                            ] \n",
    "        for l in lines])"
   ]
  },
  {
   "cell_type": "code",
   "execution_count": 3,
   "metadata": {},
   "outputs": [],
   "source": [
    "# merge with previous tests\n",
    "overdense  = [0.9, 0.3269, 0.0066] # a40 valid overdense\n",
    "underdense = [0.1, 0.2184, 0.0022] # a40 valid underdense\n",
    "\n",
    "env_results = np.vstack([underdense, env_results, overdense])"
   ]
  },
  {
   "cell_type": "code",
   "execution_count": 4,
   "metadata": {},
   "outputs": [
    {
     "data": {
      "image/png": "[encoded data removed]",
      "text/plain": [
       "<Figure size 432x288 with 1 Axes>"
      ]
     },
     "metadata": {
      "needs_background": "light"
     },
     "output_type": "display_data"
    }
   ],
   "source": [
    "plt.errorbar(env_results[:,0],\n",
    "             env_results[:,1],\n",
    "             env_results[:,2], \n",
    "             c='C3', marker='o', ls='none'\n",
    "            )\n",
    "\n",
    "plt.axhline(0.2557 , c='k')\n",
    "plt.axhspan((0.2557 - 0.0094),\n",
    "            (0.2557 + 0.0094),\n",
    "            alpha=0.3, lw=0,\n",
    "            color='k'\n",
    "           )\n",
    "\n",
    "plt.ylabel('RMSE (unnormalized)', fontsize=12)\n",
    "plt.xlabel(r'Mean validation $\\delta_5$ quantile', fontsize=12)\n",
    "\n",
    "plt.ylim(0.2, 0.35);"
   ]
  },
  {
   "cell_type": "markdown",
   "metadata": {},
   "source": [
    "Get normalization factors"
   ]
  },
  {
   "cell_type": "code",
   "execution_count": 5,
   "metadata": {},
   "outputs": [],
   "source": [
    "a40 = (pd.read_csv(\"../data/a40-SDSS_gas-frac.csv\")\n",
    "        .join(pd.read_csv(\"../data/a.40-delta_5.csv\", index_col=\"AGCNr\"), on=\"AGCNr\", rsuffix='_a40')\n",
    "        .join(pd.read_csv(\"../data/a40.datafile3.csv\", index_col=\"AGCNr\"), on=\"AGCNr\", rsuffix='_sdss')\n",
    ")"
   ]
  },
  {
   "cell_type": "code",
   "execution_count": 6,
   "metadata": {},
   "outputs": [
    {
     "name": "stdout",
     "output_type": "stream",
     "text": [
      "[0.52432098 0.53799584 0.56715179 0.57123332 0.57944726 0.60218981\n",
      " 0.61339672 0.63370006 0.67064222]\n"
     ]
    }
   ],
   "source": [
    "norm_factors = []\n",
    "\n",
    "logd5_mins  = []\n",
    "logd5_means = []\n",
    "logd5_maxes = []\n",
    "\n",
    "for q1 in [0, 0.1, 0.2, 0.3, 0.4, 0.5, 0.6, 0.7, 0.8]:\n",
    "    q2 = q1+0.2\n",
    "    \n",
    "    q_range = (a40.delta_5 >= a40.delta_5.quantile(q1)) & (a40.delta_5 < a40.delta_5.quantile(q2))\n",
    "    \n",
    "    \n",
    "    logd5_mins.append(np.nanmin(np.log10(a40[q_range].delta_5)))\n",
    "    logd5_means.append(np.nanmean(np.log10(a40[q_range].delta_5)))\n",
    "    logd5_maxes.append(np.nanmax(np.log10(a40[q_range].delta_5)))\n",
    "    \n",
    "    norm_factors.append(a40[q_range].logfgas.std())\n",
    "    \n",
    "norm_factors = np.array(norm_factors)\n",
    "print(norm_factors)"
   ]
  },
  {
   "cell_type": "code",
   "execution_count": 7,
   "metadata": {},
   "outputs": [
    {
     "data": {
      "text/plain": [
       "array([0.41653874, 0.40000309, 0.42739881, 0.41979344, 0.40366055,\n",
       "       0.43624119, 0.43740045, 0.45384247, 0.48744322])"
      ]
     },
     "metadata": {},
     "output_type": "display_data"
    },
    {
     "data": {
      "text/plain": [
       "array([0.0041959 , 0.00799263, 0.00282111, 0.00315108, 0.00448703,\n",
       "       0.00448364, 0.00684712, 0.00552312, 0.00984131])"
      ]
     },
     "metadata": {},
     "output_type": "display_data"
    }
   ],
   "source": [
    "display(env_results[:, 1] / norm_factors)\n",
    "display(env_results[:, 2] / norm_factors)"
   ]
  },
  {
   "cell_type": "code",
   "execution_count": 8,
   "metadata": {},
   "outputs": [
    {
     "name": "stdout",
     "output_type": "stream",
     "text": [
      "overall sample mean (a40A): 0.6036\n",
      "normalized overall mean: 0.4237 +/- 0.0156\n"
     ]
    }
   ],
   "source": [
    "overall_std = np.log10(a40.delta_5.std())\n",
    "print(f'overall sample mean (a40A): {overall_std:.4f}')\n",
    "\n",
    "\n",
    "print(f'normalized overall mean: {0.2557 / overall_std:.4f} +/- {0.0094 / overall_std:.4f}')"
   ]
  },
  {
   "cell_type": "code",
   "execution_count": 9,
   "metadata": {},
   "outputs": [
    {
     "data": {
      "text/plain": [
       "<matplotlib.patches.Polygon at 0x7fc6be091898>"
      ]
     },
     "execution_count": 9,
     "metadata": {},
     "output_type": "execute_result"
    },
    {
     "data": {
      "image/png": "[encoded data removed]",
      "text/plain": [
       "<Figure size 432x288 with 1 Axes>"
      ]
     },
     "metadata": {
      "needs_background": "light"
     },
     "output_type": "display_data"
    }
   ],
   "source": [
    "plt.errorbar(env_results[:,0],\n",
    "             env_results[:,1] / norm_factors,\n",
    "             env_results[:,2] / norm_factors, \n",
    "             c='k', marker='o', ls='none'\n",
    "            )\n",
    "plt.ylabel('Validation RMSE (normalized)', fontsize=12)\n",
    "plt.xlabel(r'Validation $\\delta_5$ central quantile', fontsize=12)\n",
    "\n",
    "plt.axhline(0.2557 / overall_std, c='C3')\n",
    "plt.axhspan((0.2557 - 0.0094) / overall_std,\n",
    "            (0.2557 + 0.0094) / overall_std,\n",
    "            alpha=0.3, lw=0,\n",
    "            color='C3'\n",
    "           )\n",
    "\n",
    "# plt.savefig(f'{PATH}/results/figures/environment-trends.png')"
   ]
  },
  {
   "cell_type": "markdown",
   "metadata": {},
   "source": [
    "What are these in terms of log(1+$\\delta$)?"
   ]
  },
  {
   "cell_type": "code",
   "execution_count": 10,
   "metadata": {},
   "outputs": [
    {
     "data": {
      "text/plain": [
       "[-0.9512771319714821,\n",
       " -0.3464147312591956,\n",
       " -0.19929430882077506,\n",
       " -0.08421625976740237,\n",
       " 0.024693458374723264,\n",
       " 0.12543626023407864,\n",
       " 0.23124272664225068,\n",
       " 0.35749918946869436,\n",
       " 0.4901058809783508]"
      ]
     },
     "execution_count": 10,
     "metadata": {},
     "output_type": "execute_result"
    }
   ],
   "source": [
    "logd5_mins"
   ]
  },
  {
   "cell_type": "code",
   "execution_count": 11,
   "metadata": {
    "scrolled": true
   },
   "outputs": [
    {
     "data": {
      "image/png": "[encoded data removed]",
      "text/plain": [
       "<Figure size 432x288 with 1 Axes>"
      ]
     },
     "metadata": {
      "needs_background": "light"
     },
     "output_type": "display_data"
    }
   ],
   "source": [
    "\n",
    "plt.errorbar(env_results[:,0],\n",
    "             env_results[:,1] / norm_factors,\n",
    "             env_results[:,2] / norm_factors, \n",
    "             c='k', marker='o', ls='none'\n",
    "            )\n",
    "plt.ylabel('Validation RMSE (normalized)', fontsize=12)\n",
    "plt.xlabel(r'Validation $\\delta_5$ central quantile', fontsize=12)\n",
    "\n",
    "\n",
    "for i in range(len(env_results)):\n",
    "    d5_range = f'({logd5_mins[i]:.2f}, {logd5_maxes[i]:.2f})'\n",
    "    d5_mean = f'${logd5_means[i]:.2f}$'\n",
    "    plt.text(x=env_results[i,0] - 0.03, \n",
    "             y=0.525, # env_results[i,1] / norm_factors[i]+2e-3, \n",
    "             s=d5_mean, #d5_range, \n",
    "             rotation=60,\n",
    "             va='top',\n",
    "             fontsize=12\n",
    "            )\n",
    "    \n",
    "plt.axhline(0.2557 / overall_std, c='C3')\n",
    "plt.axhspan((0.2557 - 0.0094) / overall_std,\n",
    "            (0.2557 + 0.0094) / overall_std,\n",
    "            alpha=0.3, lw=0,\n",
    "            color='C3'\n",
    "           )\n",
    "\n",
    "plt.text(0.95, 0.39, r'$\\alpha$.40A', fontsize=24, ha='right')\n",
    "    \n",
    "plt.ylim(0.38, 0.53)\n",
    "plt.xlim(0.0, 1.0);\n",
    "\n",
    "plt.savefig(f'{PATH}/results/figures/environment-trends.pdf')"
   ]
  },
  {
   "cell_type": "markdown",
   "metadata": {},
   "source": [
    "Same thing but with zero overlap in delta_5"
   ]
  },
  {
   "cell_type": "code",
   "execution_count": 12,
   "metadata": {},
   "outputs": [
    {
     "data": {
      "image/png": "[encoded data removed]",
      "text/plain": [
       "<Figure size 432x288 with 1 Axes>"
      ]
     },
     "metadata": {
      "needs_background": "light"
     },
     "output_type": "display_data"
    }
   ],
   "source": [
    "plt.errorbar(env_results[::2,0],\n",
    "             env_results[::2,1] / norm_factors[::2],\n",
    "             env_results[::2,2] / norm_factors[::2], \n",
    "             c='k', marker='o', ls='none'\n",
    "            )\n",
    "plt.ylabel('Validation RMSE (normalized)', fontsize=12)\n",
    "plt.xlabel(r'Validation $\\delta_5$ central quantile', fontsize=12)\n",
    "\n",
    "\n",
    "for i in range(len(env_results))[::2]:\n",
    "    d5_range = f'({logd5_mins[i]:.2f}, {logd5_maxes[i]:.2f})'\n",
    "    d5_mean = f'${logd5_means[i]:.2f}$'\n",
    "    plt.text(x=env_results[i,0] - 0.03, \n",
    "             y=0.525, # env_results[i,1] / norm_factors[i]+2e-3, \n",
    "             s=d5_mean, #d5_range, \n",
    "             rotation=60,\n",
    "             va='top',\n",
    "             fontsize=12\n",
    "            )\n",
    "    \n",
    "plt.axhline(0.2557 / overall_std, c='C3')\n",
    "plt.axhspan((0.2557 - 0.0094) / overall_std,\n",
    "            (0.2557 + 0.0094) / overall_std,\n",
    "            alpha=0.3, lw=0,\n",
    "            color='C3'\n",
    "           )\n",
    "    \n",
    "plt.ylim(0.38, 0.53)\n",
    "plt.xlim(0.0, 1.0);"
   ]
  },
  {
   "cell_type": "markdown",
   "metadata": {},
   "source": [
    "# xGASS results"
   ]
  },
  {
   "cell_type": "code",
   "execution_count": 13,
   "metadata": {},
   "outputs": [],
   "source": [
    "xg = (pd.read_csv(f'{PATH}/data/xGASS_representative_sample.csv', index_col=0)\n",
    "        .join(pd.read_csv(f\"{PATH}/data/xGASS-delta_5.csv\", index_col=\"GASS\"), on=\"GASS\", rsuffix='d5')\n",
    "     )\n",
    "\n",
    "xg['logfgas'] = xg.lgMHI - xg.lgMstar"
   ]
  },
  {
   "cell_type": "code",
   "execution_count": 14,
   "metadata": {},
   "outputs": [
    {
     "data": {
      "text/plain": [
       "0.6462870949144293"
      ]
     },
     "metadata": {},
     "output_type": "display_data"
    },
    {
     "data": {
      "text/plain": [
       "0.6255501626094042"
      ]
     },
     "metadata": {},
     "output_type": "display_data"
    }
   ],
   "source": [
    "# intrinsic scatter for different groups\n",
    "isolated = (xg.env_code_B == 1)\n",
    "grouped = (xg.env_code_B == 0) | (xg.env_code_B == 2)\n",
    "\n",
    "display(xg[isolated].logfgas.std())\n",
    "display(xg[grouped].logfgas.std())"
   ]
  },
  {
   "cell_type": "code",
   "execution_count": 15,
   "metadata": {},
   "outputs": [],
   "source": [
    "env_means = []\n",
    "env_stds = []\n",
    "norm_factors = []\n",
    "logd5_means = []\n",
    "\n",
    "for q in np.arange(0.1, 1.0, 0.1):\n",
    "    q1 = q-0.1\n",
    "    q2 = q+0.1\n",
    "    \n",
    "    # mean +/- std\n",
    "    fn = f\"{PATH}/results/environment/transition-xgass/overdense_{q1:.2f}-{q2:.2f}.txt\"\n",
    "    res = np.genfromtxt(fn)\n",
    "    \n",
    "    env_means.append(res.mean())\n",
    "    env_stds.append(res.std())\n",
    "    \n",
    "    # inherent scatter\n",
    "    q_range = (xg.delta_5 >= xg.delta_5.quantile(q1)) & (xg.delta_5 < xg.delta_5.quantile(q2))\n",
    "    norm_factors.append(xg[q_range].logfgas.std())\n",
    "    \n",
    "    logd5_means.append(np.nanmean(np.log10(xg[q_range].delta_5)))\n",
    "\n",
    "\n",
    "    \n",
    "env_means = np.array(env_means)\n",
    "env_stds = np.array(env_stds)\n",
    "norm_factors = np.array(norm_factors)\n",
    "logd5_means = np.array(logd5_means)\n",
    "\n",
    "overall_std = xg.logfgas.std()"
   ]
  },
  {
   "cell_type": "code",
   "execution_count": 16,
   "metadata": {},
   "outputs": [
    {
     "data": {
      "text/plain": [
       "0.6652234570013683"
      ]
     },
     "execution_count": 16,
     "metadata": {},
     "output_type": "execute_result"
    }
   ],
   "source": [
    "overall_std"
   ]
  },
  {
   "cell_type": "code",
   "execution_count": 17,
   "metadata": {},
   "outputs": [
    {
     "data": {
      "text/plain": [
       "<matplotlib.collections.PathCollection at 0x7fc6bbd3cac8>"
      ]
     },
     "execution_count": 17,
     "metadata": {},
     "output_type": "execute_result"
    },
    {
     "data": {
      "image/png": "[encoded data removed]",
      "text/plain": [
       "<Figure size 432x288 with 1 Axes>"
      ]
     },
     "metadata": {
      "needs_background": "light"
     },
     "output_type": "display_data"
    }
   ],
   "source": [
    "plt.scatter(np.arange(0.1, 1.0, 0.1), env_means)\n",
    "plt.scatter(np.arange(0.1, 1.0, 0.1), norm_factors)"
   ]
  },
  {
   "cell_type": "code",
   "execution_count": 18,
   "metadata": {},
   "outputs": [
    {
     "data": {
      "image/png": "[encoded data removed]",
      "text/plain": [
       "<Figure size 432x288 with 1 Axes>"
      ]
     },
     "metadata": {
      "needs_background": "light"
     },
     "output_type": "display_data"
    }
   ],
   "source": [
    "\n",
    "plt.errorbar(np.arange(0.1, 1.0, 0.1),\n",
    "             env_means / norm_factors,\n",
    "             env_stds / norm_factors, \n",
    "             c='k', marker='o', ls='none'\n",
    "            )\n",
    "plt.ylabel('Validation RMSE (normalized)', fontsize=12)\n",
    "plt.xlabel(r'Validation $\\delta_5$ central quantile', fontsize=12)\n",
    "\n",
    "\n",
    "for i in range(len(env_means)):\n",
    "    d5_mean = f'${logd5_means[i]:.2f}$'\n",
    "    plt.text(x=np.arange(0.1, 1.0, 0.1)[i] - 0.03, \n",
    "             y=0.785, # env_results[i,1] / norm_factors[i]+2e-3, \n",
    "             s=d5_mean, #d5_range, \n",
    "             rotation=60,\n",
    "             va='top',\n",
    "             fontsize=12\n",
    "            )\n",
    "    \n",
    "plt.axhline(0.3460 / overall_std, c='C3')\n",
    "plt.axhspan((0.3460 - 0.0479) / overall_std,\n",
    "            (0.3460 + 0.0479) / overall_std,\n",
    "            alpha=0.3, lw=0,\n",
    "            color='C3'\n",
    "           )\n",
    "    \n",
    "plt.text(0.95, 0.4, 'xGASS', fontsize=24, ha='right')    \n",
    "    \n",
    "plt.ylim(0.37, 0.79)\n",
    "plt.xlim(0.0, 1.0);\n",
    "\n",
    "plt.savefig(f'{PATH}/results/figures/environment-trends-xGASS.pdf')\n"
   ]
  },
  {
   "cell_type": "code",
   "execution_count": null,
   "metadata": {},
   "outputs": [],
   "source": []
  }
 ],
 "metadata": {
  "kernelspec": {
   "display_name": "Python 3",
   "language": "python",
   "name": "python3"
  },
  "language_info": {
   "codemirror_mode": {
    "name": "ipython",
    "version": 3
   },
   "file_extension": ".py",
   "mimetype": "text/x-python",
   "name": "python",
   "nbconvert_exporter": "python",
   "pygments_lexer": "ipython3",
   "version": "3.7.3"
  },
  "toc": {
   "base_numbering": 1,
   "nav_menu": {},
   "number_sections": true,
   "sideBar": true,
   "skip_h1_title": false,
   "title_cell": "Table of Contents",
   "title_sidebar": "Contents",
   "toc_cell": false,
   "toc_position": {},
   "toc_section_display": true,
   "toc_window_display": false
  }
 },
 "nbformat": 4,
 "nbformat_minor": 2
}
