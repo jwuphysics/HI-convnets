{
  "nbformat": 4,
  "nbformat_minor": 0,
  "metadata": {
    "kernelspec": {
      "name": "python3",
      "display_name": "Python 3"
    },
    "language_info": {
      "codemirror_mode": {
        "name": "ipython",
        "version": 3
      },
      "file_extension": ".py",
      "mimetype": "text/x-python",
      "name": "python",
      "nbconvert_exporter": "python",
      "pygments_lexer": "ipython3",
      "version": "3.7.4"
    },
    "colab": {
      "name": "COLAB - Training xGASS.ipynb",
      "provenance": [],
      "collapsed_sections": []
    },
    "accelerator": "GPU"
  },
  "cells": [
    {
      "cell_type": "code",
      "metadata": {
        "id": "LNvA80whXqw_",
        "colab_type": "code",
        "outputId": "39fb1e9d-044c-4199-b927-3a820ef9d299",
        "colab": {
          "base_uri": "https://localhost:8080/",
          "height": 35
        }
      },
      "source": [
        "from google.colab import drive\n",
        "drive.mount('/content/drive', force_remount=True)"
      ],
      "execution_count": 1,
      "outputs": [
        {
          "output_type": "stream",
          "text": [
            "Mounted at /content/drive\n"
          ],
          "name": "stdout"
        }
      ]
    },
    {
      "cell_type": "code",
      "metadata": {
        "id": "DTQUGtZmXoKI",
        "colab_type": "code",
        "outputId": "61e24241-9508-45b8-cf0b-848fde0a1cfd",
        "colab": {
          "base_uri": "https://localhost:8080/",
          "height": 35
        }
      },
      "source": [
        "from fastai import *\n",
        "from fastai.vision import *\n",
        "\n",
        "# !pip install gpustat\n",
        "\n",
        "%matplotlib inline\n",
        "\n",
        "%cd /content/drive/My\\ Drive/alfalfa-convnets\n",
        "\n",
        "PATH = os.path.abspath('.')\n",
        "\n",
        "seed = 12345"
      ],
      "execution_count": 2,
      "outputs": [
        {
          "output_type": "stream",
          "text": [
            "/content/drive/My Drive/alfalfa-convnets\n"
          ],
          "name": "stdout"
        }
      ]
    },
    {
      "cell_type": "code",
      "metadata": {
        "id": "8AMROsCGXoKU",
        "colab_type": "code",
        "outputId": "c8a2e726-dc03-408a-9cac-2f80fd0fc836",
        "colab": {
          "base_uri": "https://localhost:8080/",
          "height": 53
        }
      },
      "source": [
        "sys.path.append(f'{PATH}/src')\n",
        "\n",
        "from mxresnet import *\n",
        "from ranger import Ranger"
      ],
      "execution_count": 3,
      "outputs": [
        {
          "output_type": "stream",
          "text": [
            "Mish activation loaded...\n",
            "Mish activation loaded...\n"
          ],
          "name": "stdout"
        }
      ]
    },
    {
      "cell_type": "markdown",
      "metadata": {
        "id": "bUlxurrfXoKf",
        "colab_type": "text"
      },
      "source": [
        "# Train"
      ]
    },
    {
      "cell_type": "code",
      "metadata": {
        "scrolled": false,
        "id": "EmX7njXUXoKn",
        "colab_type": "code",
        "outputId": "1dec7d41-040d-4e23-9408-406462490773",
        "colab": {
          "base_uri": "https://localhost:8080/",
          "height": 1000
        }
      },
      "source": [
        "lr = \"6e-2\"\n",
        "bs = \"64\"\n",
        "n_epochs = \"40\"\n",
        "val_pct = f\"{541/1197}\"\n",
        "\n",
        "%run -i \"/content/drive/My Drive/alfalfa-convnets/src/train_xGASS.py\" \\\n",
        "    --environment=True --model=mxresnet34 --val-pct={val_pct}\\\n",
        "    --lr={lr} --bs={bs} --n_epochs={n_epochs} \\\n",
        "    --precision=full --seed={seed} \\\n",
        "    --save=\"best_xGASS_environment-34\""
      ],
      "execution_count": 5,
      "outputs": [
        {
          "output_type": "stream",
          "text": [
            "Loaded xGASS catalog of length 1179\n"
          ],
          "name": "stdout"
        },
        {
          "output_type": "display_data",
          "data": {
            "text/html": [
              "<table border=\"1\" class=\"dataframe\">\n",
              "  <thead>\n",
              "    <tr style=\"text-align: left;\">\n",
              "      <th>epoch</th>\n",
              "      <th>train_loss</th>\n",
              "      <th>valid_loss</th>\n",
              "      <th>time</th>\n",
              "    </tr>\n",
              "  </thead>\n",
              "  <tbody>\n",
              "    <tr>\n",
              "      <td>0</td>\n",
              "      <td>0.837212</td>\n",
              "      <td>0.791628</td>\n",
              "      <td>00:11</td>\n",
              "    </tr>\n",
              "    <tr>\n",
              "      <td>1</td>\n",
              "      <td>0.653153</td>\n",
              "      <td>0.644269</td>\n",
              "      <td>00:11</td>\n",
              "    </tr>\n",
              "    <tr>\n",
              "      <td>2</td>\n",
              "      <td>0.588190</td>\n",
              "      <td>0.661267</td>\n",
              "      <td>00:11</td>\n",
              "    </tr>\n",
              "    <tr>\n",
              "      <td>3</td>\n",
              "      <td>0.534476</td>\n",
              "      <td>0.671565</td>\n",
              "      <td>00:11</td>\n",
              "    </tr>\n",
              "    <tr>\n",
              "      <td>4</td>\n",
              "      <td>0.499860</td>\n",
              "      <td>0.808309</td>\n",
              "      <td>00:11</td>\n",
              "    </tr>\n",
              "    <tr>\n",
              "      <td>5</td>\n",
              "      <td>0.473635</td>\n",
              "      <td>0.753685</td>\n",
              "      <td>00:11</td>\n",
              "    </tr>\n",
              "    <tr>\n",
              "      <td>6</td>\n",
              "      <td>0.453480</td>\n",
              "      <td>1.206466</td>\n",
              "      <td>00:11</td>\n",
              "    </tr>\n",
              "    <tr>\n",
              "      <td>7</td>\n",
              "      <td>0.439931</td>\n",
              "      <td>0.519092</td>\n",
              "      <td>00:11</td>\n",
              "    </tr>\n",
              "    <tr>\n",
              "      <td>8</td>\n",
              "      <td>0.426938</td>\n",
              "      <td>0.407736</td>\n",
              "      <td>00:11</td>\n",
              "    </tr>\n",
              "    <tr>\n",
              "      <td>9</td>\n",
              "      <td>0.420338</td>\n",
              "      <td>0.443241</td>\n",
              "      <td>00:11</td>\n",
              "    </tr>\n",
              "    <tr>\n",
              "      <td>10</td>\n",
              "      <td>0.414714</td>\n",
              "      <td>1.022728</td>\n",
              "      <td>00:11</td>\n",
              "    </tr>\n",
              "    <tr>\n",
              "      <td>11</td>\n",
              "      <td>0.416982</td>\n",
              "      <td>0.550072</td>\n",
              "      <td>00:11</td>\n",
              "    </tr>\n",
              "    <tr>\n",
              "      <td>12</td>\n",
              "      <td>0.416529</td>\n",
              "      <td>0.407043</td>\n",
              "      <td>00:11</td>\n",
              "    </tr>\n",
              "    <tr>\n",
              "      <td>13</td>\n",
              "      <td>0.412433</td>\n",
              "      <td>0.793841</td>\n",
              "      <td>00:11</td>\n",
              "    </tr>\n",
              "    <tr>\n",
              "      <td>14</td>\n",
              "      <td>0.402993</td>\n",
              "      <td>0.355997</td>\n",
              "      <td>00:11</td>\n",
              "    </tr>\n",
              "    <tr>\n",
              "      <td>15</td>\n",
              "      <td>0.396605</td>\n",
              "      <td>0.471404</td>\n",
              "      <td>00:11</td>\n",
              "    </tr>\n",
              "    <tr>\n",
              "      <td>16</td>\n",
              "      <td>0.394377</td>\n",
              "      <td>0.696418</td>\n",
              "      <td>00:11</td>\n",
              "    </tr>\n",
              "    <tr>\n",
              "      <td>17</td>\n",
              "      <td>0.391157</td>\n",
              "      <td>0.365723</td>\n",
              "      <td>00:11</td>\n",
              "    </tr>\n",
              "    <tr>\n",
              "      <td>18</td>\n",
              "      <td>0.390027</td>\n",
              "      <td>0.521746</td>\n",
              "      <td>00:11</td>\n",
              "    </tr>\n",
              "    <tr>\n",
              "      <td>19</td>\n",
              "      <td>0.386660</td>\n",
              "      <td>0.418962</td>\n",
              "      <td>00:11</td>\n",
              "    </tr>\n",
              "    <tr>\n",
              "      <td>20</td>\n",
              "      <td>0.384946</td>\n",
              "      <td>0.383028</td>\n",
              "      <td>00:11</td>\n",
              "    </tr>\n",
              "    <tr>\n",
              "      <td>21</td>\n",
              "      <td>0.381650</td>\n",
              "      <td>0.334753</td>\n",
              "      <td>00:11</td>\n",
              "    </tr>\n",
              "    <tr>\n",
              "      <td>22</td>\n",
              "      <td>0.378852</td>\n",
              "      <td>0.421687</td>\n",
              "      <td>00:11</td>\n",
              "    </tr>\n",
              "    <tr>\n",
              "      <td>23</td>\n",
              "      <td>0.378776</td>\n",
              "      <td>0.540572</td>\n",
              "      <td>00:11</td>\n",
              "    </tr>\n",
              "    <tr>\n",
              "      <td>24</td>\n",
              "      <td>0.377652</td>\n",
              "      <td>0.789158</td>\n",
              "      <td>00:11</td>\n",
              "    </tr>\n",
              "    <tr>\n",
              "      <td>25</td>\n",
              "      <td>0.375097</td>\n",
              "      <td>0.591491</td>\n",
              "      <td>00:11</td>\n",
              "    </tr>\n",
              "    <tr>\n",
              "      <td>26</td>\n",
              "      <td>0.386985</td>\n",
              "      <td>0.447013</td>\n",
              "      <td>00:11</td>\n",
              "    </tr>\n",
              "    <tr>\n",
              "      <td>27</td>\n",
              "      <td>0.392516</td>\n",
              "      <td>0.340985</td>\n",
              "      <td>00:11</td>\n",
              "    </tr>\n",
              "    <tr>\n",
              "      <td>28</td>\n",
              "      <td>0.388497</td>\n",
              "      <td>0.425885</td>\n",
              "      <td>00:11</td>\n",
              "    </tr>\n",
              "    <tr>\n",
              "      <td>29</td>\n",
              "      <td>0.384453</td>\n",
              "      <td>0.360954</td>\n",
              "      <td>00:11</td>\n",
              "    </tr>\n",
              "    <tr>\n",
              "      <td>30</td>\n",
              "      <td>0.381260</td>\n",
              "      <td>0.470771</td>\n",
              "      <td>00:11</td>\n",
              "    </tr>\n",
              "    <tr>\n",
              "      <td>31</td>\n",
              "      <td>0.375168</td>\n",
              "      <td>0.362408</td>\n",
              "      <td>00:11</td>\n",
              "    </tr>\n",
              "    <tr>\n",
              "      <td>32</td>\n",
              "      <td>0.373287</td>\n",
              "      <td>0.758847</td>\n",
              "      <td>00:11</td>\n",
              "    </tr>\n",
              "    <tr>\n",
              "      <td>33</td>\n",
              "      <td>0.368207</td>\n",
              "      <td>0.385909</td>\n",
              "      <td>00:11</td>\n",
              "    </tr>\n",
              "    <tr>\n",
              "      <td>34</td>\n",
              "      <td>0.361351</td>\n",
              "      <td>0.352283</td>\n",
              "      <td>00:11</td>\n",
              "    </tr>\n",
              "    <tr>\n",
              "      <td>35</td>\n",
              "      <td>0.362804</td>\n",
              "      <td>0.359755</td>\n",
              "      <td>00:11</td>\n",
              "    </tr>\n",
              "    <tr>\n",
              "      <td>36</td>\n",
              "      <td>0.358065</td>\n",
              "      <td>0.336690</td>\n",
              "      <td>00:11</td>\n",
              "    </tr>\n",
              "    <tr>\n",
              "      <td>37</td>\n",
              "      <td>0.351235</td>\n",
              "      <td>0.332244</td>\n",
              "      <td>00:11</td>\n",
              "    </tr>\n",
              "    <tr>\n",
              "      <td>38</td>\n",
              "      <td>0.345226</td>\n",
              "      <td>0.332136</td>\n",
              "      <td>00:11</td>\n",
              "    </tr>\n",
              "    <tr>\n",
              "      <td>39</td>\n",
              "      <td>0.339775</td>\n",
              "      <td>0.334518</td>\n",
              "      <td>00:12</td>\n",
              "    </tr>\n",
              "  </tbody>\n",
              "</table>"
            ],
            "text/plain": [
              "<IPython.core.display.HTML object>"
            ]
          },
          "metadata": {
            "tags": []
          }
        },
        {
          "output_type": "stream",
          "text": [
            "Better model found at epoch 0 with valid_loss value: 0.7916277050971985.\n",
            "Better model found at epoch 1 with valid_loss value: 0.6442688703536987.\n",
            "Better model found at epoch 7 with valid_loss value: 0.519091784954071.\n",
            "Better model found at epoch 8 with valid_loss value: 0.407736212015152.\n",
            "Better model found at epoch 12 with valid_loss value: 0.4070434272289276.\n",
            "Better model found at epoch 14 with valid_loss value: 0.35599657893180847.\n",
            "Better model found at epoch 21 with valid_loss value: 0.33475297689437866.\n",
            "Better model found at epoch 37 with valid_loss value: 0.33224350214004517.\n",
            "Better model found at epoch 38 with valid_loss value: 0.3321360647678375.\n",
            "set state called\n"
          ],
          "name": "stdout"
        }
      ]
    },
    {
      "cell_type": "markdown",
      "metadata": {
        "id": "d_sfi54iXoKu",
        "colab_type": "text"
      },
      "source": [
        "The best model is saved in `{PATH}/models/best_a40.pth`, unless another filename has been specified."
      ]
    },
    {
      "cell_type": "markdown",
      "metadata": {
        "id": "WQBftkPtXoKx",
        "colab_type": "text"
      },
      "source": [
        "## Experimental results\n",
        "    \n",
        "    Results (split: isolated, 1cycle)\n",
        "                                           \n",
        "      n_epoch  max_lr  arch  bs    Val loss  TTA loss    time\n",
        "         40     3e-2    18   32      0.342     0.350     6:27\n",
        "         40     6e-2    18   32      0.328     0.331     6:43\n",
        "         40    10e-2    18   32      0.324     0.324     6:43\n",
        "         40     6e-2    18   64      0.338     0.344     6:13\n",
        "         40    10e-2    18   64      0.331     0.331     6:10\n",
        "\n",
        "         40     3e-2    34   32      0.338     0.344     9:20\n",
        "         40     6e-2    34   32      0.327     0.325     9:44\n",
        "         40    10e-2    34   32      0.328     0.326     9:50\n",
        "         40    20e-2    34   32      0.319     0.316     9:38\n",
        "         40    40e-2    34   32      0.331     0.329     9:40\n",
        "         40     3e-2    34   64      0.337     0.336     8:25\n",
        "         40     6e-2    34   64      0.322     0.324     8:25\n",
        "       ★ 40    10e-2    34   64      0.315     0.313     8:37\n",
        "         40    20e-2    34   64      0.322     0.322     8:30\n",
        "         40    30e-2    34   64      0.322     0.319     8:20\n",
        "\n",
        "        100    30e-2    34   64      0.327     0.324    20:35\n",
        "\n",
        "    Results (split: isolated, flat+cosine)\n",
        "\n",
        "         40     6e-2    34   64      0.332     0.334     8:00\n",
        "         40    10e-2    34   64      0.334     -----     7:52                 \n",
        "\n",
        "    Results (split: random, 1cycle)\n",
        "\n",
        "      n_epoch  max_lr  arch  bs    Val loss  TTA loss    time\n",
        "         40    10e-2    18   32      0.324     0.326     6:51\n",
        "\n",
        "         40    10e-2    34   64      0.335     0.333     8:37\n",
        "         40    30e-2    34   64      0.334     0.330     8:50\n",
        "         \n",
        "\n",
        "\n",
        "        "
      ]
    },
    {
      "cell_type": "markdown",
      "metadata": {
        "id": "AU4ZVMcCXoK3",
        "colab_type": "text"
      },
      "source": [
        "# Evaluate"
      ]
    },
    {
      "cell_type": "code",
      "metadata": {
        "id": "dZ9y2FgJOpVH",
        "colab_type": "code",
        "colab": {
          "base_uri": "https://localhost:8080/",
          "height": 208
        },
        "outputId": "de715424-e6b4-4e84-ab07-14c54bb9e8ad"
      },
      "source": [
        "context = \"environment\"    \n",
        "# context = \"random\"\n",
        "learn.load(f'best_xGASS_{context}-34_flatcosine');"
      ],
      "execution_count": 4,
      "outputs": [
        {
          "output_type": "error",
          "ename": "NameError",
          "evalue": "ignored",
          "traceback": [
            "\u001b[0;31m---------------------------------------------------------------------------\u001b[0m",
            "\u001b[0;31mNameError\u001b[0m                                 Traceback (most recent call last)",
            "\u001b[0;32m<ipython-input-4-261cee538708>\u001b[0m in \u001b[0;36m<module>\u001b[0;34m()\u001b[0m\n\u001b[1;32m      1\u001b[0m \u001b[0mcontext\u001b[0m \u001b[0;34m=\u001b[0m \u001b[0;34m\"environment\"\u001b[0m\u001b[0;34m\u001b[0m\u001b[0;34m\u001b[0m\u001b[0m\n\u001b[1;32m      2\u001b[0m \u001b[0;31m# context = \"random\"\u001b[0m\u001b[0;34m\u001b[0m\u001b[0;34m\u001b[0m\u001b[0;34m\u001b[0m\u001b[0m\n\u001b[0;32m----> 3\u001b[0;31m \u001b[0mlearn\u001b[0m\u001b[0;34m.\u001b[0m\u001b[0mload\u001b[0m\u001b[0;34m(\u001b[0m\u001b[0;34mf'best_xGASS_{context}-34_flatcosine'\u001b[0m\u001b[0;34m)\u001b[0m\u001b[0;34m;\u001b[0m\u001b[0;34m\u001b[0m\u001b[0;34m\u001b[0m\u001b[0m\n\u001b[0m",
            "\u001b[0;31mNameError\u001b[0m: name 'learn' is not defined"
          ]
        }
      ]
    },
    {
      "cell_type": "code",
      "metadata": {
        "id": "3SOgAPgqXoLC",
        "colab_type": "code",
        "outputId": "c29e6082-4b3a-4c57-a6d4-f2661fbd69fe",
        "colab": {
          "base_uri": "https://localhost:8080/",
          "height": 35
        }
      },
      "source": [
        "learn.to_fp32();\n",
        "fgas_pred, fgas_true = learn.TTA(scale=1.)\n",
        "root_mean_squared_error(fgas_pred, fgas_true)"
      ],
      "execution_count": 6,
      "outputs": [
        {
          "output_type": "display_data",
          "data": {
            "text/html": [
              ""
            ],
            "text/plain": [
              "<IPython.core.display.HTML object>"
            ]
          },
          "metadata": {
            "tags": []
          }
        },
        {
          "output_type": "execute_result",
          "data": {
            "text/plain": [
              "tensor(0.3335)"
            ]
          },
          "metadata": {
            "tags": []
          },
          "execution_count": 6
        }
      ]
    },
    {
      "cell_type": "markdown",
      "metadata": {
        "id": "JxJjjEHQXoLI",
        "colab_type": "text"
      },
      "source": [
        "# Plot"
      ]
    },
    {
      "cell_type": "code",
      "metadata": {
        "id": "FYWksoK8XoLK",
        "colab_type": "code",
        "colab": {}
      },
      "source": [
        "results = pd.DataFrame({'fgas_pred': fgas_pred.squeeze(), 'fgas_true': fgas_true.squeeze()})\n",
        "results['GASS'] = np.array([os.path.basename(fn).strip('.jpg') for fn in data.valid_ds.items])\n",
        "results.set_index('GASS', drop=True, inplace=True)\n"
      ],
      "execution_count": 0,
      "outputs": []
    },
    {
      "cell_type": "code",
      "metadata": {
        "scrolled": false,
        "id": "SlZbYcEIXoLR",
        "colab_type": "code",
        "colab": {}
      },
      "source": [
        "\n",
        "plt.figure(figsize=(6.2, 5), dpi=150)\n",
        "plt.hist2d(results.fgas_true, results.fgas_pred, cmap='Reds', range=[(-2.5, 1.), (-2.5, 1.)], bins=21);\n",
        "plt.plot([-2.5, 2.5], [-2.5, 2.5], c='black', ls='-', lw=2)\n",
        "plt.gca().set_aspect('equal')\n",
        "plt.colorbar();\n",
        "plt.xlabel(r'$\\mu_{\\rm true}$', fontsize=12)\n",
        "plt.ylabel(r'$\\mu_{\\rm pred}$', fontsize=12);\n",
        "plt.xticks(np.arange(-2.5, 1.5, .5))\n",
        "plt.yticks(np.arange(-2.5, 1.5, .5));\n",
        "\n",
        "plt.text(-2.3, 0.5, f'{context} \\n' + f'RMSE = {root_mean_squared_error(fgas_pred, fgas_true):.2f}', fontsize=12);\n",
        "\n",
        "# terrible terrible way to determine which catalog we're using\n",
        "catalog_id = \"B\" if len(df) == 4797 else \"A\"\n",
        "plt.savefig(f'{PATH}/results/figures/results-hist_xGASS-{context}')"
      ],
      "execution_count": 0,
      "outputs": []
    },
    {
      "cell_type": "code",
      "metadata": {
        "id": "GrMwendqXoLb",
        "colab_type": "code",
        "colab": {}
      },
      "source": [
        ""
      ],
      "execution_count": 0,
      "outputs": []
    }
  ]
}