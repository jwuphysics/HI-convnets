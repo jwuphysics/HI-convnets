{
 "cells": [
  {
   "cell_type": "markdown",
   "metadata": {},
   "source": [
    "# Interpreting CNN predictions "
   ]
  },
  {
   "cell_type": "code",
   "execution_count": 2,
   "metadata": {},
   "outputs": [],
   "source": [
    "import matplotlib.pyplot as plt\n",
    "import numpy as np\n",
    "import pandas as pd\n",
    "import seaborn as sns\n",
    "\n",
    "import os\n",
    "\n",
    "PATH = os.path.abspath('..')\n",
    "\n",
    "%matplotlib inline"
   ]
  },
  {
   "cell_type": "code",
   "execution_count": 4,
   "metadata": {},
   "outputs": [
    {
     "data": {
      "text/html": [
       "<div>\n",
       "<style scoped>\n",
       "    .dataframe tbody tr th:only-of-type {\n",
       "        vertical-align: middle;\n",
       "    }\n",
       "\n",
       "    .dataframe tbody tr th {\n",
       "        vertical-align: top;\n",
       "    }\n",
       "\n",
       "    .dataframe thead th {\n",
       "        text-align: right;\n",
       "    }\n",
       "</style>\n",
       "<table border=\"1\" class=\"dataframe\">\n",
       "  <thead>\n",
       "    <tr style=\"text-align: right;\">\n",
       "      <th></th>\n",
       "      <th>fgas_pred</th>\n",
       "      <th>fgas_true</th>\n",
       "    </tr>\n",
       "    <tr>\n",
       "      <th>GASS</th>\n",
       "      <th></th>\n",
       "      <th></th>\n",
       "    </tr>\n",
       "  </thead>\n",
       "  <tbody>\n",
       "    <tr>\n",
       "      <td>28551</td>\n",
       "      <td>-1.755909</td>\n",
       "      <td>-1.780</td>\n",
       "    </tr>\n",
       "    <tr>\n",
       "      <td>30192</td>\n",
       "      <td>-1.606783</td>\n",
       "      <td>-1.775</td>\n",
       "    </tr>\n",
       "    <tr>\n",
       "      <td>20041</td>\n",
       "      <td>-1.267461</td>\n",
       "      <td>-0.905</td>\n",
       "    </tr>\n",
       "  </tbody>\n",
       "</table>\n",
       "</div>"
      ],
      "text/plain": [
       "       fgas_pred  fgas_true\n",
       "GASS                       \n",
       "28551  -1.755909     -1.780\n",
       "30192  -1.606783     -1.775\n",
       "20041  -1.267461     -0.905"
      ]
     },
     "execution_count": 4,
     "metadata": {},
     "output_type": "execute_result"
    }
   ],
   "source": [
    "preds = pd.read_csv(f'{PATH}/results/predictions/best_xGASS-34.csv', index_col=0)\n",
    "preds.sample(3)"
   ]
  },
  {
   "cell_type": "code",
   "execution_count": 5,
   "metadata": {},
   "outputs": [
    {
     "data": {
      "text/html": [
       "<div>\n",
       "<style scoped>\n",
       "    .dataframe tbody tr th:only-of-type {\n",
       "        vertical-align: middle;\n",
       "    }\n",
       "\n",
       "    .dataframe tbody tr th {\n",
       "        vertical-align: top;\n",
       "    }\n",
       "\n",
       "    .dataframe thead th {\n",
       "        text-align: right;\n",
       "    }\n",
       "</style>\n",
       "<table border=\"1\" class=\"dataframe\">\n",
       "  <thead>\n",
       "    <tr style=\"text-align: right;\">\n",
       "      <th></th>\n",
       "      <th>AGCnr</th>\n",
       "      <th>SDSS</th>\n",
       "      <th>PLATEID</th>\n",
       "      <th>MJD</th>\n",
       "      <th>FIBERID</th>\n",
       "      <th>RA</th>\n",
       "      <th>DEC</th>\n",
       "      <th>zSDSS</th>\n",
       "      <th>Dlum</th>\n",
       "      <th>lgMstar</th>\n",
       "      <th>...</th>\n",
       "      <th>lgGF</th>\n",
       "      <th>HIconf_flag</th>\n",
       "      <th>weight</th>\n",
       "      <th>group_id_B</th>\n",
       "      <th>NYU_id</th>\n",
       "      <th>env_code_B</th>\n",
       "      <th>Ngal_B</th>\n",
       "      <th>yang_shred_code</th>\n",
       "      <th>logMh_Mst_B</th>\n",
       "      <th>lvir_ratB</th>\n",
       "    </tr>\n",
       "    <tr>\n",
       "      <th>GASS</th>\n",
       "      <th></th>\n",
       "      <th></th>\n",
       "      <th></th>\n",
       "      <th></th>\n",
       "      <th></th>\n",
       "      <th></th>\n",
       "      <th></th>\n",
       "      <th></th>\n",
       "      <th></th>\n",
       "      <th></th>\n",
       "      <th></th>\n",
       "      <th></th>\n",
       "      <th></th>\n",
       "      <th></th>\n",
       "      <th></th>\n",
       "      <th></th>\n",
       "      <th></th>\n",
       "      <th></th>\n",
       "      <th></th>\n",
       "      <th></th>\n",
       "      <th></th>\n",
       "    </tr>\n",
       "  </thead>\n",
       "  <tbody>\n",
       "    <tr>\n",
       "      <td>27204</td>\n",
       "      <td>100564</td>\n",
       "      <td>J004735.13+140918.4</td>\n",
       "      <td>419</td>\n",
       "      <td>51868</td>\n",
       "      <td>57</td>\n",
       "      <td>11.89638</td>\n",
       "      <td>14.15513</td>\n",
       "      <td>0.03865</td>\n",
       "      <td>170.4</td>\n",
       "      <td>10.263</td>\n",
       "      <td>...</td>\n",
       "      <td>-0.213</td>\n",
       "      <td>0.0</td>\n",
       "      <td>0.681</td>\n",
       "      <td>62651</td>\n",
       "      <td>148603</td>\n",
       "      <td>1</td>\n",
       "      <td>1</td>\n",
       "      <td>0</td>\n",
       "      <td>11.8587</td>\n",
       "      <td>-4.104202</td>\n",
       "    </tr>\n",
       "    <tr>\n",
       "      <td>10150</td>\n",
       "      <td>252953</td>\n",
       "      <td>J150026.75+041044.4</td>\n",
       "      <td>589</td>\n",
       "      <td>52055</td>\n",
       "      <td>428</td>\n",
       "      <td>225.11148</td>\n",
       "      <td>4.17902</td>\n",
       "      <td>0.03279</td>\n",
       "      <td>144.0</td>\n",
       "      <td>10.531</td>\n",
       "      <td>...</td>\n",
       "      <td>-1.810</td>\n",
       "      <td>-99.0</td>\n",
       "      <td>0.634</td>\n",
       "      <td>129228</td>\n",
       "      <td>491490</td>\n",
       "      <td>1</td>\n",
       "      <td>1</td>\n",
       "      <td>0</td>\n",
       "      <td>11.9790</td>\n",
       "      <td>-3.680381</td>\n",
       "    </tr>\n",
       "    <tr>\n",
       "      <td>42020</td>\n",
       "      <td>252814</td>\n",
       "      <td>J151516.46+063918.5</td>\n",
       "      <td>1817</td>\n",
       "      <td>53851</td>\n",
       "      <td>150</td>\n",
       "      <td>228.81860</td>\n",
       "      <td>6.65515</td>\n",
       "      <td>0.03516</td>\n",
       "      <td>154.6</td>\n",
       "      <td>10.514</td>\n",
       "      <td>...</td>\n",
       "      <td>-1.819</td>\n",
       "      <td>-99.0</td>\n",
       "      <td>0.634</td>\n",
       "      <td>23</td>\n",
       "      <td>1368460</td>\n",
       "      <td>0</td>\n",
       "      <td>125</td>\n",
       "      <td>0</td>\n",
       "      <td>14.4598</td>\n",
       "      <td>-0.177287</td>\n",
       "    </tr>\n",
       "  </tbody>\n",
       "</table>\n",
       "<p>3 rows × 41 columns</p>\n",
       "</div>"
      ],
      "text/plain": [
       "        AGCnr                 SDSS  PLATEID    MJD  FIBERID         RA  \\\n",
       "GASS                                                                     \n",
       "27204  100564  J004735.13+140918.4      419  51868       57   11.89638   \n",
       "10150  252953  J150026.75+041044.4      589  52055      428  225.11148   \n",
       "42020  252814  J151516.46+063918.5     1817  53851      150  228.81860   \n",
       "\n",
       "            DEC    zSDSS   Dlum  lgMstar  ...   lgGF  HIconf_flag  weight  \\\n",
       "GASS                                      ...                               \n",
       "27204  14.15513  0.03865  170.4   10.263  ... -0.213          0.0   0.681   \n",
       "10150   4.17902  0.03279  144.0   10.531  ... -1.810        -99.0   0.634   \n",
       "42020   6.65515  0.03516  154.6   10.514  ... -1.819        -99.0   0.634   \n",
       "\n",
       "       group_id_B   NYU_id  env_code_B  Ngal_B  yang_shred_code  logMh_Mst_B  \\\n",
       "GASS                                                                           \n",
       "27204       62651   148603           1       1                0      11.8587   \n",
       "10150      129228   491490           1       1                0      11.9790   \n",
       "42020          23  1368460           0     125                0      14.4598   \n",
       "\n",
       "       lvir_ratB  \n",
       "GASS              \n",
       "27204  -4.104202  \n",
       "10150  -3.680381  \n",
       "42020  -0.177287  \n",
       "\n",
       "[3 rows x 41 columns]"
      ]
     },
     "execution_count": 5,
     "metadata": {},
     "output_type": "execute_result"
    }
   ],
   "source": [
    "data = pd.read_csv(f'{PATH}/data/xGASS_representative_sample.csv', index_col=0)\n",
    "data.sample(3)"
   ]
  },
  {
   "cell_type": "code",
   "execution_count": 6,
   "metadata": {},
   "outputs": [],
   "source": [
    "# get Δfgas\n",
    "preds['d_fgas'] = preds.fgas_pred - preds.fgas_true"
   ]
  },
  {
   "cell_type": "code",
   "execution_count": 9,
   "metadata": {},
   "outputs": [
    {
     "data": {
      "text/html": [
       "<div>\n",
       "<style scoped>\n",
       "    .dataframe tbody tr th:only-of-type {\n",
       "        vertical-align: middle;\n",
       "    }\n",
       "\n",
       "    .dataframe tbody tr th {\n",
       "        vertical-align: top;\n",
       "    }\n",
       "\n",
       "    .dataframe thead th {\n",
       "        text-align: right;\n",
       "    }\n",
       "</style>\n",
       "<table border=\"1\" class=\"dataframe\">\n",
       "  <thead>\n",
       "    <tr style=\"text-align: right;\">\n",
       "      <th></th>\n",
       "      <th>fgas_pred</th>\n",
       "      <th>fgas_true</th>\n",
       "      <th>d_fgas</th>\n",
       "      <th>AGCnr</th>\n",
       "      <th>SDSS</th>\n",
       "      <th>PLATEID</th>\n",
       "      <th>MJD</th>\n",
       "      <th>FIBERID</th>\n",
       "      <th>RA</th>\n",
       "      <th>DEC</th>\n",
       "      <th>...</th>\n",
       "      <th>lgGF</th>\n",
       "      <th>HIconf_flag</th>\n",
       "      <th>weight</th>\n",
       "      <th>group_id_B</th>\n",
       "      <th>NYU_id</th>\n",
       "      <th>env_code_B</th>\n",
       "      <th>Ngal_B</th>\n",
       "      <th>yang_shred_code</th>\n",
       "      <th>logMh_Mst_B</th>\n",
       "      <th>lvir_ratB</th>\n",
       "    </tr>\n",
       "    <tr>\n",
       "      <th>GASS</th>\n",
       "      <th></th>\n",
       "      <th></th>\n",
       "      <th></th>\n",
       "      <th></th>\n",
       "      <th></th>\n",
       "      <th></th>\n",
       "      <th></th>\n",
       "      <th></th>\n",
       "      <th></th>\n",
       "      <th></th>\n",
       "      <th></th>\n",
       "      <th></th>\n",
       "      <th></th>\n",
       "      <th></th>\n",
       "      <th></th>\n",
       "      <th></th>\n",
       "      <th></th>\n",
       "      <th></th>\n",
       "      <th></th>\n",
       "      <th></th>\n",
       "      <th></th>\n",
       "    </tr>\n",
       "  </thead>\n",
       "  <tbody>\n",
       "    <tr>\n",
       "      <td>112002</td>\n",
       "      <td>-1.179439</td>\n",
       "      <td>-1.054005</td>\n",
       "      <td>-0.125434</td>\n",
       "      <td>0</td>\n",
       "      <td>J125756.51+272256.2</td>\n",
       "      <td>2240</td>\n",
       "      <td>53823</td>\n",
       "      <td>105</td>\n",
       "      <td>194.48549</td>\n",
       "      <td>27.38230</td>\n",
       "      <td>...</td>\n",
       "      <td>-1.054</td>\n",
       "      <td>-99.0</td>\n",
       "      <td>2.294</td>\n",
       "      <td>411593</td>\n",
       "      <td>2226159</td>\n",
       "      <td>1</td>\n",
       "      <td>1</td>\n",
       "      <td>0</td>\n",
       "      <td>0.0000</td>\n",
       "      <td>-99.000000</td>\n",
       "    </tr>\n",
       "    <tr>\n",
       "      <td>114044</td>\n",
       "      <td>-1.096489</td>\n",
       "      <td>-0.829551</td>\n",
       "      <td>-0.266938</td>\n",
       "      <td>240062</td>\n",
       "      <td>J140452.67+213800.6</td>\n",
       "      <td>2771</td>\n",
       "      <td>54527</td>\n",
       "      <td>414</td>\n",
       "      <td>211.21948</td>\n",
       "      <td>21.63351</td>\n",
       "      <td>...</td>\n",
       "      <td>-0.830</td>\n",
       "      <td>0.0</td>\n",
       "      <td>0.655</td>\n",
       "      <td>437308</td>\n",
       "      <td>2318405</td>\n",
       "      <td>1</td>\n",
       "      <td>1</td>\n",
       "      <td>0</td>\n",
       "      <td>0.0000</td>\n",
       "      <td>-99.000000</td>\n",
       "    </tr>\n",
       "    <tr>\n",
       "      <td>23441</td>\n",
       "      <td>-1.441944</td>\n",
       "      <td>-0.910000</td>\n",
       "      <td>-0.531944</td>\n",
       "      <td>202671</td>\n",
       "      <td>J105316.22+113820.0</td>\n",
       "      <td>1602</td>\n",
       "      <td>53117</td>\n",
       "      <td>440</td>\n",
       "      <td>163.31760</td>\n",
       "      <td>11.63890</td>\n",
       "      <td>...</td>\n",
       "      <td>-0.910</td>\n",
       "      <td>0.0</td>\n",
       "      <td>0.634</td>\n",
       "      <td>226192</td>\n",
       "      <td>1074980</td>\n",
       "      <td>1</td>\n",
       "      <td>1</td>\n",
       "      <td>0</td>\n",
       "      <td>11.9353</td>\n",
       "      <td>-4.228331</td>\n",
       "    </tr>\n",
       "    <tr>\n",
       "      <td>39605</td>\n",
       "      <td>-1.369617</td>\n",
       "      <td>-1.580000</td>\n",
       "      <td>0.210383</td>\n",
       "      <td>714957</td>\n",
       "      <td>J152559.84+094724.5</td>\n",
       "      <td>1722</td>\n",
       "      <td>53852</td>\n",
       "      <td>302</td>\n",
       "      <td>231.49934</td>\n",
       "      <td>9.79016</td>\n",
       "      <td>...</td>\n",
       "      <td>-1.580</td>\n",
       "      <td>-99.0</td>\n",
       "      <td>0.564</td>\n",
       "      <td>271186</td>\n",
       "      <td>1268351</td>\n",
       "      <td>1</td>\n",
       "      <td>1</td>\n",
       "      <td>0</td>\n",
       "      <td>0.0000</td>\n",
       "      <td>-99.000000</td>\n",
       "    </tr>\n",
       "    <tr>\n",
       "      <td>3851</td>\n",
       "      <td>-1.730950</td>\n",
       "      <td>-1.452000</td>\n",
       "      <td>-0.278950</td>\n",
       "      <td>110459</td>\n",
       "      <td>J013851.94+150258.8</td>\n",
       "      <td>426</td>\n",
       "      <td>51882</td>\n",
       "      <td>453</td>\n",
       "      <td>24.71644</td>\n",
       "      <td>15.04969</td>\n",
       "      <td>...</td>\n",
       "      <td>-1.452</td>\n",
       "      <td>1.0</td>\n",
       "      <td>0.634</td>\n",
       "      <td>2966</td>\n",
       "      <td>153806</td>\n",
       "      <td>0</td>\n",
       "      <td>7</td>\n",
       "      <td>0</td>\n",
       "      <td>12.7530</td>\n",
       "      <td>-0.966298</td>\n",
       "    </tr>\n",
       "  </tbody>\n",
       "</table>\n",
       "<p>5 rows × 44 columns</p>\n",
       "</div>"
      ],
      "text/plain": [
       "        fgas_pred  fgas_true    d_fgas   AGCnr                 SDSS  PLATEID  \\\n",
       "GASS                                                                           \n",
       "112002  -1.179439  -1.054005 -0.125434       0  J125756.51+272256.2     2240   \n",
       "114044  -1.096489  -0.829551 -0.266938  240062  J140452.67+213800.6     2771   \n",
       "23441   -1.441944  -0.910000 -0.531944  202671  J105316.22+113820.0     1602   \n",
       "39605   -1.369617  -1.580000  0.210383  714957  J152559.84+094724.5     1722   \n",
       "3851    -1.730950  -1.452000 -0.278950  110459  J013851.94+150258.8      426   \n",
       "\n",
       "          MJD  FIBERID         RA       DEC  ...   lgGF  HIconf_flag  weight  \\\n",
       "GASS                                         ...                               \n",
       "112002  53823      105  194.48549  27.38230  ... -1.054        -99.0   2.294   \n",
       "114044  54527      414  211.21948  21.63351  ... -0.830          0.0   0.655   \n",
       "23441   53117      440  163.31760  11.63890  ... -0.910          0.0   0.634   \n",
       "39605   53852      302  231.49934   9.79016  ... -1.580        -99.0   0.564   \n",
       "3851    51882      453   24.71644  15.04969  ... -1.452          1.0   0.634   \n",
       "\n",
       "        group_id_B   NYU_id  env_code_B  Ngal_B  yang_shred_code  logMh_Mst_B  \\\n",
       "GASS                                                                            \n",
       "112002      411593  2226159           1       1                0       0.0000   \n",
       "114044      437308  2318405           1       1                0       0.0000   \n",
       "23441       226192  1074980           1       1                0      11.9353   \n",
       "39605       271186  1268351           1       1                0       0.0000   \n",
       "3851          2966   153806           0       7                0      12.7530   \n",
       "\n",
       "        lvir_ratB  \n",
       "GASS               \n",
       "112002 -99.000000  \n",
       "114044 -99.000000  \n",
       "23441   -4.228331  \n",
       "39605  -99.000000  \n",
       "3851    -0.966298  \n",
       "\n",
       "[5 rows x 44 columns]"
      ]
     },
     "execution_count": 9,
     "metadata": {},
     "output_type": "execute_result"
    }
   ],
   "source": [
    "# combine dataframes\n",
    "df = preds.join(data, on='GASS', how='left')\n",
    "df.sample(5)"
   ]
  },
  {
   "cell_type": "markdown",
   "metadata": {},
   "source": [
    "See http://xgass.icrar.org/assets/data/xGASS_representative_sample.readme for details"
   ]
  },
  {
   "cell_type": "code",
   "execution_count": 10,
   "metadata": {},
   "outputs": [
    {
     "data": {
      "text/plain": [
       "Index(['fgas_pred', 'fgas_true', 'd_fgas', 'AGCnr', 'SDSS', 'PLATEID', 'MJD',\n",
       "       'FIBERID', 'RA', 'DEC', 'zSDSS', 'Dlum', 'lgMstar', 'expAB_r',\n",
       "       'model_r', 'merr_r', 'ext_r', 'petrR50_r', 'petrR90_r', 'petrR50_z',\n",
       "       'lgmust', 'CINDX', 'INCL', 'NUVr', 'lgSFR_tot_median', 'SFR_best',\n",
       "       'SFRerr_best', 'SFRcase_best', 'HIsrc', 'HI_FLAG', 'xGASSDR', 'zHI',\n",
       "       'W50cor', 'lgMHI', 'lgGF', 'HIconf_flag', 'weight', 'group_id_B',\n",
       "       'NYU_id', 'env_code_B', 'Ngal_B', 'yang_shred_code', 'logMh_Mst_B',\n",
       "       'lvir_ratB'],\n",
       "      dtype='object')"
      ]
     },
     "execution_count": 10,
     "metadata": {},
     "output_type": "execute_result"
    }
   ],
   "source": [
    "df.columns"
   ]
  },
  {
   "cell_type": "code",
   "execution_count": 53,
   "metadata": {},
   "outputs": [
    {
     "data": {
      "text/plain": [
       "<matplotlib.colorbar.Colorbar at 0x7f75816dfcf8>"
      ]
     },
     "execution_count": 53,
     "metadata": {},
     "output_type": "execute_result"
    },
    {
     "data": {
      "image/png": "[encoded data removed]",
      "text/plain": [
       "<Figure size 600x500 with 2 Axes>"
      ]
     },
     "metadata": {
      "needs_background": "light"
     },
     "output_type": "display_data"
    }
   ],
   "source": [
    "plt.figure(figsize=(6, 5), dpi=100)\n",
    "plt.title(r'$\\Delta \\log\\mu_{\\rm HI}$ vs $M_\\star$')\n",
    "plt.hist2d(df.lgMstar, df.d_fgas, cmap='Oranges', bins=10);\n",
    "plt.colorbar()"
   ]
  },
  {
   "cell_type": "code",
   "execution_count": 52,
   "metadata": {},
   "outputs": [
    {
     "data": {
      "text/plain": [
       "<matplotlib.colorbar.Colorbar at 0x7f75817344a8>"
      ]
     },
     "execution_count": 52,
     "metadata": {},
     "output_type": "execute_result"
    },
    {
     "data": {
      "image/png": "[encoded data removed]",
      "text/plain": [
       "<Figure size 600x500 with 2 Axes>"
      ]
     },
     "metadata": {
      "needs_background": "light"
     },
     "output_type": "display_data"
    }
   ],
   "source": [
    "plt.figure(figsize=(6, 5), dpi=100)\n",
    "plt.title(r'$\\Delta\\log \\mu_{\\rm HI}$ vs $D_L$')\n",
    "plt.hist2d(df.Dlum, df.d_fgas, cmap='binary', bins=10);\n",
    "plt.colorbar()"
   ]
  },
  {
   "cell_type": "code",
   "execution_count": 51,
   "metadata": {},
   "outputs": [
    {
     "data": {
      "text/plain": [
       "<matplotlib.colorbar.Colorbar at 0x7f7581806208>"
      ]
     },
     "execution_count": 51,
     "metadata": {},
     "output_type": "execute_result"
    },
    {
     "data": {
      "image/png": "[encoded data removed]",
      "text/plain": [
       "<Figure size 600x500 with 2 Axes>"
      ]
     },
     "metadata": {
      "needs_background": "light"
     },
     "output_type": "display_data"
    }
   ],
   "source": [
    "plt.figure(figsize=(6, 5), dpi=100)\n",
    "plt.title(r'$\\Delta \\log \\mu_{\\rm HI}$ vs log SFR')\n",
    "plt.hist2d(np.log10(df[df.SFR_best > 0].SFR_best), df[df.SFR_best > 0].d_fgas, cmap='Blues', bins=10);\n",
    "plt.colorbar()"
   ]
  },
  {
   "cell_type": "code",
   "execution_count": 50,
   "metadata": {},
   "outputs": [
    {
     "data": {
      "text/plain": [
       "<matplotlib.colorbar.Colorbar at 0x7f75818ce390>"
      ]
     },
     "execution_count": 50,
     "metadata": {},
     "output_type": "execute_result"
    },
    {
     "data": {
      "image/png": "[encoded data removed]",
      "text/plain": [
       "<Figure size 600x500 with 2 Axes>"
      ]
     },
     "metadata": {
      "needs_background": "light"
     },
     "output_type": "display_data"
    }
   ],
   "source": [
    "plt.figure(figsize=(6, 5), dpi=100)\n",
    "plt.title(r'$\\Delta \\log \\mu_{\\rm HI}$ vs $\\log M_{\\rm halo}$')\n",
    "plt.hist2d(df[df.logMh_Mst_B > 0].logMh_Mst_B, df[df.logMh_Mst_B > 0].d_fgas, cmap='Purples', bins=10);\n",
    "plt.colorbar()"
   ]
  },
  {
   "cell_type": "code",
   "execution_count": 49,
   "metadata": {},
   "outputs": [
    {
     "data": {
      "text/plain": [
       "<matplotlib.colorbar.Colorbar at 0x7f7581993a20>"
      ]
     },
     "execution_count": 49,
     "metadata": {},
     "output_type": "execute_result"
    },
    {
     "data": {
      "image/png": "[encoded data removed]",
      "text/plain": [
       "<Figure size 600x500 with 2 Axes>"
      ]
     },
     "metadata": {
      "needs_background": "light"
     },
     "output_type": "display_data"
    }
   ],
   "source": [
    "plt.figure(figsize=(6, 5), dpi=100)\n",
    "plt.title(r'$\\Delta \\log \\mu_{\\rm HI}$ vs NUV$-r$ color')\n",
    "plt.hist2d(df[df.NUVr > -10].NUVr, df[df.NUVr > -10].d_fgas, cmap='Reds', bins=10);\n",
    "plt.colorbar()"
   ]
  },
  {
   "cell_type": "code",
   "execution_count": 48,
   "metadata": {},
   "outputs": [
    {
     "data": {
      "text/plain": [
       "<matplotlib.colorbar.Colorbar at 0x7f7581a5d710>"
      ]
     },
     "execution_count": 48,
     "metadata": {},
     "output_type": "execute_result"
    },
    {
     "data": {
      "image/png": "[encoded data removed]",
      "text/plain": [
       "<Figure size 600x500 with 2 Axes>"
      ]
     },
     "metadata": {
      "needs_background": "light"
     },
     "output_type": "display_data"
    }
   ],
   "source": [
    "plt.figure(figsize=(6, 5), dpi=100)\n",
    "plt.title(r'$\\Delta \\log \\mu_{\\rm HI}$ vs inclination')\n",
    "plt.hist2d(df.INCL, df.d_fgas, cmap='binary', bins=10);\n",
    "plt.colorbar()"
   ]
  },
  {
   "cell_type": "code",
   "execution_count": 47,
   "metadata": {},
   "outputs": [
    {
     "data": {
      "text/plain": [
       "<matplotlib.colorbar.Colorbar at 0x7f7581b19fd0>"
      ]
     },
     "execution_count": 47,
     "metadata": {},
     "output_type": "execute_result"
    },
    {
     "data": {
      "image/png": "[encoded data removed]",
      "text/plain": [
       "<Figure size 600x500 with 2 Axes>"
      ]
     },
     "metadata": {
      "needs_background": "light"
     },
     "output_type": "display_data"
    }
   ],
   "source": [
    "plt.figure(figsize=(6, 5), dpi=100)\n",
    "plt.title(r'$\\Delta \\log \\mu_{\\rm HI}$ vs concentration')\n",
    "plt.hist2d(df.CINDX, df.d_fgas, cmap='Greens', bins=10);\n",
    "plt.colorbar()"
   ]
  },
  {
   "cell_type": "code",
   "execution_count": 58,
   "metadata": {},
   "outputs": [
    {
     "data": {
      "text/plain": [
       "<matplotlib.colorbar.Colorbar at 0x7f7581363358>"
      ]
     },
     "execution_count": 58,
     "metadata": {},
     "output_type": "execute_result"
    },
    {
     "data": {
      "image/png": "[encoded data removed]",
      "text/plain": [
       "<Figure size 600x500 with 2 Axes>"
      ]
     },
     "metadata": {
      "needs_background": "light"
     },
     "output_type": "display_data"
    }
   ],
   "source": [
    "plt.figure(figsize=(6, 5), dpi=100)\n",
    "plt.title(r'$\\Delta \\log \\mu_{\\rm HI}$ vs $a/b$')\n",
    "plt.hist2d(df.expAB_r, df.d_fgas, cmap='Blues', bins=10);\n",
    "plt.colorbar()\n"
   ]
  },
  {
   "cell_type": "code",
   "execution_count": 70,
   "metadata": {},
   "outputs": [
    {
     "data": {
      "text/plain": [
       "Int64Index([  5442,  17840,  24437,  11297, 110054,  23518,  28703,  41969,\n",
       "             10943,  38591, 108119,   3851, 108125, 114036, 101001,  50856,\n",
       "             10948,  11268,  11669, 114067,  29225,  42140,  42020,  10942,\n",
       "             11514, 112011,  55711,  42156, 112012, 111080,  23195,  10952,\n",
       "            108116, 112106, 113040, 111063,  11086,  25236, 101019,   9776,\n",
       "            108093,  12967, 112084,  42025,  23026,  25057,  12062,   4017,\n",
       "            101022,  20445, 113078,  13074,  26629, 111079, 101033, 108114,\n",
       "              9748,   4130, 108097, 110007,   3981,  38717, 109090, 114065,\n",
       "             56632],\n",
       "           dtype='int64', name='GASS')"
      ]
     },
     "execution_count": 70,
     "metadata": {},
     "output_type": "execute_result"
    }
   ],
   "source": [
    "g.groups[0]\n"
   ]
  },
  {
   "cell_type": "code",
   "execution_count": 86,
   "metadata": {},
   "outputs": [
    {
     "data": {
      "image/png": "[encoded data removed]",
      "text/plain": [
       "<Figure size 500x500 with 1 Axes>"
      ]
     },
     "metadata": {
      "needs_background": "light"
     },
     "output_type": "display_data"
    }
   ],
   "source": [
    "plt.figure(figsize=(5, 5), dpi=100)\n",
    "plt.title(r'$\\Delta \\log \\mu_{\\rm HI}$ vs environment')\n",
    "\n",
    "sns.violinplot(x='env_code_B', y='d_fgas', data=df)\n",
    "plt.xticks(range(4), ['N/A', 'satellite', 'isolated central', 'group central'], rotation=70);"
   ]
  },
  {
   "cell_type": "code",
   "execution_count": null,
   "metadata": {},
   "outputs": [],
   "source": []
  }
 ],
 "metadata": {
  "kernelspec": {
   "display_name": "Python [conda env:fastai]",
   "language": "python",
   "name": "conda-env-fastai-py"
  },
  "language_info": {
   "codemirror_mode": {
    "name": "ipython",
    "version": 3
   },
   "file_extension": ".py",
   "mimetype": "text/x-python",
   "name": "python",
   "nbconvert_exporter": "python",
   "pygments_lexer": "ipython3",
   "version": "3.7.3"
  },
  "toc": {
   "base_numbering": 1,
   "nav_menu": {},
   "number_sections": true,
   "sideBar": true,
   "skip_h1_title": false,
   "title_cell": "Table of Contents",
   "title_sidebar": "Contents",
   "toc_cell": false,
   "toc_position": {},
   "toc_section_display": true,
   "toc_window_display": false
  }
 },
 "nbformat": 4,
 "nbformat_minor": 2
}
