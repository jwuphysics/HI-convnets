{
 "cells": [
  {
   "cell_type": "code",
   "execution_count": 1,
   "metadata": {},
   "outputs": [],
   "source": [
    "from fastai import *\n",
    "from fastai.vision import *\n",
    "\n",
    "%matplotlib inline"
   ]
  },
  {
   "cell_type": "code",
   "execution_count": 2,
   "metadata": {},
   "outputs": [
    {
     "name": "stdout",
     "output_type": "stream",
     "text": [
      "Mish activation loaded...\n",
      "Mish activation loaded...\n"
     ]
    }
   ],
   "source": [
    "PATH = os.path.abspath('..')\n",
    "\n",
    "sys.path.append(f'{PATH}/src')\n",
    "from mxresnet import *\n",
    "from ranger import Ranger"
   ]
  },
  {
   "cell_type": "code",
   "execution_count": 3,
   "metadata": {},
   "outputs": [],
   "source": [
    "seed = 12345"
   ]
  },
  {
   "cell_type": "code",
   "execution_count": 4,
   "metadata": {},
   "outputs": [],
   "source": [
    "df = pd.read_csv(f'{PATH}/data/a40-SDSS_galaxy-properties.csv')\n",
    "\n",
    "tfms = get_transforms(do_flip=True, flip_vert=True, max_zoom=1., max_rotate=15., max_lighting=0, max_warp=0)\n",
    "\n",
    "xGASS_stats = [tensor([-0.0169, -0.0105, -0.0004]), tensor([0.9912, 0.9968, 1.0224])]\n",
    "\n",
    "\n",
    "bs = 32\n",
    "sz = 224"
   ]
  },
  {
   "cell_type": "code",
   "execution_count": 5,
   "metadata": {},
   "outputs": [],
   "source": [
    "src = (ImageList.from_df(df, path=PATH, folder='images-OC', suffix='.jpg', cols='AGCNr')\n",
    "                .split_by_rand_pct(0.2, seed=seed)\n",
    "                .label_from_df(cols=['logfgas'],  label_cls=FloatList)\n",
    "      )\n",
    "\n",
    "data = (src.transform(tfms, size=sz)\n",
    "            .databunch(bs=bs)\n",
    "            .normalize(xGASS_stats)\n",
    "       )"
   ]
  },
  {
   "cell_type": "code",
   "execution_count": 6,
   "metadata": {},
   "outputs": [],
   "source": [
    "learn = Learner(data, model=mxresnet50(), \n",
    "                opt_func=partial(Ranger),\n",
    "                loss_func=root_mean_squared_error,\n",
    "                wd=1e-3, bn_wd=False, true_wd=True,\n",
    "               )\n",
    "\n",
    "learn.model[-1] = nn.Linear(2048, 1, bias=True)\n"
   ]
  },
  {
   "cell_type": "code",
   "execution_count": 7,
   "metadata": {},
   "outputs": [
    {
     "name": "stdout",
     "output_type": "stream",
     "text": [
      "set state called\n"
     ]
    }
   ],
   "source": [
    "learn.load('mxresnet50-range_100ep');"
   ]
  },
  {
   "cell_type": "code",
   "execution_count": 11,
   "metadata": {},
   "outputs": [],
   "source": [
    "learn.data.valid_dl.batch_size = 32"
   ]
  },
  {
   "cell_type": "code",
   "execution_count": 12,
   "metadata": {},
   "outputs": [],
   "source": [
    "fgas_pred, fgas_true = learn.get_preds()"
   ]
  },
  {
   "cell_type": "code",
   "execution_count": 14,
   "metadata": {},
   "outputs": [
    {
     "data": {
      "text/plain": [
       "tensor(0.2410)"
      ]
     },
     "execution_count": 14,
     "metadata": {},
     "output_type": "execute_result"
    }
   ],
   "source": [
    "root_mean_squared_error(fgas_pred, fgas_true)"
   ]
  },
  {
   "cell_type": "code",
   "execution_count": 13,
   "metadata": {},
   "outputs": [
    {
     "data": {
      "text/html": [
       "<div>\n",
       "<style scoped>\n",
       "    .dataframe tbody tr th:only-of-type {\n",
       "        vertical-align: middle;\n",
       "    }\n",
       "\n",
       "    .dataframe tbody tr th {\n",
       "        vertical-align: top;\n",
       "    }\n",
       "\n",
       "    .dataframe thead th {\n",
       "        text-align: right;\n",
       "    }\n",
       "</style>\n",
       "<table border=\"1\" class=\"dataframe\">\n",
       "  <thead>\n",
       "    <tr style=\"text-align: right;\">\n",
       "      <th></th>\n",
       "      <th>fgas_pred</th>\n",
       "      <th>fgas_true</th>\n",
       "    </tr>\n",
       "    <tr>\n",
       "      <th>AGCNr</th>\n",
       "      <th></th>\n",
       "      <th></th>\n",
       "    </tr>\n",
       "  </thead>\n",
       "  <tbody>\n",
       "    <tr>\n",
       "      <td>258422</td>\n",
       "      <td>0.714514</td>\n",
       "      <td>0.987363</td>\n",
       "    </tr>\n",
       "    <tr>\n",
       "      <td>202649</td>\n",
       "      <td>0.209043</td>\n",
       "      <td>-0.218964</td>\n",
       "    </tr>\n",
       "    <tr>\n",
       "      <td>251098</td>\n",
       "      <td>-0.105456</td>\n",
       "      <td>-0.178010</td>\n",
       "    </tr>\n",
       "  </tbody>\n",
       "</table>\n",
       "</div>"
      ],
      "text/plain": [
       "        fgas_pred  fgas_true\n",
       "AGCNr                       \n",
       "258422   0.714514   0.987363\n",
       "202649   0.209043  -0.218964\n",
       "251098  -0.105456  -0.178010"
      ]
     },
     "execution_count": 13,
     "metadata": {},
     "output_type": "execute_result"
    }
   ],
   "source": [
    "results = pd.DataFrame({'fgas_pred': fgas_pred.squeeze(), 'fgas_true': fgas_true.squeeze()})\n",
    "results['AGCNr'] = np.array([os.path.basename(fn).strip('.jpg') for fn in data.valid_ds.items])\n",
    "results.set_index('AGCNr', drop=True, inplace=True)\n",
    "\n",
    "results.sample(3)"
   ]
  },
  {
   "cell_type": "code",
   "execution_count": 15,
   "metadata": {},
   "outputs": [],
   "source": [
    "results.to_csv(f'{PATH}/results/predictions/best_a40-50.csv')"
   ]
  },
  {
   "cell_type": "code",
   "execution_count": 26,
   "metadata": {},
   "outputs": [],
   "source": [
    "results['d_fgas'] = results.fgas_pred - results.fgas_true\n",
    "\n",
    "results.index = results.index.astype(np.int64)"
   ]
  },
  {
   "cell_type": "markdown",
   "metadata": {},
   "source": [
    "# Crossmatch with other data"
   ]
  },
  {
   "cell_type": "code",
   "execution_count": 17,
   "metadata": {},
   "outputs": [],
   "source": [
    "data = pd.read_csv(f'{PATH}/data/a40-SDSS_galaxy-properties.csv', index_col='AGCNr')"
   ]
  },
  {
   "cell_type": "code",
   "execution_count": 28,
   "metadata": {},
   "outputs": [
    {
     "data": {
      "text/html": [
       "<div>\n",
       "<style scoped>\n",
       "    .dataframe tbody tr th:only-of-type {\n",
       "        vertical-align: middle;\n",
       "    }\n",
       "\n",
       "    .dataframe tbody tr th {\n",
       "        vertical-align: top;\n",
       "    }\n",
       "\n",
       "    .dataframe thead th {\n",
       "        text-align: right;\n",
       "    }\n",
       "</style>\n",
       "<table border=\"1\" class=\"dataframe\">\n",
       "  <thead>\n",
       "    <tr style=\"text-align: right;\">\n",
       "      <th></th>\n",
       "      <th>fgas_pred</th>\n",
       "      <th>fgas_true</th>\n",
       "      <th>d_fgas</th>\n",
       "      <th>Unnamed: 0</th>\n",
       "      <th>DR7ObjID</th>\n",
       "      <th>logMHI</th>\n",
       "      <th>logMstar</th>\n",
       "      <th>logSFR</th>\n",
       "      <th>Zgas</th>\n",
       "      <th>logfgas</th>\n",
       "      <th>logsSFR</th>\n",
       "    </tr>\n",
       "    <tr>\n",
       "      <th>AGCNr</th>\n",
       "      <th></th>\n",
       "      <th></th>\n",
       "      <th></th>\n",
       "      <th></th>\n",
       "      <th></th>\n",
       "      <th></th>\n",
       "      <th></th>\n",
       "      <th></th>\n",
       "      <th></th>\n",
       "      <th></th>\n",
       "      <th></th>\n",
       "    </tr>\n",
       "  </thead>\n",
       "  <tbody>\n",
       "    <tr>\n",
       "      <td>224230</td>\n",
       "      <td>0.869148</td>\n",
       "      <td>1.040394</td>\n",
       "      <td>-0.171245</td>\n",
       "      <td>7257</td>\n",
       "      <td>588010878228103291</td>\n",
       "      <td>7.64</td>\n",
       "      <td>6.599606</td>\n",
       "      <td>-2.187329</td>\n",
       "      <td>7.949226</td>\n",
       "      <td>1.040394</td>\n",
       "      <td>-8.786935</td>\n",
       "    </tr>\n",
       "    <tr>\n",
       "      <td>240300</td>\n",
       "      <td>0.231325</td>\n",
       "      <td>0.368782</td>\n",
       "      <td>-0.137457</td>\n",
       "      <td>9302</td>\n",
       "      <td>587736809378742296</td>\n",
       "      <td>10.08</td>\n",
       "      <td>9.711218</td>\n",
       "      <td>0.311851</td>\n",
       "      <td>8.873256</td>\n",
       "      <td>0.368782</td>\n",
       "      <td>-9.399367</td>\n",
       "    </tr>\n",
       "    <tr>\n",
       "      <td>232865</td>\n",
       "      <td>0.689071</td>\n",
       "      <td>0.699099</td>\n",
       "      <td>-0.010028</td>\n",
       "      <td>7702</td>\n",
       "      <td>588010878767202514</td>\n",
       "      <td>9.03</td>\n",
       "      <td>8.330901</td>\n",
       "      <td>-1.092455</td>\n",
       "      <td>8.023540</td>\n",
       "      <td>0.699099</td>\n",
       "      <td>-9.423356</td>\n",
       "    </tr>\n",
       "  </tbody>\n",
       "</table>\n",
       "</div>"
      ],
      "text/plain": [
       "        fgas_pred  fgas_true    d_fgas  Unnamed: 0            DR7ObjID  \\\n",
       "AGCNr                                                                    \n",
       "224230   0.869148   1.040394 -0.171245        7257  588010878228103291   \n",
       "240300   0.231325   0.368782 -0.137457        9302  587736809378742296   \n",
       "232865   0.689071   0.699099 -0.010028        7702  588010878767202514   \n",
       "\n",
       "        logMHI  logMstar    logSFR      Zgas   logfgas   logsSFR  \n",
       "AGCNr                                                             \n",
       "224230    7.64  6.599606 -2.187329  7.949226  1.040394 -8.786935  \n",
       "240300   10.08  9.711218  0.311851  8.873256  0.368782 -9.399367  \n",
       "232865    9.03  8.330901 -1.092455  8.023540  0.699099 -9.423356  "
      ]
     },
     "execution_count": 28,
     "metadata": {},
     "output_type": "execute_result"
    }
   ],
   "source": [
    "df = results.join(data, on='AGCNr', how='left')\n",
    "df.sample(3)"
   ]
  },
  {
   "cell_type": "markdown",
   "metadata": {},
   "source": [
    "# Check for correlations"
   ]
  },
  {
   "cell_type": "code",
   "execution_count": 37,
   "metadata": {},
   "outputs": [
    {
     "data": {
      "text/plain": [
       "<matplotlib.colorbar.Colorbar at 0x7f880cfff940>"
      ]
     },
     "execution_count": 37,
     "metadata": {},
     "output_type": "execute_result"
    },
    {
     "data": {
      "image/png": "[encoded data removed]",
      "text/plain": [
       "<Figure size 600x500 with 2 Axes>"
      ]
     },
     "metadata": {
      "needs_background": "light"
     },
     "output_type": "display_data"
    }
   ],
   "source": [
    "plt.figure(figsize=(6, 5), dpi=100)\n",
    "plt.title(r'$\\Delta \\log\\mu_{\\rm HI}$ vs $M_\\star$')\n",
    "plt.hist2d(df.logMstar, df.d_fgas, cmap='Oranges', bins=30, range=[(8, 11), (-1, 1)]);\n",
    "plt.colorbar()"
   ]
  },
  {
   "cell_type": "code",
   "execution_count": 38,
   "metadata": {},
   "outputs": [
    {
     "data": {
      "text/plain": [
       "<matplotlib.colorbar.Colorbar at 0x7f880d674e10>"
      ]
     },
     "execution_count": 38,
     "metadata": {},
     "output_type": "execute_result"
    },
    {
     "data": {
      "image/png": "[encoded data removed]",
      "text/plain": [
       "<Figure size 600x500 with 2 Axes>"
      ]
     },
     "metadata": {
      "needs_background": "light"
     },
     "output_type": "display_data"
    }
   ],
   "source": [
    "plt.figure(figsize=(6, 5), dpi=100)\n",
    "plt.title(r'$\\Delta \\log\\mu_{\\rm HI}$ vs sSFR')\n",
    "plt.hist2d(df.logsSFR, df.d_fgas, cmap='Purples', bins=30, range=[(-11, -9), (-1, 1)]);\n",
    "plt.colorbar()"
   ]
  },
  {
   "cell_type": "code",
   "execution_count": 40,
   "metadata": {},
   "outputs": [
    {
     "data": {
      "text/plain": [
       "<matplotlib.colorbar.Colorbar at 0x7f880cb28d30>"
      ]
     },
     "execution_count": 40,
     "metadata": {},
     "output_type": "execute_result"
    },
    {
     "data": {
      "image/png": "[encoded data removed]",
      "text/plain": [
       "<Figure size 600x500 with 2 Axes>"
      ]
     },
     "metadata": {
      "needs_background": "light"
     },
     "output_type": "display_data"
    }
   ],
   "source": [
    "plt.figure(figsize=(6, 5), dpi=100)\n",
    "plt.title(r'$\\Delta \\log\\mu_{\\rm HI}$ vs SFR')\n",
    "plt.hist2d(df.logSFR, df.d_fgas, cmap='Blues', bins=30, range=[(-1.5, 1), (-1, 1)]);\n",
    "plt.colorbar()"
   ]
  },
  {
   "cell_type": "code",
   "execution_count": 47,
   "metadata": {},
   "outputs": [
    {
     "data": {
      "text/plain": [
       "<matplotlib.colorbar.Colorbar at 0x7f880c7dbcf8>"
      ]
     },
     "execution_count": 47,
     "metadata": {},
     "output_type": "execute_result"
    },
    {
     "data": {
      "image/png": "[encoded data removed]",
      "text/plain": [
       "<Figure size 600x500 with 2 Axes>"
      ]
     },
     "metadata": {
      "needs_background": "light"
     },
     "output_type": "display_data"
    }
   ],
   "source": [
    "plt.figure(figsize=(6, 5), dpi=100)\n",
    "plt.title(r'$\\Delta \\log\\mu_{\\rm HI}$ vs $Z_{\\rm gas}$')\n",
    "plt.hist2d(df.Zgas, df.d_fgas, cmap='Reds', bins=30, range=[(8.0, 9.4), (-1, 1)]);\n",
    "plt.colorbar()"
   ]
  },
  {
   "cell_type": "code",
   "execution_count": null,
   "metadata": {},
   "outputs": [],
   "source": []
  }
 ],
 "metadata": {
  "kernelspec": {
   "display_name": "Python [conda env:fastai]",
   "language": "python",
   "name": "conda-env-fastai-py"
  },
  "language_info": {
   "codemirror_mode": {
    "name": "ipython",
    "version": 3
   },
   "file_extension": ".py",
   "mimetype": "text/x-python",
   "name": "python",
   "nbconvert_exporter": "python",
   "pygments_lexer": "ipython3",
   "version": "3.7.3"
  },
  "toc": {
   "base_numbering": 1,
   "nav_menu": {},
   "number_sections": true,
   "sideBar": true,
   "skip_h1_title": false,
   "title_cell": "Table of Contents",
   "title_sidebar": "Contents",
   "toc_cell": false,
   "toc_position": {},
   "toc_section_display": true,
   "toc_window_display": false
  }
 },
 "nbformat": 4,
 "nbformat_minor": 2
}
