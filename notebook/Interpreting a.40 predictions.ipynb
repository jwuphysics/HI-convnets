{
 "cells": [
  {
   "cell_type": "code",
   "execution_count": 2,
   "metadata": {},
   "outputs": [],
   "source": [
    "from fastai import *\n",
    "from fastai.vision import *\n",
    "\n",
    "%matplotlib inline"
   ]
  },
  {
   "cell_type": "code",
   "execution_count": 3,
   "metadata": {},
   "outputs": [
    {
     "name": "stdout",
     "output_type": "stream",
     "text": [
      "Mish activation loaded...\n",
      "Mish activation loaded...\n"
     ]
    }
   ],
   "source": [
    "PATH = os.path.abspath('..')\n",
    "\n",
    "sys.path.append(f'{PATH}/src')\n",
    "from mxresnet import *\n",
    "from ranger import Ranger"
   ]
  },
  {
   "cell_type": "code",
   "execution_count": 3,
   "metadata": {},
   "outputs": [],
   "source": [
    "seed = 12345"
   ]
  },
  {
   "cell_type": "code",
   "execution_count": 4,
   "metadata": {},
   "outputs": [],
   "source": [
    "df = pd.read_csv(f'{PATH}/data/a40-SDSS_galaxy-properties.csv')\n",
    "\n",
    "tfms = get_transforms(do_flip=True, flip_vert=True, max_zoom=1., max_rotate=15., max_lighting=0, max_warp=0)\n",
    "\n",
    "xGASS_stats = [tensor([-0.0169, -0.0105, -0.0004]), tensor([0.9912, 0.9968, 1.0224])]\n",
    "\n",
    "\n",
    "bs = 32\n",
    "sz = 224"
   ]
  },
  {
   "cell_type": "code",
   "execution_count": 5,
   "metadata": {},
   "outputs": [],
   "source": [
    "src = (ImageList.from_df(df, path=PATH, folder='images-OC', suffix='.jpg', cols='AGCNr')\n",
    "                .split_by_rand_pct(0.2, seed=seed)\n",
    "                .label_from_df(cols=['logfgas'],  label_cls=FloatList)\n",
    "      )\n",
    "\n",
    "data = (src.transform(tfms, size=sz)\n",
    "            .databunch(bs=bs)\n",
    "            .normalize(xGASS_stats)\n",
    "       )"
   ]
  },
  {
   "cell_type": "code",
   "execution_count": 6,
   "metadata": {},
   "outputs": [],
   "source": [
    "learn = Learner(data, model=mxresnet50(), \n",
    "                opt_func=partial(Ranger),\n",
    "                loss_func=root_mean_squared_error,\n",
    "                wd=1e-3, bn_wd=False, true_wd=True,\n",
    "               )\n",
    "\n",
    "learn.model[-1] = nn.Linear(2048, 1, bias=True)\n"
   ]
  },
  {
   "cell_type": "code",
   "execution_count": 7,
   "metadata": {},
   "outputs": [
    {
     "name": "stdout",
     "output_type": "stream",
     "text": [
      "set state called\n"
     ]
    }
   ],
   "source": [
    "learn.load('mxresnet50-range_100ep');"
   ]
  },
  {
   "cell_type": "code",
   "execution_count": 11,
   "metadata": {},
   "outputs": [],
   "source": [
    "learn.data.valid_dl.batch_size = 32"
   ]
  },
  {
   "cell_type": "code",
   "execution_count": 12,
   "metadata": {},
   "outputs": [],
   "source": [
    "fgas_pred, fgas_true = learn.get_preds()"
   ]
  },
  {
   "cell_type": "code",
   "execution_count": 14,
   "metadata": {},
   "outputs": [
    {
     "data": {
      "text/plain": [
       "tensor(0.2410)"
      ]
     },
     "execution_count": 14,
     "metadata": {},
     "output_type": "execute_result"
    }
   ],
   "source": [
    "root_mean_squared_error(fgas_pred, fgas_true)"
   ]
  },
  {
   "cell_type": "code",
   "execution_count": 13,
   "metadata": {},
   "outputs": [
    {
     "data": {
      "text/html": [
       "<div>\n",
       "<style scoped>\n",
       "    .dataframe tbody tr th:only-of-type {\n",
       "        vertical-align: middle;\n",
       "    }\n",
       "\n",
       "    .dataframe tbody tr th {\n",
       "        vertical-align: top;\n",
       "    }\n",
       "\n",
       "    .dataframe thead th {\n",
       "        text-align: right;\n",
       "    }\n",
       "</style>\n",
       "<table border=\"1\" class=\"dataframe\">\n",
       "  <thead>\n",
       "    <tr style=\"text-align: right;\">\n",
       "      <th></th>\n",
       "      <th>fgas_pred</th>\n",
       "      <th>fgas_true</th>\n",
       "    </tr>\n",
       "    <tr>\n",
       "      <th>AGCNr</th>\n",
       "      <th></th>\n",
       "      <th></th>\n",
       "    </tr>\n",
       "  </thead>\n",
       "  <tbody>\n",
       "    <tr>\n",
       "      <td>258422</td>\n",
       "      <td>0.714514</td>\n",
       "      <td>0.987363</td>\n",
       "    </tr>\n",
       "    <tr>\n",
       "      <td>202649</td>\n",
       "      <td>0.209043</td>\n",
       "      <td>-0.218964</td>\n",
       "    </tr>\n",
       "    <tr>\n",
       "      <td>251098</td>\n",
       "      <td>-0.105456</td>\n",
       "      <td>-0.178010</td>\n",
       "    </tr>\n",
       "  </tbody>\n",
       "</table>\n",
       "</div>"
      ],
      "text/plain": [
       "        fgas_pred  fgas_true\n",
       "AGCNr                       \n",
       "258422   0.714514   0.987363\n",
       "202649   0.209043  -0.218964\n",
       "251098  -0.105456  -0.178010"
      ]
     },
     "execution_count": 13,
     "metadata": {},
     "output_type": "execute_result"
    }
   ],
   "source": [
    "results = pd.DataFrame({'fgas_pred': fgas_pred.squeeze(), 'fgas_true': fgas_true.squeeze()})\n",
    "results['AGCNr'] = np.array([os.path.basename(fn).strip('.jpg') for fn in data.valid_ds.items])\n",
    "results.set_index('AGCNr', drop=True, inplace=True)\n",
    "\n",
    "results.sample(3)"
   ]
  },
  {
   "cell_type": "code",
   "execution_count": 15,
   "metadata": {},
   "outputs": [],
   "source": [
    "results.to_csv(f'{PATH}/results/predictions/best_a40-50.csv')"
   ]
  },
  {
   "cell_type": "code",
   "execution_count": 26,
   "metadata": {},
   "outputs": [],
   "source": [
    "results['d_fgas'] = results.fgas_pred - results.fgas_true\n",
    "\n",
    "results.index = results.index.astype(np.int64)"
   ]
  },
  {
   "cell_type": "markdown",
   "metadata": {},
   "source": [
    "# Crossmatch with other data"
   ]
  },
  {
   "cell_type": "code",
   "execution_count": 9,
   "metadata": {},
   "outputs": [],
   "source": [
    "results = pd.read_csv(f'{PATH}/results/predictions/best_a40-50.csv')\n",
    "results['d_fgas'] = results.fgas_pred - results.fgas_true\n"
   ]
  },
  {
   "cell_type": "code",
   "execution_count": 10,
   "metadata": {},
   "outputs": [],
   "source": [
    "data = pd.read_csv(f'{PATH}/data/a40-SDSS_galaxy-properties.csv', index_col='AGCNr')"
   ]
  },
  {
   "cell_type": "code",
   "execution_count": 11,
   "metadata": {},
   "outputs": [
    {
     "data": {
      "text/html": [
       "<div>\n",
       "<style scoped>\n",
       "    .dataframe tbody tr th:only-of-type {\n",
       "        vertical-align: middle;\n",
       "    }\n",
       "\n",
       "    .dataframe tbody tr th {\n",
       "        vertical-align: top;\n",
       "    }\n",
       "\n",
       "    .dataframe thead th {\n",
       "        text-align: right;\n",
       "    }\n",
       "</style>\n",
       "<table border=\"1\" class=\"dataframe\">\n",
       "  <thead>\n",
       "    <tr style=\"text-align: right;\">\n",
       "      <th></th>\n",
       "      <th>AGCNr</th>\n",
       "      <th>fgas_pred</th>\n",
       "      <th>fgas_true</th>\n",
       "      <th>d_fgas</th>\n",
       "      <th>Unnamed: 0</th>\n",
       "      <th>DR7ObjID</th>\n",
       "      <th>logMHI</th>\n",
       "      <th>logMstar</th>\n",
       "      <th>logSFR</th>\n",
       "      <th>Zgas</th>\n",
       "      <th>logfgas</th>\n",
       "      <th>logsSFR</th>\n",
       "    </tr>\n",
       "  </thead>\n",
       "  <tbody>\n",
       "    <tr>\n",
       "      <td>895</td>\n",
       "      <td>220372</td>\n",
       "      <td>-0.688256</td>\n",
       "      <td>-0.518090</td>\n",
       "      <td>-0.170166</td>\n",
       "      <td>6353</td>\n",
       "      <td>588010359625220208</td>\n",
       "      <td>9.99</td>\n",
       "      <td>10.508090</td>\n",
       "      <td>0.564880</td>\n",
       "      <td>9.229142</td>\n",
       "      <td>-0.518090</td>\n",
       "      <td>-9.943210</td>\n",
       "    </tr>\n",
       "    <tr>\n",
       "      <td>804</td>\n",
       "      <td>202184</td>\n",
       "      <td>0.264246</td>\n",
       "      <td>0.404394</td>\n",
       "      <td>-0.140148</td>\n",
       "      <td>3078</td>\n",
       "      <td>587734863219130409</td>\n",
       "      <td>9.61</td>\n",
       "      <td>9.205606</td>\n",
       "      <td>-0.924465</td>\n",
       "      <td>8.497321</td>\n",
       "      <td>0.404394</td>\n",
       "      <td>-10.130071</td>\n",
       "    </tr>\n",
       "    <tr>\n",
       "      <td>814</td>\n",
       "      <td>743127</td>\n",
       "      <td>0.281607</td>\n",
       "      <td>0.295635</td>\n",
       "      <td>-0.014028</td>\n",
       "      <td>8195</td>\n",
       "      <td>587742190449721539</td>\n",
       "      <td>10.06</td>\n",
       "      <td>9.764365</td>\n",
       "      <td>0.015060</td>\n",
       "      <td>8.718466</td>\n",
       "      <td>0.295635</td>\n",
       "      <td>-9.749305</td>\n",
       "    </tr>\n",
       "  </tbody>\n",
       "</table>\n",
       "</div>"
      ],
      "text/plain": [
       "      AGCNr  fgas_pred  fgas_true    d_fgas  Unnamed: 0            DR7ObjID  \\\n",
       "895  220372  -0.688256  -0.518090 -0.170166        6353  588010359625220208   \n",
       "804  202184   0.264246   0.404394 -0.140148        3078  587734863219130409   \n",
       "814  743127   0.281607   0.295635 -0.014028        8195  587742190449721539   \n",
       "\n",
       "     logMHI   logMstar    logSFR      Zgas   logfgas    logsSFR  \n",
       "895    9.99  10.508090  0.564880  9.229142 -0.518090  -9.943210  \n",
       "804    9.61   9.205606 -0.924465  8.497321  0.404394 -10.130071  \n",
       "814   10.06   9.764365  0.015060  8.718466  0.295635  -9.749305  "
      ]
     },
     "execution_count": 11,
     "metadata": {},
     "output_type": "execute_result"
    }
   ],
   "source": [
    "df = results.join(data, on='AGCNr', how='left')\n",
    "df.sample(3)"
   ]
  },
  {
   "cell_type": "markdown",
   "metadata": {},
   "source": [
    "# Plot altogether"
   ]
  },
  {
   "cell_type": "code",
   "execution_count": 46,
   "metadata": {},
   "outputs": [
    {
     "data": {
      "text/plain": [
       "0.011561727700947284"
      ]
     },
     "metadata": {},
     "output_type": "display_data"
    },
    {
     "data": {
      "text/plain": [
       "-0.007348603016316106"
      ]
     },
     "metadata": {},
     "output_type": "display_data"
    },
    {
     "data": {
      "text/plain": [
       "0.002034107855760418"
      ]
     },
     "metadata": {},
     "output_type": "display_data"
    }
   ],
   "source": [
    "display(np.cov(df.logMstar, df.d_fgas)[0,1])\n",
    "display(np.cov(df.logSFR, df.d_fgas)[0,1])\n",
    "display(np.cov(df.Zgas, df.d_fgas)[0,1])"
   ]
  },
  {
   "cell_type": "code",
   "execution_count": 64,
   "metadata": {},
   "outputs": [
    {
     "data": {
      "image/png": "[encoded data removed]",
      "text/plain": [
       "<Figure size 1200x400 with 3 Axes>"
      ]
     },
     "metadata": {
      "needs_background": "light"
     },
     "output_type": "display_data"
    }
   ],
   "source": [
    "\n",
    "fig, [ax0, ax1, ax2] = plt.subplots(1, 3, figsize=(12, 4), dpi=100, sharey=True)\n",
    "\n",
    "ax0.hist2d(df.logMstar, df.d_fgas, cmap='Reds', bins=30, range=[(8.2, 10.8), (-1, 1)]);\n",
    "ax0.text(0.075, 0.85, r'$M_★$', fontsize=20, transform=ax0.transAxes)\n",
    "ax0.set_ylabel(r'$\\log\\,\\mu_{\\rm pred} - \\log\\,\\mu_{\\rm true}$', fontsize=12)\n",
    "ax0.set_xlabel(r'$\\log(M_★/M_\\odot)$', fontsize=12)\n",
    "\n",
    "ax1.hist2d(df.logSFR, df.d_fgas, cmap='Blues', bins=30, range=[(-1.6, 1.1), (-1, 1)]);\n",
    "ax1.text(0.075, 0.85, r'SFR', fontsize=20, transform=ax1.transAxes)\n",
    "ax1.set_xlabel(r'log(SFR/$M_\\odot~{\\rm yr}^{-1})$', fontsize=12)\n",
    "\n",
    "ax2.hist2d(df.Zgas, df.d_fgas, cmap='Greens', bins=30, range=[(8.1, 9.3), (-1, 1)]);\n",
    "ax2.text(0.075, 0.85, r'$Z_{\\rm gas}$', fontsize=20, transform=ax2.transAxes)\n",
    "ax2.set_xlabel(r'$Z_{\\rm gas}$', fontsize=12)\n",
    "\n",
    "fig.subplots_adjust(wspace=0.05)\n",
    "\n",
    "fig.savefig(f'{PATH}/results/figures/physical-trends.png')"
   ]
  },
  {
   "cell_type": "markdown",
   "metadata": {},
   "source": [
    "# Check for correlations"
   ]
  },
  {
   "cell_type": "code",
   "execution_count": 37,
   "metadata": {},
   "outputs": [
    {
     "data": {
      "text/plain": [
       "<matplotlib.colorbar.Colorbar at 0x7f880cfff940>"
      ]
     },
     "execution_count": 37,
     "metadata": {},
     "output_type": "execute_result"
    },
    {
     "data": {
      "image/png": "[encoded data removed]",
      "text/plain": [
       "<Figure size 600x500 with 2 Axes>"
      ]
     },
     "metadata": {
      "needs_background": "light"
     },
     "output_type": "display_data"
    }
   ],
   "source": [
    "plt.figure(figsize=(6, 5), dpi=100)\n",
    "plt.title(r'$\\Delta \\log\\mu_{\\rm HI}$ vs $M_\\star$')\n",
    "plt.hist2d(df.logMstar, df.d_fgas, cmap='Oranges', bins=30, range=[(8, 11), (-1, 1)]);\n",
    "plt.colorbar()"
   ]
  },
  {
   "cell_type": "code",
   "execution_count": 38,
   "metadata": {},
   "outputs": [
    {
     "data": {
      "text/plain": [
       "<matplotlib.colorbar.Colorbar at 0x7f880d674e10>"
      ]
     },
     "execution_count": 38,
     "metadata": {},
     "output_type": "execute_result"
    },
    {
     "data": {
      "image/png": "[encoded data removed]",
      "text/plain": [
       "<Figure size 600x500 with 2 Axes>"
      ]
     },
     "metadata": {
      "needs_background": "light"
     },
     "output_type": "display_data"
    }
   ],
   "source": [
    "plt.figure(figsize=(6, 5), dpi=100)\n",
    "plt.title(r'$\\Delta \\log\\mu_{\\rm HI}$ vs sSFR')\n",
    "plt.hist2d(df.logsSFR, df.d_fgas, cmap='Purples', bins=30, range=[(-11, -9), (-1, 1)]);\n",
    "plt.colorbar()"
   ]
  },
  {
   "cell_type": "code",
   "execution_count": 40,
   "metadata": {},
   "outputs": [
    {
     "data": {
      "text/plain": [
       "<matplotlib.colorbar.Colorbar at 0x7f880cb28d30>"
      ]
     },
     "execution_count": 40,
     "metadata": {},
     "output_type": "execute_result"
    },
    {
     "data": {
      "image/png": "[encoded data removed]",
      "text/plain": [
       "<Figure size 600x500 with 2 Axes>"
      ]
     },
     "metadata": {
      "needs_background": "light"
     },
     "output_type": "display_data"
    }
   ],
   "source": [
    "plt.figure(figsize=(6, 5), dpi=100)\n",
    "plt.title(r'$\\Delta \\log\\mu_{\\rm HI}$ vs SFR')\n",
    "plt.hist2d(df.logSFR, df.d_fgas, cmap='Blues', bins=30, range=[(-1.5, 1), (-1, 1)]);\n",
    "plt.colorbar()"
   ]
  },
  {
   "cell_type": "code",
   "execution_count": 47,
   "metadata": {},
   "outputs": [
    {
     "data": {
      "text/plain": [
       "<matplotlib.colorbar.Colorbar at 0x7f880c7dbcf8>"
      ]
     },
     "execution_count": 47,
     "metadata": {},
     "output_type": "execute_result"
    },
    {
     "data": {
      "image/png": "[encoded data removed]",
      "text/plain": [
       "<Figure size 600x500 with 2 Axes>"
      ]
     },
     "metadata": {
      "needs_background": "light"
     },
     "output_type": "display_data"
    }
   ],
   "source": [
    "plt.figure(figsize=(6, 5), dpi=100)\n",
    "plt.title(r'$\\Delta \\log\\mu_{\\rm HI}$ vs $Z_{\\rm gas}$')\n",
    "plt.hist2d(df.Zgas, df.d_fgas, cmap='Reds', bins=30, range=[(8.0, 9.4), (-1, 1)]);\n",
    "plt.colorbar()"
   ]
  },
  {
   "cell_type": "code",
   "execution_count": null,
   "metadata": {},
   "outputs": [],
   "source": []
  }
 ],
 "metadata": {
  "kernelspec": {
   "display_name": "Python [conda env:fastai]",
   "language": "python",
   "name": "conda-env-fastai-py"
  },
  "language_info": {
   "codemirror_mode": {
    "name": "ipython",
    "version": 3
   },
   "file_extension": ".py",
   "mimetype": "text/x-python",
   "name": "python",
   "nbconvert_exporter": "python",
   "pygments_lexer": "ipython3",
   "version": "3.7.3"
  },
  "toc": {
   "base_numbering": 1,
   "nav_menu": {},
   "number_sections": true,
   "sideBar": true,
   "skip_h1_title": false,
   "title_cell": "Table of Contents",
   "title_sidebar": "Contents",
   "toc_cell": false,
   "toc_position": {},
   "toc_section_display": true,
   "toc_window_display": false
  }
 },
 "nbformat": 4,
 "nbformat_minor": 2
}
