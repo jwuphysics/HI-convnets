{
 "cells": [
  {
   "cell_type": "markdown",
   "metadata": {},
   "source": [
    "# Environmental parameter: $\\delta_5$\n",
    "\n",
    "According to [Cooper et al. 2008](https://ui.adsabs.harvard.edu/abs/2008MNRAS.383.1058C/abstract), the $\\delta_5$ parameter, or overdensity calculated by finding normalized surface density to the fifth nearest neighbor (within $\\pm$1,000 km/s), is a good way to parameterize environment.\n",
    "\n",
    "We can restrict the $\\alpha.40$ catalog to $z < 0.05$ ish, which allows us to get a high-fidelity sample of $\\alpha.40$ neighbors to within $z < .053$ from the [NSA catalog](http://nsatlas.org/data)."
   ]
  },
  {
   "cell_type": "code",
   "execution_count": 1,
   "metadata": {},
   "outputs": [],
   "source": [
    "from astropy.io import fits\n",
    "from astropy.coordinates import match_coordinates_sky, SkyCoord\n",
    "import astropy.units as u\n",
    "\n",
    "import numpy as np\n",
    "import matplotlib.pyplot as plt\n",
    "import pandas as pd\n",
    "\n",
    "import tqdm\n",
    "\n",
    "%matplotlib inline"
   ]
  },
  {
   "cell_type": "code",
   "execution_count": 2,
   "metadata": {},
   "outputs": [],
   "source": [
    "a40 = pd.read_csv('../data/a40.datafile1.csv', index_col='AGCNr')\n",
    "\n",
    "nsa = fits.getdata('../../dusty-halos/data/nsa_v0_1_2.fits')"
   ]
  },
  {
   "cell_type": "code",
   "execution_count": 3,
   "metadata": {},
   "outputs": [
    {
     "data": {
      "image/png": "[encoded data removed]",
      "text/plain": [
       "<Figure size 432x288 with 1 Axes>"
      ]
     },
     "metadata": {
      "needs_background": "light"
     },
     "output_type": "display_data"
    }
   ],
   "source": [
    "plt.hist(nsa['Z'], bins=40, range=[0, .055])\n",
    "(a40.Dist * 70 / 3e5).hist(bins=40, range=[0, .055])\n",
    "plt.yscale('log')\n",
    "plt.xlabel('redshift')\n",
    "plt.ylabel('number');"
   ]
  },
  {
   "cell_type": "code",
   "execution_count": 4,
   "metadata": {},
   "outputs": [
    {
     "data": {
      "text/html": [
       "<div>\n",
       "<style scoped>\n",
       "    .dataframe tbody tr th:only-of-type {\n",
       "        vertical-align: middle;\n",
       "    }\n",
       "\n",
       "    .dataframe tbody tr th {\n",
       "        vertical-align: top;\n",
       "    }\n",
       "\n",
       "    .dataframe thead th {\n",
       "        text-align: right;\n",
       "    }\n",
       "</style>\n",
       "<table border=\"1\" class=\"dataframe\">\n",
       "  <thead>\n",
       "    <tr style=\"text-align: right;\">\n",
       "      <th></th>\n",
       "      <th>Name</th>\n",
       "      <th>RAdeg_HI</th>\n",
       "      <th>Decdeg_HI</th>\n",
       "      <th>RAdeg_OC</th>\n",
       "      <th>DECdeg_OC</th>\n",
       "      <th>Vhelio</th>\n",
       "      <th>W50</th>\n",
       "      <th>errW50</th>\n",
       "      <th>HIflux</th>\n",
       "      <th>errflux</th>\n",
       "      <th>SNR</th>\n",
       "      <th>RMS</th>\n",
       "      <th>Dist</th>\n",
       "      <th>logMsun</th>\n",
       "      <th>HIcode</th>\n",
       "      <th>OCcode</th>\n",
       "      <th>NoteFlag</th>\n",
       "    </tr>\n",
       "    <tr>\n",
       "      <th>AGCNr</th>\n",
       "      <th></th>\n",
       "      <th></th>\n",
       "      <th></th>\n",
       "      <th></th>\n",
       "      <th></th>\n",
       "      <th></th>\n",
       "      <th></th>\n",
       "      <th></th>\n",
       "      <th></th>\n",
       "      <th></th>\n",
       "      <th></th>\n",
       "      <th></th>\n",
       "      <th></th>\n",
       "      <th></th>\n",
       "      <th></th>\n",
       "      <th></th>\n",
       "      <th></th>\n",
       "    </tr>\n",
       "  </thead>\n",
       "  <tbody>\n",
       "    <tr>\n",
       "      <td>174480</td>\n",
       "      <td>NaN</td>\n",
       "      <td>114.00333</td>\n",
       "      <td>14.28472</td>\n",
       "      <td>113.99333</td>\n",
       "      <td>14.27944</td>\n",
       "      <td>8593</td>\n",
       "      <td>269</td>\n",
       "      <td>57</td>\n",
       "      <td>1.80</td>\n",
       "      <td>0.13</td>\n",
       "      <td>7.7</td>\n",
       "      <td>3.18</td>\n",
       "      <td>125.6</td>\n",
       "      <td>9.83</td>\n",
       "      <td>1</td>\n",
       "      <td>O</td>\n",
       "      <td>*</td>\n",
       "    </tr>\n",
       "    <tr>\n",
       "      <td>230034</td>\n",
       "      <td>NaN</td>\n",
       "      <td>195.87959</td>\n",
       "      <td>8.33333</td>\n",
       "      <td>195.87791</td>\n",
       "      <td>8.32833</td>\n",
       "      <td>6406</td>\n",
       "      <td>174</td>\n",
       "      <td>1</td>\n",
       "      <td>1.38</td>\n",
       "      <td>0.08</td>\n",
       "      <td>10.9</td>\n",
       "      <td>2.15</td>\n",
       "      <td>96.0</td>\n",
       "      <td>9.48</td>\n",
       "      <td>1</td>\n",
       "      <td>P</td>\n",
       "      <td>NaN</td>\n",
       "    </tr>\n",
       "    <tr>\n",
       "      <td>122215</td>\n",
       "      <td>NaN</td>\n",
       "      <td>38.36750</td>\n",
       "      <td>27.18972</td>\n",
       "      <td>38.36833</td>\n",
       "      <td>27.19472</td>\n",
       "      <td>5343</td>\n",
       "      <td>227</td>\n",
       "      <td>15</td>\n",
       "      <td>1.47</td>\n",
       "      <td>0.09</td>\n",
       "      <td>9.1</td>\n",
       "      <td>2.39</td>\n",
       "      <td>73.7</td>\n",
       "      <td>9.27</td>\n",
       "      <td>1</td>\n",
       "      <td>I</td>\n",
       "      <td>NaN</td>\n",
       "    </tr>\n",
       "  </tbody>\n",
       "</table>\n",
       "</div>"
      ],
      "text/plain": [
       "       Name   RAdeg_HI  Decdeg_HI   RAdeg_OC  DECdeg_OC  Vhelio  W50  errW50  \\\n",
       "AGCNr                                                                          \n",
       "174480  NaN  114.00333   14.28472  113.99333   14.27944    8593  269      57   \n",
       "230034  NaN  195.87959    8.33333  195.87791    8.32833    6406  174       1   \n",
       "122215  NaN   38.36750   27.18972   38.36833   27.19472    5343  227      15   \n",
       "\n",
       "        HIflux  errflux   SNR   RMS   Dist  logMsun  HIcode OCcode NoteFlag  \n",
       "AGCNr                                                                        \n",
       "174480    1.80     0.13   7.7  3.18  125.6     9.83       1      O        *  \n",
       "230034    1.38     0.08  10.9  2.15   96.0     9.48       1      P      NaN  \n",
       "122215    1.47     0.09   9.1  2.39   73.7     9.27       1      I      NaN  "
      ]
     },
     "execution_count": 4,
     "metadata": {},
     "output_type": "execute_result"
    }
   ],
   "source": [
    "a40.sample(3)"
   ]
  },
  {
   "cell_type": "code",
   "execution_count": 5,
   "metadata": {},
   "outputs": [],
   "source": [
    "# get all things more than 10 Mpc away\n",
    "a40_coords = a40[a40.RAdeg_OC.notnull() & (a40.Dist > 10)][['RAdeg_OC', 'DECdeg_OC']]\n",
    "a40_vel = a40[a40.RAdeg_OC.notnull() & (a40.Dist > 10)]['Dist'] * 70 \n"
   ]
  },
  {
   "cell_type": "code",
   "execution_count": 6,
   "metadata": {},
   "outputs": [],
   "source": [
    "a40_coords = SkyCoord(ra=a40_coords.RAdeg_OC, dec=a40_coords.DECdeg_OC, unit=u.deg)\n",
    "nsa_coords = SkyCoord(ra=nsa['RA'], dec=nsa['DEC'], unit=u.deg)"
   ]
  },
  {
   "cell_type": "code",
   "execution_count": 7,
   "metadata": {
    "scrolled": true
   },
   "outputs": [
    {
     "data": {
      "application/vnd.jupyter.widget-view+json": {
       "model_id": "61afee15c077460f8b5b7a14308ef44f",
       "version_major": 2,
       "version_minor": 0
      },
      "text/plain": [
       "HBox(children=(IntProgress(value=0, max=14932), HTML(value='')))"
      ]
     },
     "metadata": {},
     "output_type": "display_data"
    },
    {
     "name": "stdout",
     "output_type": "stream",
     "text": [
      "\n"
     ]
    },
    {
     "ename": "KeyboardInterrupt",
     "evalue": "",
     "output_type": "error",
     "traceback": [
      "\u001b[0;31m---------------------------------------------------------------------------\u001b[0m",
      "\u001b[0;31mKeyboardInterrupt\u001b[0m                         Traceback (most recent call last)",
      "\u001b[0;32m<ipython-input-7-ff9a15be46ce>\u001b[0m in \u001b[0;36m<module>\u001b[0;34m\u001b[0m\n\u001b[1;32m      4\u001b[0m \u001b[0;32mfor\u001b[0m \u001b[0mra_dec\u001b[0m\u001b[0;34m,\u001b[0m \u001b[0mvel\u001b[0m \u001b[0;32min\u001b[0m \u001b[0mtqdm\u001b[0m\u001b[0;34m.\u001b[0m\u001b[0mtqdm_notebook\u001b[0m\u001b[0;34m(\u001b[0m\u001b[0mzip\u001b[0m\u001b[0;34m(\u001b[0m\u001b[0ma40_coords\u001b[0m\u001b[0;34m,\u001b[0m \u001b[0ma40_vel\u001b[0m\u001b[0;34m)\u001b[0m\u001b[0;34m,\u001b[0m \u001b[0mtotal\u001b[0m\u001b[0;34m=\u001b[0m\u001b[0mlen\u001b[0m\u001b[0;34m(\u001b[0m\u001b[0ma40_vel\u001b[0m\u001b[0;34m)\u001b[0m\u001b[0;34m)\u001b[0m\u001b[0;34m:\u001b[0m\u001b[0;34m\u001b[0m\u001b[0;34m\u001b[0m\u001b[0m\n\u001b[1;32m      5\u001b[0m     \u001b[0mvel_range\u001b[0m \u001b[0;34m=\u001b[0m \u001b[0;34m(\u001b[0m\u001b[0mnsa\u001b[0m\u001b[0;34m[\u001b[0m\u001b[0;34m'z'\u001b[0m\u001b[0;34m]\u001b[0m \u001b[0;34m-\u001b[0m \u001b[0;36m1000\u001b[0m \u001b[0;34m<\u001b[0m \u001b[0mvel\u001b[0m \u001b[0;34m/\u001b[0m \u001b[0;36m3e5\u001b[0m\u001b[0;34m)\u001b[0m \u001b[0;34m&\u001b[0m \u001b[0;34m(\u001b[0m\u001b[0mnsa\u001b[0m\u001b[0;34m[\u001b[0m\u001b[0;34m'z'\u001b[0m\u001b[0;34m]\u001b[0m \u001b[0;34m+\u001b[0m \u001b[0;36m1000\u001b[0m \u001b[0;34m>\u001b[0m \u001b[0mvel\u001b[0m \u001b[0;34m/\u001b[0m \u001b[0;36m3e5\u001b[0m\u001b[0;34m)\u001b[0m\u001b[0;34m\u001b[0m\u001b[0;34m\u001b[0m\u001b[0m\n\u001b[0;32m----> 6\u001b[0;31m     \u001b[0mD_5\u001b[0m\u001b[0;34m.\u001b[0m\u001b[0mappend\u001b[0m\u001b[0;34m(\u001b[0m\u001b[0mmatch_coordinates_sky\u001b[0m\u001b[0;34m(\u001b[0m\u001b[0mra_dec\u001b[0m\u001b[0;34m,\u001b[0m \u001b[0mnsa_coords\u001b[0m\u001b[0;34m[\u001b[0m\u001b[0mvel_range\u001b[0m\u001b[0;34m]\u001b[0m\u001b[0;34m,\u001b[0m \u001b[0mnthneighbor\u001b[0m\u001b[0;34m=\u001b[0m\u001b[0;36m5\u001b[0m\u001b[0;34m)\u001b[0m\u001b[0;34m[\u001b[0m\u001b[0;36m1\u001b[0m\u001b[0;34m]\u001b[0m\u001b[0;34m.\u001b[0m\u001b[0mdeg\u001b[0m\u001b[0;34m)\u001b[0m\u001b[0;34m\u001b[0m\u001b[0;34m\u001b[0m\u001b[0m\n\u001b[0m",
      "\u001b[0;32m~/anaconda3/envs/fastai/lib/python3.7/site-packages/astropy/coordinates/matching.py\u001b[0m in \u001b[0;36mmatch_coordinates_sky\u001b[0;34m(matchcoord, catalogcoord, nthneighbor, storekdtree)\u001b[0m\n\u001b[1;32m    152\u001b[0m     \u001b[0mstorekdtree\u001b[0m \u001b[0;34m=\u001b[0m \u001b[0mcatalogcoord\u001b[0m\u001b[0;34m.\u001b[0m\u001b[0mcache\u001b[0m\u001b[0;34m.\u001b[0m\u001b[0mget\u001b[0m\u001b[0;34m(\u001b[0m\u001b[0mstorekdtree\u001b[0m\u001b[0;34m,\u001b[0m \u001b[0mstorekdtree\u001b[0m\u001b[0;34m)\u001b[0m\u001b[0;34m\u001b[0m\u001b[0;34m\u001b[0m\u001b[0m\n\u001b[1;32m    153\u001b[0m \u001b[0;34m\u001b[0m\u001b[0m\n\u001b[0;32m--> 154\u001b[0;31m     \u001b[0midx\u001b[0m\u001b[0;34m,\u001b[0m \u001b[0msep2d\u001b[0m\u001b[0;34m,\u001b[0m \u001b[0msep3d\u001b[0m \u001b[0;34m=\u001b[0m \u001b[0mmatch_coordinates_3d\u001b[0m\u001b[0;34m(\u001b[0m\u001b[0mnewmatch_u\u001b[0m\u001b[0;34m,\u001b[0m \u001b[0mnewcat_u\u001b[0m\u001b[0;34m,\u001b[0m \u001b[0mnthneighbor\u001b[0m\u001b[0;34m,\u001b[0m \u001b[0mstorekdtree\u001b[0m\u001b[0;34m)\u001b[0m\u001b[0;34m\u001b[0m\u001b[0;34m\u001b[0m\u001b[0m\n\u001b[0m\u001b[1;32m    155\u001b[0m     \u001b[0;31m# sep3d is *wrong* above, because the distance information was removed,\u001b[0m\u001b[0;34m\u001b[0m\u001b[0;34m\u001b[0m\u001b[0;34m\u001b[0m\u001b[0m\n\u001b[1;32m    156\u001b[0m     \u001b[0;31m# unless one of the catalogs doesn't have a real distance\u001b[0m\u001b[0;34m\u001b[0m\u001b[0;34m\u001b[0m\u001b[0;34m\u001b[0m\u001b[0m\n",
      "\u001b[0;32m~/anaconda3/envs/fastai/lib/python3.7/site-packages/astropy/coordinates/matching.py\u001b[0m in \u001b[0;36mmatch_coordinates_3d\u001b[0;34m(matchcoord, catalogcoord, nthneighbor, storekdtree)\u001b[0m\n\u001b[1;32m     65\u001b[0m                          'scalar or length-0.')\n\u001b[1;32m     66\u001b[0m \u001b[0;34m\u001b[0m\u001b[0m\n\u001b[0;32m---> 67\u001b[0;31m     \u001b[0mkdt\u001b[0m \u001b[0;34m=\u001b[0m \u001b[0m_get_cartesian_kdtree\u001b[0m\u001b[0;34m(\u001b[0m\u001b[0mcatalogcoord\u001b[0m\u001b[0;34m,\u001b[0m \u001b[0mstorekdtree\u001b[0m\u001b[0;34m)\u001b[0m\u001b[0;34m\u001b[0m\u001b[0;34m\u001b[0m\u001b[0m\n\u001b[0m\u001b[1;32m     68\u001b[0m \u001b[0;34m\u001b[0m\u001b[0m\n\u001b[1;32m     69\u001b[0m     \u001b[0;31m# make sure coordinate systems match\u001b[0m\u001b[0;34m\u001b[0m\u001b[0;34m\u001b[0m\u001b[0;34m\u001b[0m\u001b[0m\n",
      "\u001b[0;32m~/anaconda3/envs/fastai/lib/python3.7/site-packages/astropy/coordinates/matching.py\u001b[0m in \u001b[0;36m_get_cartesian_kdtree\u001b[0;34m(coord, attrname_or_kdt, forceunit)\u001b[0m\n\u001b[1;32m    462\u001b[0m             \u001b[0;31m# \"sliding midpoint\" rule, which is much faster than standard for\u001b[0m\u001b[0;34m\u001b[0m\u001b[0;34m\u001b[0m\u001b[0;34m\u001b[0m\u001b[0m\n\u001b[1;32m    463\u001b[0m             \u001b[0;31m# many common use cases\u001b[0m\u001b[0;34m\u001b[0m\u001b[0;34m\u001b[0m\u001b[0;34m\u001b[0m\u001b[0m\n\u001b[0;32m--> 464\u001b[0;31m             \u001b[0mkdt\u001b[0m \u001b[0;34m=\u001b[0m \u001b[0mKDTree\u001b[0m\u001b[0;34m(\u001b[0m\u001b[0mflatxyz\u001b[0m\u001b[0;34m.\u001b[0m\u001b[0mvalue\u001b[0m\u001b[0;34m.\u001b[0m\u001b[0mT\u001b[0m\u001b[0;34m,\u001b[0m \u001b[0mcompact_nodes\u001b[0m\u001b[0;34m=\u001b[0m\u001b[0;32mFalse\u001b[0m\u001b[0;34m,\u001b[0m \u001b[0mbalanced_tree\u001b[0m\u001b[0;34m=\u001b[0m\u001b[0;32mFalse\u001b[0m\u001b[0;34m)\u001b[0m\u001b[0;34m\u001b[0m\u001b[0;34m\u001b[0m\u001b[0m\n\u001b[0m\u001b[1;32m    465\u001b[0m         \u001b[0;32mexcept\u001b[0m \u001b[0mTypeError\u001b[0m\u001b[0;34m:\u001b[0m\u001b[0;34m\u001b[0m\u001b[0;34m\u001b[0m\u001b[0m\n\u001b[1;32m    466\u001b[0m             \u001b[0;31m# Python implementation does not take compact_nodes and balanced_tree\u001b[0m\u001b[0;34m\u001b[0m\u001b[0;34m\u001b[0m\u001b[0;34m\u001b[0m\u001b[0m\n",
      "\u001b[0;31mKeyboardInterrupt\u001b[0m: "
     ]
    }
   ],
   "source": [
    "# distance to fifth nearest neighbor\n",
    "D_5 = []\n",
    "\n",
    "for ra_dec, vel in tqdm.tqdm_notebook(zip(a40_coords, a40_vel), total=len(a40_vel)):\n",
    "    vel_range = (nsa['z'] - 1000 < vel / 3e5) & (nsa['z'] + 1000 > vel / 3e5)\n",
    "    D_5.append(match_coordinates_sky(ra_dec, nsa_coords[vel_range], nthneighbor=5)[1].deg)\n"
   ]
  },
  {
   "cell_type": "code",
   "execution_count": 8,
   "metadata": {},
   "outputs": [],
   "source": [
    "# 1 + delta_5, unnormalized\n",
    "delta_5 = 3 / (np.pi * np.array(D_5)**2)\n",
    "\n",
    "delta_5 /= np.median(delta_5)"
   ]
  },
  {
   "cell_type": "markdown",
   "metadata": {},
   "source": [
    "Note that we can later make spatial or redshift cuts to avoid edge effects."
   ]
  },
  {
   "cell_type": "code",
   "execution_count": 10,
   "metadata": {},
   "outputs": [
    {
     "data": {
      "text/plain": [
       "Int64Index([331061, 331405, 102896, 102571,  12896, 102729, 102730, 101866,\n",
       "             12901, 102731,\n",
       "            ...\n",
       "            333443, 332890,  12882, 333224, 332891, 333253, 332895,  12885,\n",
       "            331052, 333313],\n",
       "           dtype='int64', name='AGCNr', length=14932)"
      ]
     },
     "execution_count": 10,
     "metadata": {},
     "output_type": "execute_result"
    }
   ],
   "source": [
    "a40[a40.RAdeg_OC.notnull() & (a40.Dist > 10)].index"
   ]
  },
  {
   "cell_type": "code",
   "execution_count": 25,
   "metadata": {},
   "outputs": [],
   "source": [
    "overdensity = pd.DataFrame({'delta_5': delta_5.flatten()}, index=np.array(a40[a40.RAdeg_OC.notnull() & (a40.Dist > 10)].index))\n",
    "overdensity.to_csv('../data/a.40-delta_5.csv')"
   ]
  },
  {
   "cell_type": "code",
   "execution_count": 29,
   "metadata": {},
   "outputs": [
    {
     "data": {
      "text/plain": [
       "array([[-0.06012077],\n",
       "       [-0.25919774],\n",
       "       [ 0.2446192 ],\n",
       "       ...,\n",
       "       [-0.13916184],\n",
       "       [-0.04587195],\n",
       "       [-1.10127793]])"
      ]
     },
     "execution_count": 29,
     "metadata": {},
     "output_type": "execute_result"
    }
   ],
   "source": [
    "np.log10(delta_5)"
   ]
  },
  {
   "cell_type": "code",
   "execution_count": 30,
   "metadata": {},
   "outputs": [
    {
     "data": {
      "text/plain": [
       "(array([  87.,   48.,   57.,   59.,   86.,  156.,  358.,  576.,  857.,\n",
       "        1881., 2583., 2786., 2335., 1503.,  849.,  371.,  208.,   88.,\n",
       "          34.,   10.]),\n",
       " array([-2.60001584, -2.3689326 , -2.13784936, -1.90676612, -1.67568287,\n",
       "        -1.44459963, -1.21351639, -0.98243315, -0.75134991, -0.52026667,\n",
       "        -0.28918343, -0.05810018,  0.17298306,  0.4040663 ,  0.63514954,\n",
       "         0.86623278,  1.09731602,  1.32839926,  1.5594825 ,  1.79056575,\n",
       "         2.02164899]),\n",
       " <a list of 20 Patch objects>)"
      ]
     },
     "execution_count": 30,
     "metadata": {},
     "output_type": "execute_result"
    },
    {
     "data": {
      "image/png": "[encoded data removed]",
      "text/plain": [
       "<Figure size 432x288 with 1 Axes>"
      ]
     },
     "metadata": {
      "needs_background": "light"
     },
     "output_type": "display_data"
    }
   ],
   "source": [
    "plt.hist(np.log10(delta_5), bins=20)\n",
    "plt.xlabel(r'log(1 + $\\delta_5$)')\n",
    "plt.ylabel('number');"
   ]
  },
  {
   "cell_type": "markdown",
   "metadata": {},
   "source": [
    "# Same thing with xGASS"
   ]
  },
  {
   "cell_type": "code",
   "execution_count": 8,
   "metadata": {},
   "outputs": [],
   "source": [
    "xgass = pd.read_csv('../data/xGASS_representative_sample.csv')"
   ]
  },
  {
   "cell_type": "code",
   "execution_count": 9,
   "metadata": {},
   "outputs": [],
   "source": [
    "xgass_coords = SkyCoord(ra=xgass.RA, dec=xgass.DEC, unit=u.deg)\n",
    "xgass_z = xgass.zSDSS"
   ]
  },
  {
   "cell_type": "code",
   "execution_count": 10,
   "metadata": {},
   "outputs": [
    {
     "data": {
      "text/plain": [
       "<SkyCoord (ICRS): (ra, dec) in deg\n",
       "    [(1.9954000e-01, 14.27755), (5.0344000e-01, 15.02561),\n",
       "     (5.4247000e-01, 14.1362 ), ..., (3.5828452e+02, 16.06442),\n",
       "     (3.5918533e+02, 13.90986), (3.5944820e+02, 15.61368)]>"
      ]
     },
     "execution_count": 10,
     "metadata": {},
     "output_type": "execute_result"
    }
   ],
   "source": [
    "xgass_coords"
   ]
  },
  {
   "cell_type": "code",
   "execution_count": 11,
   "metadata": {},
   "outputs": [
    {
     "data": {
      "application/vnd.jupyter.widget-view+json": {
       "model_id": "ed9fcbed92254ab28fdce4d81853a9f9",
       "version_major": 2,
       "version_minor": 0
      },
      "text/plain": [
       "HBox(children=(IntProgress(value=0, max=1179), HTML(value='')))"
      ]
     },
     "metadata": {},
     "output_type": "display_data"
    },
    {
     "name": "stdout",
     "output_type": "stream",
     "text": [
      "\n"
     ]
    }
   ],
   "source": [
    "D_5 = []\n",
    "\n",
    "for ra_dec, z in tqdm.tqdm_notebook(zip(xgass_coords, xgass_z), total=len(xgass_z)):\n",
    "    vel_range = (nsa['z'] - 1000/3e5 < z) & (nsa['z'] + 1000/3e5 > z)\n",
    "    D_5.append(match_coordinates_sky(ra_dec, nsa_coords[vel_range], nthneighbor=5)[1].deg)"
   ]
  },
  {
   "cell_type": "code",
   "execution_count": 15,
   "metadata": {},
   "outputs": [],
   "source": [
    "delta_5 = 3 / (np.pi * np.array(D_5)**2)\n",
    "\n",
    "delta_5 /= np.median(delta_5)"
   ]
  },
  {
   "cell_type": "code",
   "execution_count": 21,
   "metadata": {},
   "outputs": [],
   "source": [
    "overdensity = pd.DataFrame({'delta_5': delta_5.flatten(), 'GASS': xgass.GASS})\n",
    "overdensity.set_index('GASS', inplace=True, drop=True)\n",
    "overdensity.to_csv('../data/xGASS-delta_5.csv', )"
   ]
  },
  {
   "cell_type": "code",
   "execution_count": 50,
   "metadata": {},
   "outputs": [
    {
     "data": {
      "image/png": "[encoded data removed]",
      "text/plain": [
       "<Figure size 432x288 with 1 Axes>"
      ]
     },
     "metadata": {
      "needs_background": "light"
     },
     "output_type": "display_data"
    }
   ],
   "source": [
    "plt.hist(np.log10(delta_5), bins=20)\n",
    "plt.xlabel(r'log(1 + $\\delta_5$)')\n",
    "plt.ylabel('number');"
   ]
  },
  {
   "cell_type": "code",
   "execution_count": 52,
   "metadata": {},
   "outputs": [
    {
     "data": {
      "image/png": "[encoded data removed]",
      "text/plain": [
       "<Figure size 432x288 with 1 Axes>"
      ]
     },
     "metadata": {
      "needs_background": "light"
     },
     "output_type": "display_data"
    }
   ],
   "source": [
    "plt.hist(np.log10(delta_5)[xgass.env_code_B != 1], bins=20, alpha=0.5, label='in group')\n",
    "plt.hist(np.log10(delta_5)[xgass.env_code_B == 1], bins=20, alpha=0.5, label='not in group')\n",
    "plt.xlabel(r'log(1 + $\\delta_5$)')\n",
    "plt.ylabel('number');\n",
    "\n",
    "plt.title('xGASS')\n",
    "plt.legend();"
   ]
  },
  {
   "cell_type": "code",
   "execution_count": null,
   "metadata": {},
   "outputs": [],
   "source": []
  }
 ],
 "metadata": {
  "kernelspec": {
   "display_name": "Python [conda env:fastai]",
   "language": "python",
   "name": "conda-env-fastai-py"
  },
  "language_info": {
   "codemirror_mode": {
    "name": "ipython",
    "version": 3
   },
   "file_extension": ".py",
   "mimetype": "text/x-python",
   "name": "python",
   "nbconvert_exporter": "python",
   "pygments_lexer": "ipython3",
   "version": "3.7.3"
  },
  "toc": {
   "base_numbering": 1,
   "nav_menu": {},
   "number_sections": true,
   "sideBar": true,
   "skip_h1_title": false,
   "title_cell": "Table of Contents",
   "title_sidebar": "Contents",
   "toc_cell": false,
   "toc_position": {},
   "toc_section_display": true,
   "toc_window_display": false
  }
 },
 "nbformat": 4,
 "nbformat_minor": 2
}
