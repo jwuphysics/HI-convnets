{
 "cells": [
  {
   "cell_type": "markdown",
   "metadata": {},
   "source": [
    "Following the referee's comments, let's look at the [NIBLES](https://ui.adsabs.harvard.edu/abs/2016A%26A...595A.118V/abstract) HI data set. I'm using their Tables A1 & A2, which consists of ~1800 detections which also may have some overlap the ALFALFA and xGASS surveys."
   ]
  },
  {
   "cell_type": "code",
   "execution_count": 42,
   "metadata": {},
   "outputs": [],
   "source": [
    "from astropy.io import ascii\n",
    "import numpy as np\n",
    "import pandas as pd\n",
    "import matplotlib\n",
    "import matplotlib.pyplot as plt\n",
    "from pathlib import Path\n",
    "\n",
    "%matplotlib inline\n",
    "\n",
    "PATH = Path('../..').resolve()"
   ]
  },
  {
   "cell_type": "code",
   "execution_count": 2,
   "metadata": {},
   "outputs": [],
   "source": [
    "from astropy.coordinates import SkyCoord\n",
    "import astropy.units as u"
   ]
  },
  {
   "cell_type": "code",
   "execution_count": 3,
   "metadata": {},
   "outputs": [
    {
     "name": "stderr",
     "output_type": "stream",
     "text": [
      "WARNING: UnitsWarning: '--' did not parse as cds unit: Invalid character at col 0 [astropy.units.core]\n",
      "WARNING: UnitsWarning: '[Msun]' did not parse as cds unit: Invalid character at col 0 [astropy.units.core]\n",
      "WARNING: UnitsWarning: '[1/yr]' did not parse as cds unit: Invalid character at col 0 [astropy.units.core]\n"
     ]
    }
   ],
   "source": [
    "nibles = ascii.read(f'{PATH}/data/NIBLES_detections.txt')"
   ]
  },
  {
   "cell_type": "code",
   "execution_count": 4,
   "metadata": {},
   "outputs": [
    {
     "data": {
      "text/plain": [
       "1864"
      ]
     },
     "execution_count": 4,
     "metadata": {},
     "output_type": "execute_result"
    }
   ],
   "source": [
    "len(nibles)"
   ]
  },
  {
   "cell_type": "code",
   "execution_count": 5,
   "metadata": {},
   "outputs": [
    {
     "data": {
      "text/html": [
       "<i>Table masked=True length=1864</i>\n",
       "<table id=\"table140129159218320\" class=\"table-striped table-bordered table-condensed\">\n",
       "<thead><tr><th>Note</th><th>Source</th><th>Flag</th><th>RAh</th><th>RAm</th><th>RAs</th><th>DE-</th><th>DEd</th><th>DEm</th><th>DEs</th><th>Name</th><th>Vopt</th><th>e_Vopt</th><th>g-z</th><th>gMAG</th><th>log(M*)</th><th>log(sSFR)</th><th>rms</th><th>VHI</th><th>e_VHI</th><th>W50</th><th>W20</th><th>FHI</th><th>e_FHI</th><th>SNR</th><th>S/N</th><th>log(MHI)</th><th>log(MHI/M*)</th></tr></thead>\n",
       "<thead><tr><th></th><th></th><th></th><th>h</th><th>min</th><th>s</th><th></th><th>deg</th><th>arcmin</th><th>arcsec</th><th>--</th><th>km / s</th><th>km / s</th><th>mag</th><th>mag</th><th>[Msun]</th><th>[1/yr]</th><th>mJy</th><th>km / s</th><th>km / s</th><th>km / s</th><th>km / s</th><th>Jy km / s</th><th>Jy km / s</th><th></th><th></th><th>[Msun]</th><th></th></tr></thead>\n",
       "<thead><tr><th>str1</th><th>int64</th><th>str7</th><th>int64</th><th>int64</th><th>float64</th><th>str1</th><th>int64</th><th>int64</th><th>float64</th><th>str23</th><th>int64</th><th>int64</th><th>float64</th><th>float64</th><th>float64</th><th>float64</th><th>float64</th><th>int64</th><th>int64</th><th>int64</th><th>int64</th><th>float64</th><th>float64</th><th>float64</th><th>float64</th><th>float64</th><th>float64</th></tr></thead>\n",
       "<tr><td>c</td><td>1</td><td>--</td><td>0</td><td>0</td><td>2.1</td><td>--</td><td>15</td><td>52</td><td>54.1</td><td>KUG 2357+156</td><td>6000</td><td>3</td><td>0.97</td><td>-19.39</td><td>9.74</td><td>-9.96</td><td>1.38</td><td>6009</td><td>7</td><td>214</td><td>232</td><td>0.67</td><td>0.19</td><td>3.4</td><td>5.4</td><td>9.06</td><td>-0.67</td></tr>\n",
       "<tr><td>c</td><td>2</td><td>--</td><td>0</td><td>0</td><td>12.8</td><td>--</td><td>1</td><td>7</td><td>12.7</td><td>CGCG 382-016</td><td>7396</td><td>4</td><td>1.11</td><td>-20.2</td><td>10.18</td><td>-10.15</td><td>2.65</td><td>7397</td><td>21</td><td>233</td><td>308</td><td>2.5</td><td>0.42</td><td>5.0</td><td>10.0</td><td>9.82</td><td>-0.36</td></tr>\n",
       "<tr><td>c</td><td>4</td><td>--</td><td>0</td><td>1</td><td>3.59</td><td>--</td><td>14</td><td>34</td><td>48.6</td><td>ASK 146570</td><td>1714</td><td>1</td><td>-0.18</td><td>-14.79</td><td>6.76</td><td>-8.37</td><td>1.57</td><td>1705</td><td>6</td><td>40</td><td>58</td><td>0.26</td><td>0.11</td><td>4.2</td><td>4.3</td><td>7.56</td><td>0.8</td></tr>\n",
       "<tr><td>c</td><td>5</td><td>--</td><td>0</td><td>1</td><td>33.95</td><td>--</td><td>15</td><td>4</td><td>53.6</td><td>CGCG 433-016</td><td>6352</td><td>2</td><td>0.8</td><td>-19.61</td><td>9.57</td><td>-9.75</td><td>2.84</td><td>6365</td><td>17</td><td>117</td><td>193</td><td>1.75</td><td>0.36</td><td>6.1</td><td>9.3</td><td>9.53</td><td>-0.03</td></tr>\n",
       "<tr><td>c</td><td>6</td><td>--</td><td>0</td><td>2</td><td>14.77</td><td>--</td><td>14</td><td>29</td><td>15.99</td><td>PGC 4567836</td><td>5131</td><td>10</td><td>0.72</td><td>-17.24</td><td>8.67</td><td>-9.77</td><td>2.37</td><td>5142</td><td>7</td><td>178</td><td>209</td><td>2.02</td><td>0.31</td><td>6.1</td><td>10.5</td><td>9.41</td><td>0.74</td></tr>\n",
       "<tr><td>c</td><td>7</td><td>C3</td><td>0</td><td>3</td><td>11.3</td><td>--</td><td>15</td><td>57</td><td>56.5</td><td>IC 5381</td><td>11218</td><td>3</td><td>1.67</td><td>-21.62</td><td>11.31</td><td>-12.02</td><td>1.17</td><td>11228</td><td>7</td><td>700</td><td>729</td><td>2.55</td><td>0.28</td><td>5.7</td><td>13.2</td><td>10.19</td><td>-1.12</td></tr>\n",
       "<tr><td>c</td><td>8</td><td>R</td><td>0</td><td>3</td><td>15.0</td><td>--</td><td>16</td><td>8</td><td>44.7</td><td>NGC 7814</td><td>1059</td><td>3</td><td>2.0</td><td>-19.1</td><td>--</td><td>--</td><td>2.18</td><td>1049</td><td>3</td><td>466</td><td>492</td><td>10.05</td><td>0.45</td><td>12.1</td><td>35.5</td><td>8.73</td><td>8.73</td></tr>\n",
       "<tr><td>c</td><td>10</td><td>C2</td><td>0</td><td>3</td><td>32.1</td><td>-</td><td>10</td><td>44</td><td>40.7</td><td>NGC 7808</td><td>8865</td><td>2</td><td>1.46</td><td>-23.22</td><td>11.14</td><td>-11.57</td><td>3.33</td><td>8860</td><td>32</td><td>184</td><td>276</td><td>1.92</td><td>0.5</td><td>4.0</td><td>6.9</td><td>9.86</td><td>-1.27</td></tr>\n",
       "<tr><td>c</td><td>11</td><td>--</td><td>0</td><td>3</td><td>44.32</td><td>--</td><td>16</td><td>11</td><td>12.7</td><td>CGCG 456-027</td><td>6418</td><td>3</td><td>1.04</td><td>-19.36</td><td>9.84</td><td>-9.99</td><td>2.54</td><td>6401</td><td>9</td><td>229</td><td>261</td><td>1.7</td><td>0.37</td><td>4.7</td><td>7.2</td><td>9.53</td><td>-0.31</td></tr>\n",
       "<tr><td>...</td><td>...</td><td>...</td><td>...</td><td>...</td><td>...</td><td>...</td><td>...</td><td>...</td><td>...</td><td>...</td><td>...</td><td>...</td><td>...</td><td>...</td><td>...</td><td>...</td><td>...</td><td>...</td><td>...</td><td>...</td><td>...</td><td>...</td><td>...</td><td>...</td><td>...</td><td>...</td><td>...</td></tr>\n",
       "<tr><td>m</td><td>2458</td><td>--</td><td>22</td><td>30</td><td>42.4</td><td>-</td><td>9</td><td>37</td><td>12.7</td><td>ASK 135435</td><td>7046</td><td>5</td><td>0.8</td><td>-18.43</td><td>9.26</td><td>-9.81</td><td>2.47</td><td>7067</td><td>8</td><td>76</td><td>96</td><td>0.39</td><td>0.22</td><td>3.2</td><td>2.9</td><td>8.97</td><td>-0.29</td></tr>\n",
       "<tr><td>m</td><td>2527</td><td>--</td><td>23</td><td>21</td><td>24.7</td><td>--</td><td>14</td><td>11</td><td>52.9</td><td>PGC 4125637</td><td>11881</td><td>3</td><td>0.72</td><td>-18.3</td><td>7.24</td><td>-10.74</td><td>1.56</td><td>11879</td><td>6</td><td>171</td><td>184</td><td>0.39</td><td>0.19</td><td>2.9</td><td>3.3</td><td>9.45</td><td>2.22</td></tr>\n",
       "<tr><td>m</td><td>2549</td><td>N</td><td>23</td><td>36</td><td>8.5</td><td>--</td><td>15</td><td>44</td><td>36.6</td><td>PGC 4125646</td><td>4016</td><td>5</td><td>0.73</td><td>-16.05</td><td>--</td><td>--</td><td>1.48</td><td>4028</td><td>7</td><td>59</td><td>74</td><td>0.19</td><td>0.12</td><td>2.9</td><td>2.8</td><td>8.18</td><td>8.18</td></tr>\n",
       "<tr><td>m</td><td>2555</td><td>N</td><td>23</td><td>37</td><td>37.1</td><td>--</td><td>15</td><td>8</td><td>26.9</td><td>KUG 2335+148</td><td>4099</td><td>2</td><td>-0.31</td><td>-14.52</td><td>7.55</td><td>-9.87</td><td>1.59</td><td>4105</td><td>23</td><td>70</td><td>103</td><td>0.17</td><td>0.15</td><td>2.0</td><td>2.1</td><td>8.14</td><td>0.59</td></tr>\n",
       "<tr><td>m</td><td>2556</td><td>--</td><td>23</td><td>38</td><td>26.0</td><td>--</td><td>15</td><td>23</td><td>10.9</td><td>ASK 145449</td><td>3984</td><td>4</td><td>1.02</td><td>-16.67</td><td>8.78</td><td>-10.17</td><td>1.49</td><td>3983</td><td>16</td><td>142</td><td>171</td><td>0.41</td><td>0.18</td><td>2.6</td><td>3.9</td><td>8.51</td><td>-0.28</td></tr>\n",
       "<tr><td>m</td><td>2562</td><td>--</td><td>23</td><td>40</td><td>42.68</td><td>-</td><td>9</td><td>23</td><td>36.5</td><td>2MASXi J2340427-092336</td><td>5160</td><td>2</td><td>0.67</td><td>-18.36</td><td>9.01</td><td>-9.62</td><td>2.25</td><td>5159</td><td>14</td><td>74</td><td>101</td><td>0.4</td><td>0.21</td><td>2.7</td><td>3.4</td><td>8.71</td><td>-0.3</td></tr>\n",
       "<tr><td>m</td><td>2570</td><td>C1</td><td>23</td><td>43</td><td>55.9</td><td>--</td><td>0</td><td>13</td><td>5.1</td><td>CGCG 381-031</td><td>6627</td><td>2</td><td>1.42</td><td>-19.51</td><td>10.25</td><td>-11.93</td><td>1.43</td><td>6607</td><td>11</td><td>178</td><td>198</td><td>0.37</td><td>0.18</td><td>2.5</td><td>3.3</td><td>8.91</td><td>-1.34</td></tr>\n",
       "<tr><td>m</td><td>2573</td><td>--</td><td>23</td><td>44</td><td>30.08</td><td>--</td><td>0</td><td>19</td><td>13.7</td><td>NGC 7739</td><td>6605</td><td>2</td><td>1.45</td><td>-20.33</td><td>10.63</td><td>-11.84</td><td>1.75</td><td>6666</td><td>6</td><td>221</td><td>234</td><td>0.62</td><td>0.24</td><td>3.0</td><td>4.0</td><td>9.14</td><td>-1.49</td></tr>\n",
       "<tr><td>m</td><td>2579</td><td>--</td><td>23</td><td>48</td><td>45.1</td><td>--</td><td>15</td><td>55</td><td>43.5</td><td>KUG 2346+156</td><td>7848</td><td>11</td><td>0.96</td><td>-19.67</td><td>9.93</td><td>-10.1</td><td>2.57</td><td>7804</td><td>22</td><td>64</td><td>110</td><td>0.25</td><td>0.25</td><td>2.9</td><td>2.1</td><td>8.89</td><td>-1.04</td></tr>\n",
       "<tr><td>m</td><td>2583</td><td>--</td><td>23</td><td>51</td><td>14.64</td><td>--</td><td>15</td><td>22</td><td>23.8</td><td>ASK 146293</td><td>5994</td><td>2</td><td>0.61</td><td>-17.14</td><td>8.55</td><td>-9.64</td><td>1.57</td><td>5991</td><td>8</td><td>179</td><td>196</td><td>0.45</td><td>0.2</td><td>3.0</td><td>3.6</td><td>8.91</td><td>0.35</td></tr>\n",
       "</table>"
      ],
      "text/plain": [
       "<Table masked=True length=1864>\n",
       "Note Source Flag  RAh   RAm  ...   e_FHI     SNR     S/N   log(MHI) log(MHI/M*)\n",
       "                   h    min  ... Jy km / s                  [Msun]             \n",
       "str1 int64  str7 int64 int64 ...  float64  float64 float64 float64    float64  \n",
       "---- ------ ---- ----- ----- ... --------- ------- ------- -------- -----------\n",
       "   c      1   --     0     0 ...      0.19     3.4     5.4     9.06       -0.67\n",
       "   c      2   --     0     0 ...      0.42     5.0    10.0     9.82       -0.36\n",
       "   c      4   --     0     1 ...      0.11     4.2     4.3     7.56         0.8\n",
       "   c      5   --     0     1 ...      0.36     6.1     9.3     9.53       -0.03\n",
       "   c      6   --     0     2 ...      0.31     6.1    10.5     9.41        0.74\n",
       "   c      7   C3     0     3 ...      0.28     5.7    13.2    10.19       -1.12\n",
       "   c      8    R     0     3 ...      0.45    12.1    35.5     8.73        8.73\n",
       "   c     10   C2     0     3 ...       0.5     4.0     6.9     9.86       -1.27\n",
       "   c     11   --     0     3 ...      0.37     4.7     7.2     9.53       -0.31\n",
       " ...    ...  ...   ...   ... ...       ...     ...     ...      ...         ...\n",
       "   m   2458   --    22    30 ...      0.22     3.2     2.9     8.97       -0.29\n",
       "   m   2527   --    23    21 ...      0.19     2.9     3.3     9.45        2.22\n",
       "   m   2549    N    23    36 ...      0.12     2.9     2.8     8.18        8.18\n",
       "   m   2555    N    23    37 ...      0.15     2.0     2.1     8.14        0.59\n",
       "   m   2556   --    23    38 ...      0.18     2.6     3.9     8.51       -0.28\n",
       "   m   2562   --    23    40 ...      0.21     2.7     3.4     8.71        -0.3\n",
       "   m   2570   C1    23    43 ...      0.18     2.5     3.3     8.91       -1.34\n",
       "   m   2573   --    23    44 ...      0.24     3.0     4.0     9.14       -1.49\n",
       "   m   2579   --    23    48 ...      0.25     2.9     2.1     8.89       -1.04\n",
       "   m   2583   --    23    51 ...       0.2     3.0     3.6     8.91        0.35"
      ]
     },
     "execution_count": 5,
     "metadata": {},
     "output_type": "execute_result"
    }
   ],
   "source": [
    "nibles"
   ]
  },
  {
   "cell_type": "code",
   "execution_count": 4,
   "metadata": {},
   "outputs": [
    {
     "data": {
      "text/plain": [
       "1621"
      ]
     },
     "execution_count": 4,
     "metadata": {},
     "output_type": "execute_result"
    }
   ],
   "source": [
    "nibles = nibles[np.isfinite(nibles['log(M*)'])]\n",
    "len(nibles)"
   ]
  },
  {
   "cell_type": "code",
   "execution_count": 5,
   "metadata": {},
   "outputs": [],
   "source": [
    "nibles_pos = SkyCoord(\n",
    "    [f'{RAh:>2d}:{RAm:>02d}:{RAs:>05.2f} {DEd:>3d}:{DEm:>02d}:{DEs:>05.2f}' for RAh,RAm,RAs,DEd,DEm,DEs in nibles[['RAh', 'RAm', 'RAs', 'DEd', 'DEm', 'DEs']]], \n",
    "    unit=(u.hourangle, u.deg)\n",
    ")"
   ]
  },
  {
   "cell_type": "markdown",
   "metadata": {},
   "source": [
    "Convert to dataframe"
   ]
  },
  {
   "cell_type": "code",
   "execution_count": 8,
   "metadata": {},
   "outputs": [],
   "source": [
    "df = pd.DataFrame(\n",
    "    dict(nibles_id=nibles['Source'],\n",
    "         ra=nibles_pos.ra.deg,\n",
    "         dec=nibles_pos.dec.deg,\n",
    "         z=nibles['Vopt'] / 3e5,\n",
    "         logMstar=nibles['log(M*)'],\n",
    "         logMHI=nibles['log(MHI)'],\n",
    "         logsSFR=nibles['log(sSFR)'],\n",
    "         W50=nibles['W50'],\n",
    "         peakSNR=nibles['SNR'],\n",
    "         logfgas=nibles['log(MHI/M*)'],\n",
    "    )\n",
    ")\n"
   ]
  },
  {
   "cell_type": "code",
   "execution_count": 6,
   "metadata": {},
   "outputs": [],
   "source": [
    "# df.to_csv(f'{PATH}/data/NIBLES_data.csv', index=False)\n",
    "df = pd.read_csv(f'{PATH}/data/NIBLES_data.csv')"
   ]
  },
  {
   "cell_type": "markdown",
   "metadata": {},
   "source": [
    "# Compare log($M_{\\rm HI}/M_{\\rm star}$) distributions with other samples"
   ]
  },
  {
   "cell_type": "code",
   "execution_count": 7,
   "metadata": {},
   "outputs": [
    {
     "data": {
      "text/html": [
       "<div>\n",
       "<style scoped>\n",
       "    .dataframe tbody tr th:only-of-type {\n",
       "        vertical-align: middle;\n",
       "    }\n",
       "\n",
       "    .dataframe tbody tr th {\n",
       "        vertical-align: top;\n",
       "    }\n",
       "\n",
       "    .dataframe thead th {\n",
       "        text-align: right;\n",
       "    }\n",
       "</style>\n",
       "<table border=\"1\" class=\"dataframe\">\n",
       "  <thead>\n",
       "    <tr style=\"text-align: right;\">\n",
       "      <th></th>\n",
       "      <th>AGCNr</th>\n",
       "      <th>Name</th>\n",
       "      <th>RAdeg_HI</th>\n",
       "      <th>Decdeg_HI</th>\n",
       "      <th>RAdeg_OC</th>\n",
       "      <th>DECdeg_OC</th>\n",
       "      <th>Vhelio</th>\n",
       "      <th>W50</th>\n",
       "      <th>errW50</th>\n",
       "      <th>HIflux</th>\n",
       "      <th>errflux</th>\n",
       "      <th>SNR</th>\n",
       "      <th>RMS</th>\n",
       "      <th>Dist</th>\n",
       "      <th>logMsun</th>\n",
       "      <th>HIcode</th>\n",
       "      <th>OCcode</th>\n",
       "      <th>NoteFlag</th>\n",
       "      <th>Unnamed: 0</th>\n",
       "      <th>logfgas</th>\n",
       "    </tr>\n",
       "  </thead>\n",
       "  <tbody>\n",
       "    <tr>\n",
       "      <th>9458</th>\n",
       "      <td>221204</td>\n",
       "      <td>MK 447</td>\n",
       "      <td>194.53915</td>\n",
       "      <td>24.34417</td>\n",
       "      <td>194.54124</td>\n",
       "      <td>24.34861</td>\n",
       "      <td>6775</td>\n",
       "      <td>170</td>\n",
       "      <td>6</td>\n",
       "      <td>1.01</td>\n",
       "      <td>0.07</td>\n",
       "      <td>7.7</td>\n",
       "      <td>2.24</td>\n",
       "      <td>100.8</td>\n",
       "      <td>9.38</td>\n",
       "      <td>1</td>\n",
       "      <td>I</td>\n",
       "      <td>NaN</td>\n",
       "      <td>7341.0</td>\n",
       "      <td>-0.197028</td>\n",
       "    </tr>\n",
       "    <tr>\n",
       "      <th>8944</th>\n",
       "      <td>7777</td>\n",
       "      <td>N4567</td>\n",
       "      <td>189.13834</td>\n",
       "      <td>11.24139</td>\n",
       "      <td>189.13626</td>\n",
       "      <td>11.25750</td>\n",
       "      <td>2247</td>\n",
       "      <td>309</td>\n",
       "      <td>3</td>\n",
       "      <td>23.74</td>\n",
       "      <td>0.14</td>\n",
       "      <td>100.9</td>\n",
       "      <td>2.99</td>\n",
       "      <td>16.7</td>\n",
       "      <td>9.19</td>\n",
       "      <td>1</td>\n",
       "      <td>I</td>\n",
       "      <td>*</td>\n",
       "      <td>6861.0</td>\n",
       "      <td>-0.970140</td>\n",
       "    </tr>\n",
       "    <tr>\n",
       "      <th>5421</th>\n",
       "      <td>202808</td>\n",
       "      <td>NaN</td>\n",
       "      <td>156.84500</td>\n",
       "      <td>12.28000</td>\n",
       "      <td>156.84375</td>\n",
       "      <td>12.28361</td>\n",
       "      <td>9883</td>\n",
       "      <td>95</td>\n",
       "      <td>11</td>\n",
       "      <td>0.78</td>\n",
       "      <td>0.06</td>\n",
       "      <td>8.8</td>\n",
       "      <td>2.01</td>\n",
       "      <td>146.1</td>\n",
       "      <td>9.59</td>\n",
       "      <td>1</td>\n",
       "      <td>I</td>\n",
       "      <td>NaN</td>\n",
       "      <td>3512.0</td>\n",
       "      <td>0.013135</td>\n",
       "    </tr>\n",
       "  </tbody>\n",
       "</table>\n",
       "</div>"
      ],
      "text/plain": [
       "       AGCNr    Name   RAdeg_HI  Decdeg_HI   RAdeg_OC  DECdeg_OC  Vhelio  W50  \\\n",
       "9458  221204  MK 447  194.53915   24.34417  194.54124   24.34861    6775  170   \n",
       "8944    7777   N4567  189.13834   11.24139  189.13626   11.25750    2247  309   \n",
       "5421  202808     NaN  156.84500   12.28000  156.84375   12.28361    9883   95   \n",
       "\n",
       "      errW50  HIflux  errflux    SNR   RMS   Dist  logMsun  HIcode OCcode  \\\n",
       "9458       6    1.01     0.07    7.7  2.24  100.8     9.38       1      I   \n",
       "8944       3   23.74     0.14  100.9  2.99   16.7     9.19       1      I   \n",
       "5421      11    0.78     0.06    8.8  2.01  146.1     9.59       1      I   \n",
       "\n",
       "     NoteFlag  Unnamed: 0   logfgas  \n",
       "9458      NaN      7341.0 -0.197028  \n",
       "8944        *      6861.0 -0.970140  \n",
       "5421      NaN      3512.0  0.013135  "
      ]
     },
     "execution_count": 7,
     "metadata": {},
     "output_type": "execute_result"
    }
   ],
   "source": [
    "a40 = pd.read_csv(f'{PATH}/data/a40.datafile1.csv').join(pd.read_csv(f'{PATH}/data/a40-SDSS_gas-frac.csv', index_col=1), how='left', on='AGCNr', lsuffix='_3')\n",
    "a40.sample(3)"
   ]
  },
  {
   "cell_type": "code",
   "execution_count": 8,
   "metadata": {},
   "outputs": [
    {
     "data": {
      "text/html": [
       "<div>\n",
       "<style scoped>\n",
       "    .dataframe tbody tr th:only-of-type {\n",
       "        vertical-align: middle;\n",
       "    }\n",
       "\n",
       "    .dataframe tbody tr th {\n",
       "        vertical-align: top;\n",
       "    }\n",
       "\n",
       "    .dataframe thead th {\n",
       "        text-align: right;\n",
       "    }\n",
       "</style>\n",
       "<table border=\"1\" class=\"dataframe\">\n",
       "  <thead>\n",
       "    <tr style=\"text-align: right;\">\n",
       "      <th></th>\n",
       "      <th>AGCnr</th>\n",
       "      <th>SDSS</th>\n",
       "      <th>PLATEID</th>\n",
       "      <th>MJD</th>\n",
       "      <th>FIBERID</th>\n",
       "      <th>RA</th>\n",
       "      <th>DEC</th>\n",
       "      <th>zSDSS</th>\n",
       "      <th>Dlum</th>\n",
       "      <th>lgMstar</th>\n",
       "      <th>...</th>\n",
       "      <th>lgGF</th>\n",
       "      <th>HIconf_flag</th>\n",
       "      <th>weight</th>\n",
       "      <th>group_id_B</th>\n",
       "      <th>NYU_id</th>\n",
       "      <th>env_code_B</th>\n",
       "      <th>Ngal_B</th>\n",
       "      <th>yang_shred_code</th>\n",
       "      <th>logMh_Mst_B</th>\n",
       "      <th>lvir_ratB</th>\n",
       "    </tr>\n",
       "    <tr>\n",
       "      <th>GASS</th>\n",
       "      <th></th>\n",
       "      <th></th>\n",
       "      <th></th>\n",
       "      <th></th>\n",
       "      <th></th>\n",
       "      <th></th>\n",
       "      <th></th>\n",
       "      <th></th>\n",
       "      <th></th>\n",
       "      <th></th>\n",
       "      <th></th>\n",
       "      <th></th>\n",
       "      <th></th>\n",
       "      <th></th>\n",
       "      <th></th>\n",
       "      <th></th>\n",
       "      <th></th>\n",
       "      <th></th>\n",
       "      <th></th>\n",
       "      <th></th>\n",
       "      <th></th>\n",
       "    </tr>\n",
       "  </thead>\n",
       "  <tbody>\n",
       "    <tr>\n",
       "      <th>40024</th>\n",
       "      <td>230420</td>\n",
       "      <td>J133338.20+131409.6</td>\n",
       "      <td>1775</td>\n",
       "      <td>53847</td>\n",
       "      <td>129</td>\n",
       "      <td>203.40920</td>\n",
       "      <td>13.23601</td>\n",
       "      <td>0.043190</td>\n",
       "      <td>191.1</td>\n",
       "      <td>11.156000</td>\n",
       "      <td>...</td>\n",
       "      <td>-1.247</td>\n",
       "      <td>0.0</td>\n",
       "      <td>0.169</td>\n",
       "      <td>1071</td>\n",
       "      <td>1828706</td>\n",
       "      <td>2</td>\n",
       "      <td>15</td>\n",
       "      <td>0</td>\n",
       "      <td>13.5684</td>\n",
       "      <td>-0.68383</td>\n",
       "    </tr>\n",
       "    <tr>\n",
       "      <th>109100</th>\n",
       "      <td>190788</td>\n",
       "      <td>J094631.02+155310.7</td>\n",
       "      <td>2583</td>\n",
       "      <td>54095</td>\n",
       "      <td>300</td>\n",
       "      <td>146.62926</td>\n",
       "      <td>15.88632</td>\n",
       "      <td>0.012683</td>\n",
       "      <td>54.8</td>\n",
       "      <td>9.507858</td>\n",
       "      <td>...</td>\n",
       "      <td>-0.398</td>\n",
       "      <td>0.0</td>\n",
       "      <td>2.343</td>\n",
       "      <td>446305</td>\n",
       "      <td>2349645</td>\n",
       "      <td>1</td>\n",
       "      <td>1</td>\n",
       "      <td>0</td>\n",
       "      <td>0.0000</td>\n",
       "      <td>-99.00000</td>\n",
       "    </tr>\n",
       "    <tr>\n",
       "      <th>124007</th>\n",
       "      <td>102002</td>\n",
       "      <td>J002314.86+144834.3</td>\n",
       "      <td>753</td>\n",
       "      <td>52233</td>\n",
       "      <td>178</td>\n",
       "      <td>5.81194</td>\n",
       "      <td>14.80954</td>\n",
       "      <td>0.017681</td>\n",
       "      <td>76.8</td>\n",
       "      <td>9.315540</td>\n",
       "      <td>...</td>\n",
       "      <td>0.164</td>\n",
       "      <td>0.0</td>\n",
       "      <td>2.470</td>\n",
       "      <td>111225</td>\n",
       "      <td>381071</td>\n",
       "      <td>1</td>\n",
       "      <td>1</td>\n",
       "      <td>0</td>\n",
       "      <td>0.0000</td>\n",
       "      <td>-99.00000</td>\n",
       "    </tr>\n",
       "  </tbody>\n",
       "</table>\n",
       "<p>3 rows × 41 columns</p>\n",
       "</div>"
      ],
      "text/plain": [
       "         AGCnr                 SDSS  PLATEID    MJD  FIBERID         RA  \\\n",
       "GASS                                                                      \n",
       "40024   230420  J133338.20+131409.6     1775  53847      129  203.40920   \n",
       "109100  190788  J094631.02+155310.7     2583  54095      300  146.62926   \n",
       "124007  102002  J002314.86+144834.3      753  52233      178    5.81194   \n",
       "\n",
       "             DEC     zSDSS   Dlum    lgMstar  ...   lgGF  HIconf_flag  weight  \\\n",
       "GASS                                          ...                               \n",
       "40024   13.23601  0.043190  191.1  11.156000  ... -1.247          0.0   0.169   \n",
       "109100  15.88632  0.012683   54.8   9.507858  ... -0.398          0.0   2.343   \n",
       "124007  14.80954  0.017681   76.8   9.315540  ...  0.164          0.0   2.470   \n",
       "\n",
       "        group_id_B   NYU_id  env_code_B  Ngal_B  yang_shred_code  logMh_Mst_B  \\\n",
       "GASS                                                                            \n",
       "40024         1071  1828706           2      15                0      13.5684   \n",
       "109100      446305  2349645           1       1                0       0.0000   \n",
       "124007      111225   381071           1       1                0       0.0000   \n",
       "\n",
       "        lvir_ratB  \n",
       "GASS               \n",
       "40024    -0.68383  \n",
       "109100  -99.00000  \n",
       "124007  -99.00000  \n",
       "\n",
       "[3 rows x 41 columns]"
      ]
     },
     "execution_count": 8,
     "metadata": {},
     "output_type": "execute_result"
    }
   ],
   "source": [
    "xg = pd.read_csv(f'{PATH}/data/xGASS_representative_sample.csv', index_col=0)\n",
    "xg.sample(3)"
   ]
  },
  {
   "cell_type": "code",
   "execution_count": 9,
   "metadata": {},
   "outputs": [
    {
     "name": "stderr",
     "output_type": "stream",
     "text": [
      "/opt/anaconda3/lib/python3.7/site-packages/numpy/lib/histograms.py:829: RuntimeWarning: invalid value encountered in greater_equal\n",
      "  keep = (tmp_a >= first_edge)\n",
      "/opt/anaconda3/lib/python3.7/site-packages/numpy/lib/histograms.py:830: RuntimeWarning: invalid value encountered in less_equal\n",
      "  keep &= (tmp_a <= last_edge)\n"
     ]
    },
    {
     "data": {
      "text/plain": [
       "<matplotlib.legend.Legend at 0x7f27076af410>"
      ]
     },
     "execution_count": 9,
     "metadata": {},
     "output_type": "execute_result"
    },
    {
     "data": {
      "image/png": "[encoded data removed]",
      "text/plain": [
       "<Figure size 432x288 with 1 Axes>"
      ]
     },
     "metadata": {
      "needs_background": "light"
     },
     "output_type": "display_data"
    }
   ],
   "source": [
    "\n",
    "plt.hist(a40.logfgas, alpha=0.8, density=1, bins=20, range=[-2.5, 3.5], histtype='step', lw=3, label=r'$\\alpha$.40')\n",
    "plt.hist(xg.lgGF, alpha=0.8, density=1, bins=20, range=[-2.5, 3.5], histtype='step', lw=3, label='xGASS')\n",
    "plt.hist(nibles['log(MHI/M*)'], alpha=0., density=1, bins=20, range=[-2.5, 3.5], label='NIBLES', hatch='//////')\n",
    "\n",
    "plt.xlabel(r'$\\log(M_{\\rm HI}/M_★)$', fontsize=14)\n",
    "plt.ylabel('Fraction', fontsize=14)\n",
    "plt.legend(fontsize=14)\n"
   ]
  },
  {
   "cell_type": "markdown",
   "metadata": {},
   "source": [
    "Obviously we won't be able to predict the strongly out of distribution samples"
   ]
  },
  {
   "cell_type": "markdown",
   "metadata": {},
   "source": [
    "## See distributions if we make $\\log(M_{\\star}/M_{\\rm sun}) \\geq 8$ cut "
   ]
  },
  {
   "cell_type": "code",
   "execution_count": null,
   "metadata": {},
   "outputs": [],
   "source": [
    "sum(nibles['log(M*)'] < 8)"
   ]
  },
  {
   "cell_type": "code",
   "execution_count": 10,
   "metadata": {},
   "outputs": [],
   "source": [
    "nhi = nibles[nibles['log(M*)'] >= 8]"
   ]
  },
  {
   "cell_type": "code",
   "execution_count": 69,
   "metadata": {},
   "outputs": [
    {
     "name": "stderr",
     "output_type": "stream",
     "text": [
      "/opt/anaconda3/lib/python3.7/site-packages/numpy/lib/histograms.py:829: RuntimeWarning: invalid value encountered in greater_equal\n",
      "  keep = (tmp_a >= first_edge)\n",
      "/opt/anaconda3/lib/python3.7/site-packages/numpy/lib/histograms.py:830: RuntimeWarning: invalid value encountered in less_equal\n",
      "  keep &= (tmp_a <= last_edge)\n"
     ]
    },
    {
     "data": {
      "image/png": "[encoded data removed]",
      "text/plain": [
       "<Figure size 432x288 with 1 Axes>"
      ]
     },
     "metadata": {
      "needs_background": "light"
     },
     "output_type": "display_data"
    }
   ],
   "source": [
    "plt.hist(a40.logfgas, density=1, bins=20, label=r'$\\alpha$.40', alpha=0.5, hatch='')\n",
    "plt.hist(xg.lgGF, density=1, bins=20,  label='xGASS', alpha=0.5, )\n",
    "plt.hist(nhi['log(MHI/M*)'], density=1, bins=20, label='NIBLES',  alpha=0.5, hatch='/////', facecolor='w')\n",
    "\n",
    "\n",
    "plt.xlabel(r'$\\mathcal{M} \\equiv \\log(M_{\\rm HI}/M_★)$', fontsize=14)\n",
    "plt.ylabel('Fraction', fontsize=14)\n",
    "plt.legend(fontsize=14)\n",
    "\n",
    "plt.xlim(-2.5, 2.)\n",
    "\n",
    "plt.savefig(f'{PATH}/results/figures-updated/fgas_distribution_histogram.pdf')"
   ]
  },
  {
   "cell_type": "code",
   "execution_count": 89,
   "metadata": {},
   "outputs": [
    {
     "name": "stderr",
     "output_type": "stream",
     "text": [
      "/opt/anaconda3/lib/python3.7/site-packages/numpy/lib/histograms.py:829: RuntimeWarning: invalid value encountered in greater_equal\n",
      "  keep = (tmp_a >= first_edge)\n",
      "/opt/anaconda3/lib/python3.7/site-packages/numpy/lib/histograms.py:830: RuntimeWarning: invalid value encountered in less_equal\n",
      "  keep &= (tmp_a <= last_edge)\n"
     ]
    },
    {
     "data": {
      "image/png": "[encoded data removed]",
      "text/plain": [
       "<Figure size 432x288 with 1 Axes>"
      ]
     },
     "metadata": {
      "needs_background": "light"
     },
     "output_type": "display_data"
    }
   ],
   "source": [
    "plt.hist(a40.logfgas, cumulative=True, density=1, bins=1000, range=[-2.5, 3.], histtype='step', lw=3, label=r'$\\alpha$.40')\n",
    "plt.hist(nhi['log(MHI/M*)'], cumulative=True, density=1, bins=1000, range=[-2.5, 3.], histtype='step', lw=3, label='NIBLES')\n",
    "plt.hist(xg.lgGF, cumulative=True, density=1, bins=1000, range=[-2.5, 3.], histtype='step', lw=3, label='xGASS')\n",
    "\n",
    "plt.xlabel(r'$\\mathcal{M} \\equiv \\log(M_{\\rm HI}/M_★)$', fontsize=14)\n",
    "plt.ylabel('Cumulative fraction', fontsize=14)\n",
    "plt.xlim(-2.5, 1.5)\n",
    "\n",
    "# handles, labels = plt.gca().get_legend_handles_labels()\n",
    "# new_handles = [matplotlib.lines.Line2D([], [], c=h.get_edgecolor(), lw=4) for h in handles]\n",
    "# plt.legend(handles=new_handles, labels=labels, fontsize=14, loc='upper left')\n",
    "\n",
    "plt.text(-1.3, 0.52, 'xGASS', fontsize=14, rotation=45)\n",
    "plt.text(-0.82, 0.44, 'NIBLES', fontsize=14, rotation=48)\n",
    "plt.text(-0.41, 0.3, r'ALFALFA $\\alpha$.40', fontsize=14, rotation=56)\n",
    "\n",
    "\n",
    "plt.savefig(f'{PATH}/results/figures-updated/fgas_cdf.pdf')"
   ]
  },
  {
   "cell_type": "markdown",
   "metadata": {},
   "source": [
    "## Remove overlapping sources\n",
    "\n",
    "Note that NIBLES HI masses are 45% lower than ALFALFA (Driel+16 section 4.6) and that they crossmatch NIBLES detections with SNR > 12 and W_50 agreement (only 82 sources). Our selection is generally more broad but we might expect a similar offset, given their attribution of the discrepancy to flux calibration."
   ]
  },
  {
   "cell_type": "code",
   "execution_count": 27,
   "metadata": {},
   "outputs": [],
   "source": [
    "a40_coords = SkyCoord(a40.RAdeg_OC, a40.DECdeg_OC, unit=u.deg)\n",
    "xg_coords = SkyCoord(xg.RA, xg.DEC, unit=u.deg)"
   ]
  },
  {
   "cell_type": "code",
   "execution_count": 28,
   "metadata": {},
   "outputs": [],
   "source": [
    "cutoff = 5 / 3600 # deg\n",
    "idx_a40, idx_nibles_a, _, _ = nibles_pos.search_around_sky(a40_coords, cutoff*u.deg)\n",
    "idx_xg, idx_nibles_b, _, _ = nibles_pos.search_around_sky(xg_coords, cutoff*u.deg)"
   ]
  },
  {
   "cell_type": "code",
   "execution_count": 29,
   "metadata": {},
   "outputs": [
    {
     "data": {
      "text/plain": [
       "323"
      ]
     },
     "execution_count": 29,
     "metadata": {},
     "output_type": "execute_result"
    }
   ],
   "source": [
    "idx_nibles = list(set(list(idx_nibles_a) + list(idx_nibles_b)))\n",
    "len(idx_nibles)"
   ]
  },
  {
   "cell_type": "code",
   "execution_count": 30,
   "metadata": {},
   "outputs": [],
   "source": [
    "nibles_clean = np.delete(nibles, idx_nibles)\n",
    "nibles_pos_clean = SkyCoord(np.delete(nibles_pos, idx_nibles))"
   ]
  },
  {
   "cell_type": "code",
   "execution_count": 31,
   "metadata": {},
   "outputs": [],
   "source": [
    "df_clean = pd.DataFrame(\n",
    "    dict(nibles_id=nibles_clean['Source'],\n",
    "         ra=nibles_pos_clean.ra.deg,\n",
    "         dec=nibles_pos_clean.dec.deg,\n",
    "         z=nibles_clean['Vopt'] / 3e5,\n",
    "         logMstar=nibles_clean['log(M*)'],\n",
    "         logMHI=nibles_clean['log(MHI)'],\n",
    "         logsSFR=nibles_clean['log(sSFR)'],\n",
    "         W50=nibles_clean['W50'],\n",
    "         peakSNR=nibles_clean['SNR'],\n",
    "         logfgas=nibles_clean['log(MHI/M*)'],\n",
    "    )\n",
    ")\n"
   ]
  },
  {
   "cell_type": "code",
   "execution_count": 32,
   "metadata": {},
   "outputs": [],
   "source": [
    "df.to_csv(f'{PATH}/data/NIBLES_clean.csv', index=False)"
   ]
  },
  {
   "cell_type": "code",
   "execution_count": null,
   "metadata": {},
   "outputs": [],
   "source": []
  }
 ],
 "metadata": {
  "kernelspec": {
   "display_name": "Python 3",
   "language": "python",
   "name": "python3"
  },
  "language_info": {
   "codemirror_mode": {
    "name": "ipython",
    "version": 3
   },
   "file_extension": ".py",
   "mimetype": "text/x-python",
   "name": "python",
   "nbconvert_exporter": "python",
   "pygments_lexer": "ipython3",
   "version": "3.7.4"
  },
  "toc": {
   "base_numbering": 1,
   "nav_menu": {},
   "number_sections": true,
   "sideBar": true,
   "skip_h1_title": false,
   "title_cell": "Table of Contents",
   "title_sidebar": "Contents",
   "toc_cell": false,
   "toc_position": {},
   "toc_section_display": true,
   "toc_window_display": false
  }
 },
 "nbformat": 4,
 "nbformat_minor": 2
}
