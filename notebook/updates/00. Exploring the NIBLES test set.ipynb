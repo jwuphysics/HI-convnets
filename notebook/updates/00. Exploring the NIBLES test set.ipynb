{
 "cells": [
  {
   "cell_type": "markdown",
   "metadata": {},
   "source": [
    "Following the referee's comments, let's look at the [NIBLES](https://ui.adsabs.harvard.edu/abs/2016A%26A...595A.118V/abstract) HI data set. I'm using their Tables A1 & A2, which consists of ~1800 detections which also may have some overlap the ALFALFA and xGASS surveys."
   ]
  },
  {
   "cell_type": "code",
   "execution_count": 1,
   "metadata": {},
   "outputs": [],
   "source": [
    "from astropy.io import ascii\n",
    "import numpy as np\n",
    "import pandas as pd\n",
    "import matplotlib.pyplot as plt\n",
    "from pathlib import Path\n",
    "\n",
    "%matplotlib inline\n",
    "\n",
    "PATH = Path('../..').resolve()"
   ]
  },
  {
   "cell_type": "code",
   "execution_count": 2,
   "metadata": {},
   "outputs": [],
   "source": [
    "from astropy.coordinates import SkyCoord\n",
    "import astropy.units as u"
   ]
  },
  {
   "cell_type": "code",
   "execution_count": 3,
   "metadata": {},
   "outputs": [
    {
     "name": "stderr",
     "output_type": "stream",
     "text": [
      "WARNING: UnitsWarning: '--' did not parse as cds unit: Invalid character at col 0 [astropy.units.core]\n",
      "WARNING: UnitsWarning: '[Msun]' did not parse as cds unit: Invalid character at col 0 [astropy.units.core]\n",
      "WARNING: UnitsWarning: '[1/yr]' did not parse as cds unit: Invalid character at col 0 [astropy.units.core]\n"
     ]
    }
   ],
   "source": [
    "nibles = ascii.read(f'{PATH}/data/NIBLES_detections.txt')"
   ]
  },
  {
   "cell_type": "code",
   "execution_count": 4,
   "metadata": {},
   "outputs": [
    {
     "data": {
      "text/plain": [
       "1864"
      ]
     },
     "execution_count": 4,
     "metadata": {},
     "output_type": "execute_result"
    }
   ],
   "source": [
    "len(nibles)"
   ]
  },
  {
   "cell_type": "code",
   "execution_count": 5,
   "metadata": {},
   "outputs": [
    {
     "data": {
      "text/html": [
       "<i>Table masked=True length=1864</i>\n",
       "<table id=\"table140129159218320\" class=\"table-striped table-bordered table-condensed\">\n",
       "<thead><tr><th>Note</th><th>Source</th><th>Flag</th><th>RAh</th><th>RAm</th><th>RAs</th><th>DE-</th><th>DEd</th><th>DEm</th><th>DEs</th><th>Name</th><th>Vopt</th><th>e_Vopt</th><th>g-z</th><th>gMAG</th><th>log(M*)</th><th>log(sSFR)</th><th>rms</th><th>VHI</th><th>e_VHI</th><th>W50</th><th>W20</th><th>FHI</th><th>e_FHI</th><th>SNR</th><th>S/N</th><th>log(MHI)</th><th>log(MHI/M*)</th></tr></thead>\n",
       "<thead><tr><th></th><th></th><th></th><th>h</th><th>min</th><th>s</th><th></th><th>deg</th><th>arcmin</th><th>arcsec</th><th>--</th><th>km / s</th><th>km / s</th><th>mag</th><th>mag</th><th>[Msun]</th><th>[1/yr]</th><th>mJy</th><th>km / s</th><th>km / s</th><th>km / s</th><th>km / s</th><th>Jy km / s</th><th>Jy km / s</th><th></th><th></th><th>[Msun]</th><th></th></tr></thead>\n",
       "<thead><tr><th>str1</th><th>int64</th><th>str7</th><th>int64</th><th>int64</th><th>float64</th><th>str1</th><th>int64</th><th>int64</th><th>float64</th><th>str23</th><th>int64</th><th>int64</th><th>float64</th><th>float64</th><th>float64</th><th>float64</th><th>float64</th><th>int64</th><th>int64</th><th>int64</th><th>int64</th><th>float64</th><th>float64</th><th>float64</th><th>float64</th><th>float64</th><th>float64</th></tr></thead>\n",
       "<tr><td>c</td><td>1</td><td>--</td><td>0</td><td>0</td><td>2.1</td><td>--</td><td>15</td><td>52</td><td>54.1</td><td>KUG 2357+156</td><td>6000</td><td>3</td><td>0.97</td><td>-19.39</td><td>9.74</td><td>-9.96</td><td>1.38</td><td>6009</td><td>7</td><td>214</td><td>232</td><td>0.67</td><td>0.19</td><td>3.4</td><td>5.4</td><td>9.06</td><td>-0.67</td></tr>\n",
       "<tr><td>c</td><td>2</td><td>--</td><td>0</td><td>0</td><td>12.8</td><td>--</td><td>1</td><td>7</td><td>12.7</td><td>CGCG 382-016</td><td>7396</td><td>4</td><td>1.11</td><td>-20.2</td><td>10.18</td><td>-10.15</td><td>2.65</td><td>7397</td><td>21</td><td>233</td><td>308</td><td>2.5</td><td>0.42</td><td>5.0</td><td>10.0</td><td>9.82</td><td>-0.36</td></tr>\n",
       "<tr><td>c</td><td>4</td><td>--</td><td>0</td><td>1</td><td>3.59</td><td>--</td><td>14</td><td>34</td><td>48.6</td><td>ASK 146570</td><td>1714</td><td>1</td><td>-0.18</td><td>-14.79</td><td>6.76</td><td>-8.37</td><td>1.57</td><td>1705</td><td>6</td><td>40</td><td>58</td><td>0.26</td><td>0.11</td><td>4.2</td><td>4.3</td><td>7.56</td><td>0.8</td></tr>\n",
       "<tr><td>c</td><td>5</td><td>--</td><td>0</td><td>1</td><td>33.95</td><td>--</td><td>15</td><td>4</td><td>53.6</td><td>CGCG 433-016</td><td>6352</td><td>2</td><td>0.8</td><td>-19.61</td><td>9.57</td><td>-9.75</td><td>2.84</td><td>6365</td><td>17</td><td>117</td><td>193</td><td>1.75</td><td>0.36</td><td>6.1</td><td>9.3</td><td>9.53</td><td>-0.03</td></tr>\n",
       "<tr><td>c</td><td>6</td><td>--</td><td>0</td><td>2</td><td>14.77</td><td>--</td><td>14</td><td>29</td><td>15.99</td><td>PGC 4567836</td><td>5131</td><td>10</td><td>0.72</td><td>-17.24</td><td>8.67</td><td>-9.77</td><td>2.37</td><td>5142</td><td>7</td><td>178</td><td>209</td><td>2.02</td><td>0.31</td><td>6.1</td><td>10.5</td><td>9.41</td><td>0.74</td></tr>\n",
       "<tr><td>c</td><td>7</td><td>C3</td><td>0</td><td>3</td><td>11.3</td><td>--</td><td>15</td><td>57</td><td>56.5</td><td>IC 5381</td><td>11218</td><td>3</td><td>1.67</td><td>-21.62</td><td>11.31</td><td>-12.02</td><td>1.17</td><td>11228</td><td>7</td><td>700</td><td>729</td><td>2.55</td><td>0.28</td><td>5.7</td><td>13.2</td><td>10.19</td><td>-1.12</td></tr>\n",
       "<tr><td>c</td><td>8</td><td>R</td><td>0</td><td>3</td><td>15.0</td><td>--</td><td>16</td><td>8</td><td>44.7</td><td>NGC 7814</td><td>1059</td><td>3</td><td>2.0</td><td>-19.1</td><td>--</td><td>--</td><td>2.18</td><td>1049</td><td>3</td><td>466</td><td>492</td><td>10.05</td><td>0.45</td><td>12.1</td><td>35.5</td><td>8.73</td><td>8.73</td></tr>\n",
       "<tr><td>c</td><td>10</td><td>C2</td><td>0</td><td>3</td><td>32.1</td><td>-</td><td>10</td><td>44</td><td>40.7</td><td>NGC 7808</td><td>8865</td><td>2</td><td>1.46</td><td>-23.22</td><td>11.14</td><td>-11.57</td><td>3.33</td><td>8860</td><td>32</td><td>184</td><td>276</td><td>1.92</td><td>0.5</td><td>4.0</td><td>6.9</td><td>9.86</td><td>-1.27</td></tr>\n",
       "<tr><td>c</td><td>11</td><td>--</td><td>0</td><td>3</td><td>44.32</td><td>--</td><td>16</td><td>11</td><td>12.7</td><td>CGCG 456-027</td><td>6418</td><td>3</td><td>1.04</td><td>-19.36</td><td>9.84</td><td>-9.99</td><td>2.54</td><td>6401</td><td>9</td><td>229</td><td>261</td><td>1.7</td><td>0.37</td><td>4.7</td><td>7.2</td><td>9.53</td><td>-0.31</td></tr>\n",
       "<tr><td>...</td><td>...</td><td>...</td><td>...</td><td>...</td><td>...</td><td>...</td><td>...</td><td>...</td><td>...</td><td>...</td><td>...</td><td>...</td><td>...</td><td>...</td><td>...</td><td>...</td><td>...</td><td>...</td><td>...</td><td>...</td><td>...</td><td>...</td><td>...</td><td>...</td><td>...</td><td>...</td><td>...</td></tr>\n",
       "<tr><td>m</td><td>2458</td><td>--</td><td>22</td><td>30</td><td>42.4</td><td>-</td><td>9</td><td>37</td><td>12.7</td><td>ASK 135435</td><td>7046</td><td>5</td><td>0.8</td><td>-18.43</td><td>9.26</td><td>-9.81</td><td>2.47</td><td>7067</td><td>8</td><td>76</td><td>96</td><td>0.39</td><td>0.22</td><td>3.2</td><td>2.9</td><td>8.97</td><td>-0.29</td></tr>\n",
       "<tr><td>m</td><td>2527</td><td>--</td><td>23</td><td>21</td><td>24.7</td><td>--</td><td>14</td><td>11</td><td>52.9</td><td>PGC 4125637</td><td>11881</td><td>3</td><td>0.72</td><td>-18.3</td><td>7.24</td><td>-10.74</td><td>1.56</td><td>11879</td><td>6</td><td>171</td><td>184</td><td>0.39</td><td>0.19</td><td>2.9</td><td>3.3</td><td>9.45</td><td>2.22</td></tr>\n",
       "<tr><td>m</td><td>2549</td><td>N</td><td>23</td><td>36</td><td>8.5</td><td>--</td><td>15</td><td>44</td><td>36.6</td><td>PGC 4125646</td><td>4016</td><td>5</td><td>0.73</td><td>-16.05</td><td>--</td><td>--</td><td>1.48</td><td>4028</td><td>7</td><td>59</td><td>74</td><td>0.19</td><td>0.12</td><td>2.9</td><td>2.8</td><td>8.18</td><td>8.18</td></tr>\n",
       "<tr><td>m</td><td>2555</td><td>N</td><td>23</td><td>37</td><td>37.1</td><td>--</td><td>15</td><td>8</td><td>26.9</td><td>KUG 2335+148</td><td>4099</td><td>2</td><td>-0.31</td><td>-14.52</td><td>7.55</td><td>-9.87</td><td>1.59</td><td>4105</td><td>23</td><td>70</td><td>103</td><td>0.17</td><td>0.15</td><td>2.0</td><td>2.1</td><td>8.14</td><td>0.59</td></tr>\n",
       "<tr><td>m</td><td>2556</td><td>--</td><td>23</td><td>38</td><td>26.0</td><td>--</td><td>15</td><td>23</td><td>10.9</td><td>ASK 145449</td><td>3984</td><td>4</td><td>1.02</td><td>-16.67</td><td>8.78</td><td>-10.17</td><td>1.49</td><td>3983</td><td>16</td><td>142</td><td>171</td><td>0.41</td><td>0.18</td><td>2.6</td><td>3.9</td><td>8.51</td><td>-0.28</td></tr>\n",
       "<tr><td>m</td><td>2562</td><td>--</td><td>23</td><td>40</td><td>42.68</td><td>-</td><td>9</td><td>23</td><td>36.5</td><td>2MASXi J2340427-092336</td><td>5160</td><td>2</td><td>0.67</td><td>-18.36</td><td>9.01</td><td>-9.62</td><td>2.25</td><td>5159</td><td>14</td><td>74</td><td>101</td><td>0.4</td><td>0.21</td><td>2.7</td><td>3.4</td><td>8.71</td><td>-0.3</td></tr>\n",
       "<tr><td>m</td><td>2570</td><td>C1</td><td>23</td><td>43</td><td>55.9</td><td>--</td><td>0</td><td>13</td><td>5.1</td><td>CGCG 381-031</td><td>6627</td><td>2</td><td>1.42</td><td>-19.51</td><td>10.25</td><td>-11.93</td><td>1.43</td><td>6607</td><td>11</td><td>178</td><td>198</td><td>0.37</td><td>0.18</td><td>2.5</td><td>3.3</td><td>8.91</td><td>-1.34</td></tr>\n",
       "<tr><td>m</td><td>2573</td><td>--</td><td>23</td><td>44</td><td>30.08</td><td>--</td><td>0</td><td>19</td><td>13.7</td><td>NGC 7739</td><td>6605</td><td>2</td><td>1.45</td><td>-20.33</td><td>10.63</td><td>-11.84</td><td>1.75</td><td>6666</td><td>6</td><td>221</td><td>234</td><td>0.62</td><td>0.24</td><td>3.0</td><td>4.0</td><td>9.14</td><td>-1.49</td></tr>\n",
       "<tr><td>m</td><td>2579</td><td>--</td><td>23</td><td>48</td><td>45.1</td><td>--</td><td>15</td><td>55</td><td>43.5</td><td>KUG 2346+156</td><td>7848</td><td>11</td><td>0.96</td><td>-19.67</td><td>9.93</td><td>-10.1</td><td>2.57</td><td>7804</td><td>22</td><td>64</td><td>110</td><td>0.25</td><td>0.25</td><td>2.9</td><td>2.1</td><td>8.89</td><td>-1.04</td></tr>\n",
       "<tr><td>m</td><td>2583</td><td>--</td><td>23</td><td>51</td><td>14.64</td><td>--</td><td>15</td><td>22</td><td>23.8</td><td>ASK 146293</td><td>5994</td><td>2</td><td>0.61</td><td>-17.14</td><td>8.55</td><td>-9.64</td><td>1.57</td><td>5991</td><td>8</td><td>179</td><td>196</td><td>0.45</td><td>0.2</td><td>3.0</td><td>3.6</td><td>8.91</td><td>0.35</td></tr>\n",
       "</table>"
      ],
      "text/plain": [
       "<Table masked=True length=1864>\n",
       "Note Source Flag  RAh   RAm  ...   e_FHI     SNR     S/N   log(MHI) log(MHI/M*)\n",
       "                   h    min  ... Jy km / s                  [Msun]             \n",
       "str1 int64  str7 int64 int64 ...  float64  float64 float64 float64    float64  \n",
       "---- ------ ---- ----- ----- ... --------- ------- ------- -------- -----------\n",
       "   c      1   --     0     0 ...      0.19     3.4     5.4     9.06       -0.67\n",
       "   c      2   --     0     0 ...      0.42     5.0    10.0     9.82       -0.36\n",
       "   c      4   --     0     1 ...      0.11     4.2     4.3     7.56         0.8\n",
       "   c      5   --     0     1 ...      0.36     6.1     9.3     9.53       -0.03\n",
       "   c      6   --     0     2 ...      0.31     6.1    10.5     9.41        0.74\n",
       "   c      7   C3     0     3 ...      0.28     5.7    13.2    10.19       -1.12\n",
       "   c      8    R     0     3 ...      0.45    12.1    35.5     8.73        8.73\n",
       "   c     10   C2     0     3 ...       0.5     4.0     6.9     9.86       -1.27\n",
       "   c     11   --     0     3 ...      0.37     4.7     7.2     9.53       -0.31\n",
       " ...    ...  ...   ...   ... ...       ...     ...     ...      ...         ...\n",
       "   m   2458   --    22    30 ...      0.22     3.2     2.9     8.97       -0.29\n",
       "   m   2527   --    23    21 ...      0.19     2.9     3.3     9.45        2.22\n",
       "   m   2549    N    23    36 ...      0.12     2.9     2.8     8.18        8.18\n",
       "   m   2555    N    23    37 ...      0.15     2.0     2.1     8.14        0.59\n",
       "   m   2556   --    23    38 ...      0.18     2.6     3.9     8.51       -0.28\n",
       "   m   2562   --    23    40 ...      0.21     2.7     3.4     8.71        -0.3\n",
       "   m   2570   C1    23    43 ...      0.18     2.5     3.3     8.91       -1.34\n",
       "   m   2573   --    23    44 ...      0.24     3.0     4.0     9.14       -1.49\n",
       "   m   2579   --    23    48 ...      0.25     2.9     2.1     8.89       -1.04\n",
       "   m   2583   --    23    51 ...       0.2     3.0     3.6     8.91        0.35"
      ]
     },
     "execution_count": 5,
     "metadata": {},
     "output_type": "execute_result"
    }
   ],
   "source": [
    "nibles"
   ]
  },
  {
   "cell_type": "code",
   "execution_count": 6,
   "metadata": {},
   "outputs": [
    {
     "data": {
      "text/plain": [
       "1621"
      ]
     },
     "execution_count": 6,
     "metadata": {},
     "output_type": "execute_result"
    }
   ],
   "source": [
    "nibles = nibles[np.isfinite(nibles['log(M*)'])]\n",
    "len(nibles)"
   ]
  },
  {
   "cell_type": "code",
   "execution_count": 7,
   "metadata": {},
   "outputs": [],
   "source": [
    "nibles_pos = SkyCoord(\n",
    "    [f'{RAh:>2d}:{RAm:>02d}:{RAs:>05.2f} {DEd:>3d}:{DEm:>02d}:{DEs:>05.2f}' for RAh,RAm,RAs,DEd,DEm,DEs in nibles[['RAh', 'RAm', 'RAs', 'DEd', 'DEm', 'DEs']]], \n",
    "    unit=(u.hourangle, u.deg)\n",
    ")"
   ]
  },
  {
   "cell_type": "markdown",
   "metadata": {},
   "source": [
    "Convert to dataframe"
   ]
  },
  {
   "cell_type": "code",
   "execution_count": 8,
   "metadata": {},
   "outputs": [],
   "source": [
    "df = pd.DataFrame(\n",
    "    dict(nibles_id=nibles['Source'],\n",
    "         ra=nibles_pos.ra.deg,\n",
    "         dec=nibles_pos.dec.deg,\n",
    "         z=nibles['Vopt'] / 3e5,\n",
    "         logMstar=nibles['log(M*)'],\n",
    "         logMHI=nibles['log(MHI)'],\n",
    "         logsSFR=nibles['log(sSFR)'],\n",
    "         W50=nibles['W50'],\n",
    "         peakSNR=nibles['SNR'],\n",
    "         logfgas=nibles['log(MHI/M*)'],\n",
    "    )\n",
    ")\n"
   ]
  },
  {
   "cell_type": "code",
   "execution_count": 9,
   "metadata": {},
   "outputs": [],
   "source": [
    "# df.to_csv(f'{PATH}/data/NIBLES_data.csv', index=False)"
   ]
  },
  {
   "cell_type": "markdown",
   "metadata": {},
   "source": [
    "# Compare log($M_{\\rm HI}/M_{\\rm star}$) distributions with other samples"
   ]
  },
  {
   "cell_type": "code",
   "execution_count": 10,
   "metadata": {},
   "outputs": [
    {
     "data": {
      "text/html": [
       "<div>\n",
       "<style scoped>\n",
       "    .dataframe tbody tr th:only-of-type {\n",
       "        vertical-align: middle;\n",
       "    }\n",
       "\n",
       "    .dataframe tbody tr th {\n",
       "        vertical-align: top;\n",
       "    }\n",
       "\n",
       "    .dataframe thead th {\n",
       "        text-align: right;\n",
       "    }\n",
       "</style>\n",
       "<table border=\"1\" class=\"dataframe\">\n",
       "  <thead>\n",
       "    <tr style=\"text-align: right;\">\n",
       "      <th></th>\n",
       "      <th>AGCNr</th>\n",
       "      <th>Name</th>\n",
       "      <th>RAdeg_HI</th>\n",
       "      <th>Decdeg_HI</th>\n",
       "      <th>RAdeg_OC</th>\n",
       "      <th>DECdeg_OC</th>\n",
       "      <th>Vhelio</th>\n",
       "      <th>W50</th>\n",
       "      <th>errW50</th>\n",
       "      <th>HIflux</th>\n",
       "      <th>errflux</th>\n",
       "      <th>SNR</th>\n",
       "      <th>RMS</th>\n",
       "      <th>Dist</th>\n",
       "      <th>logMsun</th>\n",
       "      <th>HIcode</th>\n",
       "      <th>OCcode</th>\n",
       "      <th>NoteFlag</th>\n",
       "      <th>Unnamed: 0</th>\n",
       "      <th>logfgas</th>\n",
       "    </tr>\n",
       "  </thead>\n",
       "  <tbody>\n",
       "    <tr>\n",
       "      <th>14650</th>\n",
       "      <td>749035</td>\n",
       "      <td>NaN</td>\n",
       "      <td>337.98126</td>\n",
       "      <td>15.22583</td>\n",
       "      <td>0.00000</td>\n",
       "      <td>0.00000</td>\n",
       "      <td>-353</td>\n",
       "      <td>28</td>\n",
       "      <td>1</td>\n",
       "      <td>0.91</td>\n",
       "      <td>0.04</td>\n",
       "      <td>8.8</td>\n",
       "      <td>3.57</td>\n",
       "      <td>NaN</td>\n",
       "      <td>NaN</td>\n",
       "      <td>9</td>\n",
       "      <td>U</td>\n",
       "      <td>*</td>\n",
       "      <td>NaN</td>\n",
       "      <td>NaN</td>\n",
       "    </tr>\n",
       "    <tr>\n",
       "      <th>12277</th>\n",
       "      <td>245083</td>\n",
       "      <td>NaN</td>\n",
       "      <td>223.36000</td>\n",
       "      <td>10.94389</td>\n",
       "      <td>223.35583</td>\n",
       "      <td>10.93083</td>\n",
       "      <td>8866</td>\n",
       "      <td>134</td>\n",
       "      <td>6</td>\n",
       "      <td>0.87</td>\n",
       "      <td>0.07</td>\n",
       "      <td>7.6</td>\n",
       "      <td>2.21</td>\n",
       "      <td>129.4</td>\n",
       "      <td>9.54</td>\n",
       "      <td>2</td>\n",
       "      <td>I</td>\n",
       "      <td>NaN</td>\n",
       "      <td>10078.0</td>\n",
       "      <td>0.054250</td>\n",
       "    </tr>\n",
       "    <tr>\n",
       "      <th>4186</th>\n",
       "      <td>192911</td>\n",
       "      <td>NaN</td>\n",
       "      <td>142.07874</td>\n",
       "      <td>4.76833</td>\n",
       "      <td>142.07166</td>\n",
       "      <td>4.76333</td>\n",
       "      <td>9412</td>\n",
       "      <td>244</td>\n",
       "      <td>14</td>\n",
       "      <td>1.03</td>\n",
       "      <td>0.09</td>\n",
       "      <td>7.1</td>\n",
       "      <td>2.08</td>\n",
       "      <td>139.1</td>\n",
       "      <td>9.67</td>\n",
       "      <td>1</td>\n",
       "      <td>I</td>\n",
       "      <td>NaN</td>\n",
       "      <td>2310.0</td>\n",
       "      <td>-0.156111</td>\n",
       "    </tr>\n",
       "  </tbody>\n",
       "</table>\n",
       "</div>"
      ],
      "text/plain": [
       "        AGCNr Name   RAdeg_HI  Decdeg_HI   RAdeg_OC  DECdeg_OC  Vhelio  W50  \\\n",
       "14650  749035  NaN  337.98126   15.22583    0.00000    0.00000    -353   28   \n",
       "12277  245083  NaN  223.36000   10.94389  223.35583   10.93083    8866  134   \n",
       "4186   192911  NaN  142.07874    4.76833  142.07166    4.76333    9412  244   \n",
       "\n",
       "       errW50  HIflux  errflux  SNR   RMS   Dist  logMsun  HIcode OCcode  \\\n",
       "14650       1    0.91     0.04  8.8  3.57    NaN      NaN       9      U   \n",
       "12277       6    0.87     0.07  7.6  2.21  129.4     9.54       2      I   \n",
       "4186       14    1.03     0.09  7.1  2.08  139.1     9.67       1      I   \n",
       "\n",
       "      NoteFlag  Unnamed: 0   logfgas  \n",
       "14650        *         NaN       NaN  \n",
       "12277      NaN     10078.0  0.054250  \n",
       "4186       NaN      2310.0 -0.156111  "
      ]
     },
     "execution_count": 10,
     "metadata": {},
     "output_type": "execute_result"
    }
   ],
   "source": [
    "a40 = pd.read_csv(f'{PATH}/data/a40.datafile1.csv').join(pd.read_csv(f'{PATH}/data/a40-SDSS_gas-frac.csv', index_col=1), how='left', on='AGCNr', lsuffix='_3')\n",
    "a40.sample(3)"
   ]
  },
  {
   "cell_type": "code",
   "execution_count": 11,
   "metadata": {},
   "outputs": [
    {
     "data": {
      "text/html": [
       "<div>\n",
       "<style scoped>\n",
       "    .dataframe tbody tr th:only-of-type {\n",
       "        vertical-align: middle;\n",
       "    }\n",
       "\n",
       "    .dataframe tbody tr th {\n",
       "        vertical-align: top;\n",
       "    }\n",
       "\n",
       "    .dataframe thead th {\n",
       "        text-align: right;\n",
       "    }\n",
       "</style>\n",
       "<table border=\"1\" class=\"dataframe\">\n",
       "  <thead>\n",
       "    <tr style=\"text-align: right;\">\n",
       "      <th></th>\n",
       "      <th>AGCnr</th>\n",
       "      <th>SDSS</th>\n",
       "      <th>PLATEID</th>\n",
       "      <th>MJD</th>\n",
       "      <th>FIBERID</th>\n",
       "      <th>RA</th>\n",
       "      <th>DEC</th>\n",
       "      <th>zSDSS</th>\n",
       "      <th>Dlum</th>\n",
       "      <th>lgMstar</th>\n",
       "      <th>...</th>\n",
       "      <th>lgGF</th>\n",
       "      <th>HIconf_flag</th>\n",
       "      <th>weight</th>\n",
       "      <th>group_id_B</th>\n",
       "      <th>NYU_id</th>\n",
       "      <th>env_code_B</th>\n",
       "      <th>Ngal_B</th>\n",
       "      <th>yang_shred_code</th>\n",
       "      <th>logMh_Mst_B</th>\n",
       "      <th>lvir_ratB</th>\n",
       "    </tr>\n",
       "    <tr>\n",
       "      <th>GASS</th>\n",
       "      <th></th>\n",
       "      <th></th>\n",
       "      <th></th>\n",
       "      <th></th>\n",
       "      <th></th>\n",
       "      <th></th>\n",
       "      <th></th>\n",
       "      <th></th>\n",
       "      <th></th>\n",
       "      <th></th>\n",
       "      <th></th>\n",
       "      <th></th>\n",
       "      <th></th>\n",
       "      <th></th>\n",
       "      <th></th>\n",
       "      <th></th>\n",
       "      <th></th>\n",
       "      <th></th>\n",
       "      <th></th>\n",
       "      <th></th>\n",
       "      <th></th>\n",
       "    </tr>\n",
       "  </thead>\n",
       "  <tbody>\n",
       "    <tr>\n",
       "      <th>25167</th>\n",
       "      <td>232452</td>\n",
       "      <td>J130256.89+125250.0</td>\n",
       "      <td>1696</td>\n",
       "      <td>53116</td>\n",
       "      <td>361</td>\n",
       "      <td>195.73705</td>\n",
       "      <td>12.88058</td>\n",
       "      <td>0.036190</td>\n",
       "      <td>159.3</td>\n",
       "      <td>10.491000</td>\n",
       "      <td>...</td>\n",
       "      <td>-0.783</td>\n",
       "      <td>0.0</td>\n",
       "      <td>0.712</td>\n",
       "      <td>34830</td>\n",
       "      <td>1225459</td>\n",
       "      <td>2</td>\n",
       "      <td>2</td>\n",
       "      <td>0</td>\n",
       "      <td>12.0063</td>\n",
       "      <td>-1.160590</td>\n",
       "    </tr>\n",
       "    <tr>\n",
       "      <th>111063</th>\n",
       "      <td>0</td>\n",
       "      <td>J115825.43+250551.5</td>\n",
       "      <td>2655</td>\n",
       "      <td>54184</td>\n",
       "      <td>395</td>\n",
       "      <td>179.60596</td>\n",
       "      <td>25.09765</td>\n",
       "      <td>0.014083</td>\n",
       "      <td>61.0</td>\n",
       "      <td>9.613108</td>\n",
       "      <td>...</td>\n",
       "      <td>-1.709</td>\n",
       "      <td>0.0</td>\n",
       "      <td>1.769</td>\n",
       "      <td>445</td>\n",
       "      <td>2322863</td>\n",
       "      <td>0</td>\n",
       "      <td>27</td>\n",
       "      <td>0</td>\n",
       "      <td>12.9880</td>\n",
       "      <td>-1.013252</td>\n",
       "    </tr>\n",
       "    <tr>\n",
       "      <th>10292</th>\n",
       "      <td>253006</td>\n",
       "      <td>J151322.09+040701.2</td>\n",
       "      <td>590</td>\n",
       "      <td>52057</td>\n",
       "      <td>554</td>\n",
       "      <td>228.34206</td>\n",
       "      <td>4.11700</td>\n",
       "      <td>0.042600</td>\n",
       "      <td>188.4</td>\n",
       "      <td>10.444000</td>\n",
       "      <td>...</td>\n",
       "      <td>-1.696</td>\n",
       "      <td>-99.0</td>\n",
       "      <td>0.712</td>\n",
       "      <td>21937</td>\n",
       "      <td>307206</td>\n",
       "      <td>2</td>\n",
       "      <td>2</td>\n",
       "      <td>0</td>\n",
       "      <td>12.0369</td>\n",
       "      <td>-0.584870</td>\n",
       "    </tr>\n",
       "  </tbody>\n",
       "</table>\n",
       "<p>3 rows × 41 columns</p>\n",
       "</div>"
      ],
      "text/plain": [
       "         AGCnr                 SDSS  PLATEID    MJD  FIBERID         RA  \\\n",
       "GASS                                                                      \n",
       "25167   232452  J130256.89+125250.0     1696  53116      361  195.73705   \n",
       "111063       0  J115825.43+250551.5     2655  54184      395  179.60596   \n",
       "10292   253006  J151322.09+040701.2      590  52057      554  228.34206   \n",
       "\n",
       "             DEC     zSDSS   Dlum    lgMstar  ...   lgGF  HIconf_flag  weight  \\\n",
       "GASS                                          ...                               \n",
       "25167   12.88058  0.036190  159.3  10.491000  ... -0.783          0.0   0.712   \n",
       "111063  25.09765  0.014083   61.0   9.613108  ... -1.709          0.0   1.769   \n",
       "10292    4.11700  0.042600  188.4  10.444000  ... -1.696        -99.0   0.712   \n",
       "\n",
       "        group_id_B   NYU_id  env_code_B  Ngal_B  yang_shred_code  logMh_Mst_B  \\\n",
       "GASS                                                                            \n",
       "25167        34830  1225459           2       2                0      12.0063   \n",
       "111063         445  2322863           0      27                0      12.9880   \n",
       "10292        21937   307206           2       2                0      12.0369   \n",
       "\n",
       "        lvir_ratB  \n",
       "GASS               \n",
       "25167   -1.160590  \n",
       "111063  -1.013252  \n",
       "10292   -0.584870  \n",
       "\n",
       "[3 rows x 41 columns]"
      ]
     },
     "execution_count": 11,
     "metadata": {},
     "output_type": "execute_result"
    }
   ],
   "source": [
    "xg = pd.read_csv(f'{PATH}/data/xGASS_representative_sample.csv', index_col=0)\n",
    "xg.sample(3)"
   ]
  },
  {
   "cell_type": "code",
   "execution_count": 21,
   "metadata": {},
   "outputs": [
    {
     "data": {
      "text/plain": [
       "<matplotlib.legend.Legend at 0x7f72560a3250>"
      ]
     },
     "execution_count": 21,
     "metadata": {},
     "output_type": "execute_result"
    },
    {
     "data": {
      "image/png": "[encoded data removed]",
      "text/plain": [
       "<Figure size 432x288 with 1 Axes>"
      ]
     },
     "metadata": {
      "needs_background": "light"
     },
     "output_type": "display_data"
    }
   ],
   "source": [
    "\n",
    "plt.hist(a40.logfgas, alpha=0.8, density=1, bins=20, range=[-2.5, 3.5], histtype='step', lw=3, label=r'$\\alpha$.40')\n",
    "plt.hist(xg.lgGF, alpha=0.8, density=1, bins=20, range=[-2.5, 3.5], histtype='step', lw=3, label='xGASS')\n",
    "plt.hist(nibles['log(MHI/M*)'], alpha=0., density=1, bins=20, range=[-2.5, 3.5], label='NIBLES', hatch='//////')\n",
    "\n",
    "plt.xlabel(r'$\\log(M_{\\rm HI}/M_★)$', fontsize=14)\n",
    "plt.ylabel('Fraction', fontsize=14)\n",
    "plt.legend(fontsize=14)\n"
   ]
  },
  {
   "cell_type": "markdown",
   "metadata": {},
   "source": [
    "Obviously we won't be able to predict the strongly out of distribution samples"
   ]
  },
  {
   "cell_type": "markdown",
   "metadata": {},
   "source": [
    "## See distributions if we make $\\log(M_{\\star}/M_{\\rm sun}) \\geq 8$ cut "
   ]
  },
  {
   "cell_type": "code",
   "execution_count": 22,
   "metadata": {},
   "outputs": [],
   "source": [
    "nhi = nibles[nibles['log(M*)'] >= 8]"
   ]
  },
  {
   "cell_type": "code",
   "execution_count": 27,
   "metadata": {},
   "outputs": [
    {
     "name": "stderr",
     "output_type": "stream",
     "text": [
      "/opt/anaconda3/lib/python3.7/site-packages/numpy/lib/histograms.py:829: RuntimeWarning: invalid value encountered in greater_equal\n",
      "  keep = (tmp_a >= first_edge)\n",
      "/opt/anaconda3/lib/python3.7/site-packages/numpy/lib/histograms.py:830: RuntimeWarning: invalid value encountered in less_equal\n",
      "  keep &= (tmp_a <= last_edge)\n"
     ]
    },
    {
     "data": {
      "image/png": "[encoded data removed]",
      "text/plain": [
       "<Figure size 432x288 with 1 Axes>"
      ]
     },
     "metadata": {
      "needs_background": "light"
     },
     "output_type": "display_data"
    }
   ],
   "source": [
    "plt.hist(a40.logfgas, alpha=0.8, density=1, bins=20, range=[-2.5, 2.], histtype='step', lw=3, label=r'$\\alpha$.40')\n",
    "plt.hist(xg.lgGF, alpha=0.8, density=1, bins=20, range=[-2.5, 2.], histtype='step', lw=3, label='xGASS')\n",
    "plt.hist(nhi['log(MHI/M*)'], alpha=0., density=1, bins=20, range=[-2.5, 2.], label='NIBLES', hatch='//////')\n",
    "\n",
    "plt.xlabel(r'$\\log(M_{\\rm HI}/M_★)$', fontsize=14)\n",
    "plt.ylabel('Fraction', fontsize=14)\n",
    "plt.legend(fontsize=14)\n",
    "\n",
    "plt.savefig(f'{PATH}/results/figures-updated/fgas_distribution_histogram.pdf')"
   ]
  },
  {
   "cell_type": "markdown",
   "metadata": {},
   "source": [
    "Note these aren't saved"
   ]
  },
  {
   "cell_type": "markdown",
   "metadata": {},
   "source": [
    "## Remove overlapping sources\n",
    "\n",
    "Note that NIBLES HI masses are 45% lower than ALFALFA (Driel+16 section 4.6) and that they crossmatch NIBLES detections with SNR > 12 and W_50 agreement (only 82 sources). Our selection is generally more broad but we might expect a similar offset, given their attribution of the discrepancy to flux calibration."
   ]
  },
  {
   "cell_type": "code",
   "execution_count": 27,
   "metadata": {},
   "outputs": [],
   "source": [
    "a40_coords = SkyCoord(a40.RAdeg_OC, a40.DECdeg_OC, unit=u.deg)\n",
    "xg_coords = SkyCoord(xg.RA, xg.DEC, unit=u.deg)"
   ]
  },
  {
   "cell_type": "code",
   "execution_count": 28,
   "metadata": {},
   "outputs": [],
   "source": [
    "cutoff = 5 / 3600 # deg\n",
    "idx_a40, idx_nibles_a, _, _ = nibles_pos.search_around_sky(a40_coords, cutoff*u.deg)\n",
    "idx_xg, idx_nibles_b, _, _ = nibles_pos.search_around_sky(xg_coords, cutoff*u.deg)"
   ]
  },
  {
   "cell_type": "code",
   "execution_count": 29,
   "metadata": {},
   "outputs": [
    {
     "data": {
      "text/plain": [
       "323"
      ]
     },
     "execution_count": 29,
     "metadata": {},
     "output_type": "execute_result"
    }
   ],
   "source": [
    "idx_nibles = list(set(list(idx_nibles_a) + list(idx_nibles_b)))\n",
    "len(idx_nibles)"
   ]
  },
  {
   "cell_type": "code",
   "execution_count": 30,
   "metadata": {},
   "outputs": [],
   "source": [
    "nibles_clean = np.delete(nibles, idx_nibles)\n",
    "nibles_pos_clean = SkyCoord(np.delete(nibles_pos, idx_nibles))"
   ]
  },
  {
   "cell_type": "code",
   "execution_count": 31,
   "metadata": {},
   "outputs": [],
   "source": [
    "df_clean = pd.DataFrame(\n",
    "    dict(nibles_id=nibles_clean['Source'],\n",
    "         ra=nibles_pos_clean.ra.deg,\n",
    "         dec=nibles_pos_clean.dec.deg,\n",
    "         z=nibles_clean['Vopt'] / 3e5,\n",
    "         logMstar=nibles_clean['log(M*)'],\n",
    "         logMHI=nibles_clean['log(MHI)'],\n",
    "         logsSFR=nibles_clean['log(sSFR)'],\n",
    "         W50=nibles_clean['W50'],\n",
    "         peakSNR=nibles_clean['SNR'],\n",
    "         logfgas=nibles_clean['log(MHI/M*)'],\n",
    "    )\n",
    ")\n"
   ]
  },
  {
   "cell_type": "code",
   "execution_count": 32,
   "metadata": {},
   "outputs": [],
   "source": [
    "df.to_csv(f'{PATH}/data/NIBLES_clean.csv', index=False)"
   ]
  },
  {
   "cell_type": "markdown",
   "metadata": {},
   "source": [
    "# TLDR; use NIBLES_clean to remove overlapping sources with ALFALFA and xGASS. \n",
    "\n",
    "# The mass range still needs to be trimmed to remove very low-mass galaxies.\n",
    "\n",
    "# Finally, some of these lie outside the SDSS footprint."
   ]
  },
  {
   "cell_type": "code",
   "execution_count": null,
   "metadata": {},
   "outputs": [],
   "source": []
  }
 ],
 "metadata": {
  "kernelspec": {
   "display_name": "Python 3",
   "language": "python",
   "name": "python3"
  },
  "language_info": {
   "codemirror_mode": {
    "name": "ipython",
    "version": 3
   },
   "file_extension": ".py",
   "mimetype": "text/x-python",
   "name": "python",
   "nbconvert_exporter": "python",
   "pygments_lexer": "ipython3",
   "version": "3.7.4"
  },
  "toc": {
   "base_numbering": 1,
   "nav_menu": {},
   "number_sections": true,
   "sideBar": true,
   "skip_h1_title": false,
   "title_cell": "Table of Contents",
   "title_sidebar": "Contents",
   "toc_cell": false,
   "toc_position": {},
   "toc_section_display": true,
   "toc_window_display": false
  }
 },
 "nbformat": 4,
 "nbformat_minor": 2
}
