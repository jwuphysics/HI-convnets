{
 "cells": [
  {
   "cell_type": "markdown",
   "metadata": {},
   "source": [
    "# Imports"
   ]
  },
  {
   "cell_type": "code",
   "execution_count": 56,
   "metadata": {},
   "outputs": [],
   "source": [
    "import pandas as pd\n",
    "import numpy as np\n",
    "from pathlib import Path\n",
    "\n",
    "from glob import glob\n",
    "import os\n",
    "\n",
    "PATH = Path('../..').resolve()"
   ]
  },
  {
   "cell_type": "markdown",
   "metadata": {},
   "source": [
    "# Organizing ALFALFA and MPA-JHU SDSS catalogs"
   ]
  },
  {
   "cell_type": "code",
   "execution_count": 57,
   "metadata": {},
   "outputs": [],
   "source": [
    "df = pd.read_csv(f'{PATH}/data/a40.datafile3.csv')\n",
    "\n",
    "df2 =  pd.read_csv(f'{PATH}/data/a40.datafile1.csv')\n",
    "df2.rename(columns={'logMsun': 'logMHI'}, inplace=True)\n",
    "\n",
    "ids = np.array([os.path.basename(fn).strip('.jpg') for fn in glob(f'{PATH}/images-OC/*.jpg')], dtype=int)\n",
    "\n",
    "a40 = df.join(df2.set_index('AGCNr'), on='AGCNr', rsuffix='_sdss')\n",
    "a40 = a40[(a40.AGCNr.isin(ids)) & (a40.OCcode == 'I') & (a40.logMHI.notna())].copy()\n",
    "\n",
    "a40.rename(columns={'PhotoObjID': 'DR7ObjID'}, inplace=True)\n",
    "a40 = a40[['AGCNr', 'DR7ObjID', 'logMHI']].copy()"
   ]
  },
  {
   "cell_type": "code",
   "execution_count": 24,
   "metadata": {},
   "outputs": [],
   "source": [
    "sdss = pd.read_csv(f'{PATH}/data/SDSS_basic_data.csv')\n",
    "\n",
    "sdss.rename(columns={'lgm_tot_p50': 'logMstar'}, inplace=True)\n",
    "sdss.drop_duplicates(subset='DR7ObjID', keep=False, inplace=True) \n",
    "sdss = sdss[(sdss.logMstar > 0) & (sdss.logMstar.notna())].copy()\n",
    "sdss = sdss[['DR7ObjID', 'logMstar']].copy()"
   ]
  },
  {
   "cell_type": "markdown",
   "metadata": {},
   "source": [
    "# ALFALFA 40% catalogs"
   ]
  },
  {
   "cell_type": "markdown",
   "metadata": {},
   "source": [
    "## a.40A"
   ]
  },
  {
   "cell_type": "code",
   "execution_count": 80,
   "metadata": {},
   "outputs": [],
   "source": [
    "a40A = (\n",
    "    pd.read_csv(f'{PATH}/data/a40-SDSS_gas-frac.csv', usecols=(1,2)) # get AGCNr\n",
    "        .join(\n",
    "            a40.set_index('DR7ObjID')\n",
    "              .join(sdss.set_index('DR7ObjID'))          # match on DR7 ObjID\n",
    "              .set_index('AGCNr'), on='AGCNr'            # reset index to AGCNr in order to match with a.40\n",
    "        )\n",
    ")"
   ]
  },
  {
   "cell_type": "code",
   "execution_count": 85,
   "metadata": {},
   "outputs": [
    {
     "data": {
      "text/plain": [
       "9.71"
      ]
     },
     "metadata": {},
     "output_type": "display_data"
    },
    {
     "data": {
      "text/plain": [
       "0.16   -0.50\n",
       "0.84    0.35\n",
       "Name: logMHI, dtype: float64"
      ]
     },
     "metadata": {},
     "output_type": "display_data"
    }
   ],
   "source": [
    "display(a40A.logMHI.quantile(0.50))\n",
    "display(a40A.logMHI.quantile([0.16, 0.84]) - a40A.logMHI.quantile(0.50))"
   ]
  },
  {
   "cell_type": "code",
   "execution_count": 86,
   "metadata": {},
   "outputs": [
    {
     "data": {
      "text/plain": [
       "9.581133"
      ]
     },
     "metadata": {},
     "output_type": "display_data"
    },
    {
     "data": {
      "text/plain": [
       "0.16   -0.853462\n",
       "0.84    0.847903\n",
       "Name: logMstar, dtype: float64"
      ]
     },
     "metadata": {},
     "output_type": "display_data"
    }
   ],
   "source": [
    "display(a40A.logMstar.quantile(0.50))\n",
    "display(a40A.logMstar.quantile([0.16, 0.84]) - a40A.logMstar.quantile(0.50))"
   ]
  },
  {
   "cell_type": "code",
   "execution_count": 87,
   "metadata": {},
   "outputs": [
    {
     "data": {
      "text/plain": [
       "0.12480099999999796"
      ]
     },
     "metadata": {},
     "output_type": "display_data"
    },
    {
     "data": {
      "text/plain": [
       "0.16   -0.675185\n",
       "0.84    0.550076\n",
       "Name: logfgas, dtype: float64"
      ]
     },
     "metadata": {},
     "output_type": "display_data"
    }
   ],
   "source": [
    "display(a40A.logfgas.quantile(0.50))\n",
    "display(a40A.logfgas.quantile([0.16, 0.84]) - a40A.logfgas.quantile(0.50))"
   ]
  },
  {
   "cell_type": "code",
   "execution_count": 92,
   "metadata": {
    "scrolled": true
   },
   "outputs": [
    {
     "data": {
      "text/plain": [
       "7399"
      ]
     },
     "execution_count": 92,
     "metadata": {},
     "output_type": "execute_result"
    }
   ],
   "source": [
    "(a40A.logMstar.notnull()).sum()"
   ]
  },
  {
   "cell_type": "markdown",
   "metadata": {},
   "source": [
    "## a.40B"
   ]
  },
  {
   "cell_type": "code",
   "execution_count": 90,
   "metadata": {},
   "outputs": [],
   "source": [
    "a40B = pd.read_csv(f'{PATH}/data/a40-SDSS_galaxy-properties.csv', index_col='AGCNr', usecols=(1, 3, 4, 7))"
   ]
  },
  {
   "cell_type": "code",
   "execution_count": 93,
   "metadata": {},
   "outputs": [
    {
     "data": {
      "text/plain": [
       "logMHI      4797\n",
       "logMstar    4797\n",
       "logfgas     4797\n",
       "dtype: int64"
      ]
     },
     "execution_count": 93,
     "metadata": {},
     "output_type": "execute_result"
    }
   ],
   "source": [
    "a40B.notnull().sum()"
   ]
  },
  {
   "cell_type": "code",
   "execution_count": 94,
   "metadata": {},
   "outputs": [
    {
     "data": {
      "text/plain": [
       "9.68"
      ]
     },
     "metadata": {},
     "output_type": "display_data"
    },
    {
     "data": {
      "text/plain": [
       "0.16   -0.48\n",
       "0.84    0.33\n",
       "Name: logMHI, dtype: float64"
      ]
     },
     "metadata": {},
     "output_type": "display_data"
    }
   ],
   "source": [
    "display(a40B.logMHI.quantile(0.50))\n",
    "display(a40B.logMHI.quantile([0.16, 0.84]) - a40B.logMHI.quantile(0.50))"
   ]
  },
  {
   "cell_type": "code",
   "execution_count": 95,
   "metadata": {},
   "outputs": [
    {
     "data": {
      "text/plain": [
       "9.420522"
      ]
     },
     "metadata": {},
     "output_type": "display_data"
    },
    {
     "data": {
      "text/plain": [
       "0.16   -0.682286\n",
       "0.84    0.659805\n",
       "Name: logMstar, dtype: float64"
      ]
     },
     "metadata": {},
     "output_type": "display_data"
    }
   ],
   "source": [
    "display(a40B.logMstar.quantile(0.50))\n",
    "display(a40B.logMstar.quantile([0.16, 0.84]) - a40B.logMstar.quantile(0.50))"
   ]
  },
  {
   "cell_type": "code",
   "execution_count": 96,
   "metadata": {},
   "outputs": [
    {
     "data": {
      "text/plain": [
       "0.2394829999999999"
      ]
     },
     "metadata": {},
     "output_type": "display_data"
    },
    {
     "data": {
      "text/plain": [
       "0.16   -0.523041\n",
       "0.84    0.450642\n",
       "Name: logfgas, dtype: float64"
      ]
     },
     "metadata": {},
     "output_type": "display_data"
    }
   ],
   "source": [
    "display(a40B.logfgas.quantile(0.50))\n",
    "display(a40B.logfgas.quantile([0.16, 0.84]) - a40B.logfgas.quantile(0.50))"
   ]
  },
  {
   "cell_type": "code",
   "execution_count": null,
   "metadata": {},
   "outputs": [],
   "source": []
  }
 ],
 "metadata": {
  "kernelspec": {
   "display_name": "Python 3",
   "language": "python",
   "name": "python3"
  },
  "language_info": {
   "codemirror_mode": {
    "name": "ipython",
    "version": 3
   },
   "file_extension": ".py",
   "mimetype": "text/x-python",
   "name": "python",
   "nbconvert_exporter": "python",
   "pygments_lexer": "ipython3",
   "version": "3.7.3"
  },
  "toc": {
   "base_numbering": 1,
   "nav_menu": {},
   "number_sections": true,
   "sideBar": true,
   "skip_h1_title": false,
   "title_cell": "Table of Contents",
   "title_sidebar": "Contents",
   "toc_cell": false,
   "toc_position": {},
   "toc_section_display": true,
   "toc_window_display": false
  }
 },
 "nbformat": 4,
 "nbformat_minor": 4
}
