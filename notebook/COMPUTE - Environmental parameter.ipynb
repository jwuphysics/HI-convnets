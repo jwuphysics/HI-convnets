{
 "cells": [
  {
   "cell_type": "code",
   "execution_count": 1,
   "metadata": {},
   "outputs": [],
   "source": [
    "from fastai import *\n",
    "from fastai.vision import *\n",
    "\n",
    "%matplotlib inline\n",
    "\n",
    "PATH = os.path.abspath('..')\n",
    "\n",
    "seed = 12345"
   ]
  },
  {
   "cell_type": "code",
   "execution_count": 2,
   "metadata": {},
   "outputs": [
    {
     "name": "stdout",
     "output_type": "stream",
     "text": [
      "2019-12-05T18:35:29+00:00\n",
      "\n",
      "CPython 3.7.4\n",
      "IPython 7.9.0\n",
      "\n",
      "compiler   : GCC 7.3.0\n",
      "system     : Linux\n",
      "release    : 4.9.0-11-amd64\n",
      "machine    : x86_64\n",
      "processor  : \n",
      "CPU cores  : 8\n",
      "interpreter: 64bit\n"
     ]
    }
   ],
   "source": [
    "%load_ext watermark\n",
    "%watermark"
   ]
  },
  {
   "cell_type": "markdown",
   "metadata": {},
   "source": [
    "# Helper functions"
   ]
  },
  {
   "cell_type": "code",
   "execution_count": 3,
   "metadata": {},
   "outputs": [
    {
     "name": "stdout",
     "output_type": "stream",
     "text": [
      "Mish activation loaded...\n",
      "Mish activation loaded...\n"
     ]
    }
   ],
   "source": [
    "sys.path.append(f'{PATH}/src')\n",
    "\n",
    "from mxresnet import *\n",
    "from ranger import Ranger"
   ]
  },
  {
   "cell_type": "code",
   "execution_count": 4,
   "metadata": {},
   "outputs": [],
   "source": [
    "def get_xgass_data():\n",
    "    xg = (\n",
    "        pd.read_csv(f\"{PATH}/data/xGASS_representative_sample.csv\")\n",
    "          .join(pd.read_csv(f\"{PATH}/data/xGASS-delta_5.csv\", index_col=\"GASS\"), on=\"GASS\", rsuffix='_GASS')\n",
    "    )\n",
    "    \n",
    "    xg['logfgas'] = xg.lgMHI - xg.lgMstar\n",
    "    \n",
    "    return xg.copy()\n",
    "\n",
    "\n",
    "def get_a40_data():\n",
    "    a40 = (\n",
    "        pd.read_csv(f\"{PATH}/data/a40-SDSS_gas-frac.csv\")\n",
    "          .join(pd.read_csv(f\"{PATH}/data/a.40-delta_5.csv\", index_col=\"AGCNr\"), on=\"AGCNr\", rsuffix='_a40')\n",
    "          .join(pd.read_csv(f\"{PATH}/data/a40.datafile3.csv\", index_col=\"AGCNr\"), on=\"AGCNr\", rsuffix='_sdss')\n",
    "    )\n",
    "\n",
    "    return a40.copy()"
   ]
  },
  {
   "cell_type": "code",
   "execution_count": 5,
   "metadata": {},
   "outputs": [],
   "source": [
    "def split_underdense(df, p=0.2, reverse=False):\n",
    "    \"\"\"Add boolean column that is True if delta_5 is less than \n",
    "    0.2 quantile (or given `p`).\n",
    "\n",
    "    If reverse=False, then the highest density galaxies are \n",
    "    split out into this new column.\n",
    "    \"\"\"\n",
    "\n",
    "    df['validation'] = ((df.delta_5 < df.delta_5.quantile(q=p)) \\\n",
    "                      if not reverse \\\n",
    "                      else (df.delta_5 > df.delta_5.quantile(q=1-p)))\n",
    "\n",
    "    return df.copy()"
   ]
  },
  {
   "cell_type": "code",
   "execution_count": 6,
   "metadata": {},
   "outputs": [],
   "source": [
    "def split_isolated(xg, split='isolated', remove_nonmembers=True):\n",
    "    \"\"\"Add boolean column that is True for isolated systems \n",
    "    (or other options below) in the Yang+08 catalog. By default,\n",
    "    non-catalog members are excluded (env_code_B = -1).\n",
    "    \n",
    "    All options for `split`:\n",
    "      isolated (centrals only)\n",
    "      group (centrals + satellites)\n",
    "      groupcentrals (centrals only)\n",
    "      satellites (only group satellites)\n",
    "    \"\"\"\n",
    "    \n",
    "    \n",
    "    df = xg[xg.env_code_B != -1].copy() if remove_nonmembers else xg.copy()\n",
    "    \n",
    "    if split == 'isolated':\n",
    "        df['validation'] = (df.env_code_B == 1)\n",
    "    elif split == 'group':\n",
    "        df['validation'] = (df.env_code_B == 0) | (df.env_code_B == 2)\n",
    "    elif split == 'groupcentrals':\n",
    "        df['validation'] = (df.env_code_B == 2)\n",
    "    elif split == 'satellites':\n",
    "        df['validation'] = (df.env_code_B == 0)\n",
    "    else:\n",
    "        raise ValueError('Pleasure choose correct option for `split` parameter.')\n",
    "    \n",
    "    return df.copy()\n",
    "    "
   ]
  },
  {
   "cell_type": "markdown",
   "metadata": {},
   "source": [
    "# Options"
   ]
  },
  {
   "cell_type": "code",
   "execution_count": 7,
   "metadata": {},
   "outputs": [],
   "source": [
    "import warnings\n",
    "warnings.filterwarnings('ignore', category=UserWarning)"
   ]
  },
  {
   "cell_type": "code",
   "execution_count": 8,
   "metadata": {},
   "outputs": [],
   "source": [
    "lr = 3e-2\n",
    "n_epochs = 10"
   ]
  },
  {
   "cell_type": "code",
   "execution_count": 9,
   "metadata": {},
   "outputs": [],
   "source": [
    "bs = 32\n",
    "sz = 224\n",
    "\n",
    "xGASS_stats = [tensor([-0.0169, -0.0105, -0.0004]), tensor([0.9912, 0.9968, 1.0224])]\n",
    "\n",
    "tfms = get_transforms(\n",
    "    do_flip=True,\n",
    "    flip_vert=True,\n",
    "    max_zoom=1.0,\n",
    "    max_rotate=15.0,\n",
    "    max_lighting=0,\n",
    "    max_warp=0,\n",
    ")"
   ]
  },
  {
   "cell_type": "markdown",
   "metadata": {
    "heading_collapsed": true
   },
   "source": [
    "# ALFALFA $\\alpha.40$"
   ]
  },
  {
   "cell_type": "code",
   "execution_count": 8,
   "metadata": {
    "hidden": true
   },
   "outputs": [],
   "source": [
    "a40 = split_underdense(get_a40_data(), p=0.2)"
   ]
  },
  {
   "cell_type": "code",
   "execution_count": 9,
   "metadata": {
    "hidden": true
   },
   "outputs": [
    {
     "data": {
      "text/plain": [
       "False    5922\n",
       "True     1477\n",
       "Name: validation, dtype: int64"
      ]
     },
     "execution_count": 9,
     "metadata": {},
     "output_type": "execute_result"
    }
   ],
   "source": [
    "a40.validation.value_counts()"
   ]
  },
  {
   "cell_type": "markdown",
   "metadata": {
    "hidden": true
   },
   "source": [
    "## Validate on underdense galaxies"
   ]
  },
  {
   "cell_type": "code",
   "execution_count": 13,
   "metadata": {
    "hidden": true
   },
   "outputs": [
    {
     "data": {
      "text/html": [],
      "text/plain": [
       "<IPython.core.display.HTML object>"
      ]
     },
     "metadata": {},
     "output_type": "display_data"
    }
   ],
   "source": [
    "# Train on overdense, validate on underdense\n",
    "\n",
    "for i in range(5):\n",
    "\n",
    "    try:\n",
    "        learn.purge();\n",
    "    except NameError:\n",
    "        pass\n",
    "\n",
    "    df = split_underdense(get_a40_data()).copy()\n",
    "    \n",
    "    src = (\n",
    "        ImageList.from_df(\n",
    "            df, path=PATH, folder=\"images-OC\", suffix=\".jpg\", cols=\"AGCNr\"\n",
    "        )\n",
    "        .split_from_df(col='validation')\n",
    "        .label_from_df(cols=[\"logfgas\"], label_cls=FloatList)\n",
    "    )\n",
    "\n",
    "    data = (\n",
    "        src.transform(tfms, size=sz)\n",
    "        .databunch(bs=bs)\n",
    "        .normalize(xGASS_stats)\n",
    "    )\n",
    "\n",
    "    learn = Learner(\n",
    "        data,\n",
    "        model=mxresnet34(),\n",
    "        opt_func=partial(Ranger),\n",
    "        loss_func=root_mean_squared_error,\n",
    "        wd=1e-4,\n",
    "        bn_wd=False,\n",
    "        true_wd=True,\n",
    "    )\n",
    "\n",
    "    learn.model[-1] = nn.Linear(learn.model[-1].in_features, 1, bias=True).cuda()\n",
    "\n",
    "    learn.fit_one_cycle(n_epochs, lr, )\n",
    "\n",
    "    fgas_pred, fgas_true = learn.TTA(scale=1.)\n",
    "\n",
    "    with open(f'{PATH}/results/environment/delta_5/a40-valid-underdense.txt', 'a') as f:\n",
    "        print('{:.4f}'.format(root_mean_squared_error(fgas_pred, fgas_true)), file=f)"
   ]
  },
  {
   "cell_type": "markdown",
   "metadata": {
    "hidden": true
   },
   "source": [
    "## Validate on overdense galaxies"
   ]
  },
  {
   "cell_type": "code",
   "execution_count": null,
   "metadata": {
    "hidden": true
   },
   "outputs": [],
   "source": [
    "# Train on underdense, validate on overdense\n",
    "\n",
    "for i in range(5):\n",
    "    try:\n",
    "        learn.purge();\n",
    "    except NameError:\n",
    "        pass\n",
    "\n",
    "    df = split_underdense(get_a40_data(), reverse=True)\n",
    "\n",
    "    src = (\n",
    "        ImageList.from_df(\n",
    "            df, path=PATH, folder=\"images-OC\", suffix=\".jpg\", cols=\"AGCNr\"\n",
    "        )\n",
    "        .split_from_df(col='validation')\n",
    "        .label_from_df(cols=[\"logfgas\"], label_cls=FloatList)\n",
    "    )\n",
    "\n",
    "    data = (\n",
    "        src.transform(tfms, size=sz)\n",
    "        .databunch(bs=bs)\n",
    "        .normalize(xGASS_stats)\n",
    "    )\n",
    "\n",
    "    learn = Learner(\n",
    "        data,\n",
    "        model=mxresnet34(),\n",
    "        opt_func=partial(Ranger),\n",
    "        loss_func=root_mean_squared_error,\n",
    "        wd=1e-4,\n",
    "        bn_wd=False,\n",
    "        true_wd=True,\n",
    "    )\n",
    "\n",
    "    learn.model[-1] = nn.Linear(learn.model[-1].in_features, 1, bias=True).cuda()\n",
    "\n",
    "    learn.fit_one_cycle(n_epochs, lr, )\n",
    "\n",
    "    fgas_pred, fgas_true = learn.TTA(scale=1.)\n",
    "    with open(f'{PATH}/results/environment/delta_5/a40-valid-overdense.txt', 'a') as f:\n",
    "        print('{:.4f}'.format(root_mean_squared_error(fgas_pred, fgas_true)), file=f)\n"
   ]
  },
  {
   "cell_type": "markdown",
   "metadata": {
    "hidden": true
   },
   "source": [
    "## Validate on randomized galaxies"
   ]
  },
  {
   "cell_type": "code",
   "execution_count": 13,
   "metadata": {
    "hidden": true
   },
   "outputs": [
    {
     "data": {
      "text/html": [],
      "text/plain": [
       "<IPython.core.display.HTML object>"
      ]
     },
     "metadata": {},
     "output_type": "display_data"
    }
   ],
   "source": [
    "# train on random\n",
    "\n",
    "for i in range(5):\n",
    "    try:\n",
    "        learn.purge();\n",
    "    except NameError:\n",
    "        pass\n",
    "\n",
    "    df = split_underdense(get_a40_data(), reverse=True)\n",
    "\n",
    "    src = (\n",
    "        ImageList.from_df(\n",
    "            df, path=PATH, folder=\"images-OC\", suffix=\".jpg\", cols=\"AGCNr\"\n",
    "        )\n",
    "        .split_by_rand_pct(0.2)\n",
    "        .label_from_df(cols=[\"logfgas\"], label_cls=FloatList)\n",
    "    )\n",
    "\n",
    "    data = (\n",
    "        src.transform(tfms, size=sz)\n",
    "        .databunch(bs=bs)\n",
    "        .normalize(xGASS_stats)\n",
    "    )\n",
    "\n",
    "    learn = Learner(\n",
    "        data,\n",
    "        model=mxresnet34(),\n",
    "        opt_func=partial(Ranger),\n",
    "        loss_func=root_mean_squared_error,\n",
    "        wd=1e-4,\n",
    "        bn_wd=False,\n",
    "        true_wd=True,\n",
    "    )\n",
    "\n",
    "    learn.model[-1] = nn.Linear(learn.model[-1].in_features, 1, bias=True).cuda()\n",
    "\n",
    "    learn.fit_one_cycle(n_epochs, lr, )\n",
    "\n",
    "    fgas_pred, fgas_true = learn.TTA(scale=1.)\n",
    "    with open(f'{PATH}/results/environment/delta_5/a40-valid-random.txt', 'a') as f:\n",
    "        print('{:.4f}'.format(root_mean_squared_error(fgas_pred, fgas_true)), file=f)\n"
   ]
  },
  {
   "cell_type": "markdown",
   "metadata": {
    "heading_collapsed": true
   },
   "source": [
    "# xGASS (Split by $\\delta_5$)"
   ]
  },
  {
   "cell_type": "code",
   "execution_count": 14,
   "metadata": {
    "hidden": true
   },
   "outputs": [
    {
     "data": {
      "text/plain": [
       "False    943\n",
       "True     236\n",
       "Name: validation, dtype: int64"
      ]
     },
     "execution_count": 14,
     "metadata": {},
     "output_type": "execute_result"
    }
   ],
   "source": [
    "xg = split_underdense(get_xgass_data())\n",
    "\n",
    "xg.validation.value_counts()"
   ]
  },
  {
   "cell_type": "markdown",
   "metadata": {
    "hidden": true
   },
   "source": [
    "##  Validate on underdense galaxies"
   ]
  },
  {
   "cell_type": "code",
   "execution_count": 15,
   "metadata": {
    "hidden": true
   },
   "outputs": [
    {
     "data": {
      "text/html": [],
      "text/plain": [
       "<IPython.core.display.HTML object>"
      ]
     },
     "metadata": {},
     "output_type": "display_data"
    }
   ],
   "source": [
    "# Train on overdense, validate on underdense\n",
    "\n",
    "for i in range(5):\n",
    "\n",
    "    try:\n",
    "        learn.purge();\n",
    "    except NameError:\n",
    "        pass\n",
    "\n",
    "    df = split_underdense(get_xgass_data()).copy()\n",
    "    \n",
    "    src = (\n",
    "        ImageList.from_df(\n",
    "            df, path=PATH, folder=\"images-xGASS\", suffix=\".jpg\", cols=\"GASS\"\n",
    "        )\n",
    "        .split_from_df(col='validation')\n",
    "        .label_from_df(cols=[\"logfgas\"], label_cls=FloatList)\n",
    "    )\n",
    "\n",
    "    data = (\n",
    "        src.transform(tfms, size=sz)\n",
    "        .databunch(bs=bs)\n",
    "        .normalize(xGASS_stats)\n",
    "    )\n",
    "\n",
    "    learn = Learner(\n",
    "        data,\n",
    "        model=mxresnet34(),\n",
    "        opt_func=partial(Ranger),\n",
    "        loss_func=root_mean_squared_error,\n",
    "        wd=1e-4,\n",
    "        bn_wd=False,\n",
    "        true_wd=True,\n",
    "    )\n",
    "\n",
    "    learn.model[-1] = nn.Linear(learn.model[-1].in_features, 1, bias=True).cuda()\n",
    "\n",
    "    learn.fit_one_cycle(n_epochs, lr, )\n",
    "\n",
    "    fgas_pred, fgas_true = learn.TTA(scale=1.)\n",
    "\n",
    "    with open(f'{PATH}/results/environment/delta_5/xgass-valid-underdense.txt', 'a') as f:\n",
    "        print('{:.4f}'.format(root_mean_squared_error(fgas_pred, fgas_true)), file=f)"
   ]
  },
  {
   "cell_type": "markdown",
   "metadata": {
    "hidden": true
   },
   "source": [
    "## Validate on overdense"
   ]
  },
  {
   "cell_type": "code",
   "execution_count": 16,
   "metadata": {
    "hidden": true
   },
   "outputs": [
    {
     "data": {
      "text/html": [],
      "text/plain": [
       "<IPython.core.display.HTML object>"
      ]
     },
     "metadata": {},
     "output_type": "display_data"
    }
   ],
   "source": [
    "# Train on underdense, validate on overdense\n",
    "\n",
    "for i in range(5):\n",
    "\n",
    "    try:\n",
    "        learn.purge();\n",
    "    except NameError:\n",
    "        pass\n",
    "\n",
    "    df = split_underdense(get_xgass_data(), reverse=True).copy()\n",
    "    \n",
    "    src = (\n",
    "        ImageList.from_df(\n",
    "            df, path=PATH, folder=\"images-xGASS\", suffix=\".jpg\", cols=\"GASS\"\n",
    "        )\n",
    "        .split_from_df(col='validation')\n",
    "        .label_from_df(cols=[\"logfgas\"], label_cls=FloatList)\n",
    "    )\n",
    "\n",
    "    data = (\n",
    "        src.transform(tfms, size=sz)\n",
    "        .databunch(bs=bs)\n",
    "        .normalize(xGASS_stats)\n",
    "    )\n",
    "\n",
    "    learn = Learner(\n",
    "        data,\n",
    "        model=mxresnet34(),\n",
    "        opt_func=partial(Ranger),\n",
    "        loss_func=root_mean_squared_error,\n",
    "        wd=1e-4,\n",
    "        bn_wd=False,\n",
    "        true_wd=True,\n",
    "    )\n",
    "\n",
    "    learn.model[-1] = nn.Linear(learn.model[-1].in_features, 1, bias=True).cuda()\n",
    "\n",
    "    learn.fit_one_cycle(n_epochs, lr, )\n",
    "\n",
    "    fgas_pred, fgas_true = learn.TTA(scale=1.)\n",
    "\n",
    "    with open(f'{PATH}/results/environment/delta_5/xgass-valid-overdense.txt', 'a') as f:\n",
    "        print('{:.4f}'.format(root_mean_squared_error(fgas_pred, fgas_true)), file=f)"
   ]
  },
  {
   "cell_type": "markdown",
   "metadata": {
    "hidden": true
   },
   "source": [
    "## Validate on randomized split"
   ]
  },
  {
   "cell_type": "code",
   "execution_count": 17,
   "metadata": {
    "hidden": true
   },
   "outputs": [
    {
     "data": {
      "text/html": [],
      "text/plain": [
       "<IPython.core.display.HTML object>"
      ]
     },
     "metadata": {},
     "output_type": "display_data"
    }
   ],
   "source": [
    "# Validate on randomized galaxies\n",
    "\n",
    "for i in range(5):\n",
    "\n",
    "    try:\n",
    "        learn.purge();\n",
    "    except NameError:\n",
    "        pass\n",
    "\n",
    "    df = get_xgass_data()\n",
    "    \n",
    "    src = (\n",
    "        ImageList.from_df(\n",
    "            df, path=PATH, folder=\"images-xGASS\", suffix=\".jpg\", cols=\"GASS\"\n",
    "        )\n",
    "        .split_by_rand_pct(0.2)\n",
    "        .label_from_df(cols=[\"logfgas\"], label_cls=FloatList)\n",
    "    )\n",
    "\n",
    "    data = (\n",
    "        src.transform(tfms, size=sz)\n",
    "        .databunch(bs=bs)\n",
    "        .normalize(xGASS_stats)\n",
    "    )\n",
    "\n",
    "    learn = Learner(\n",
    "        data,\n",
    "        model=mxresnet34(),\n",
    "        opt_func=partial(Ranger),\n",
    "        loss_func=root_mean_squared_error,\n",
    "        wd=1e-4,\n",
    "        bn_wd=False,\n",
    "        true_wd=True,\n",
    "    )\n",
    "\n",
    "    learn.model[-1] = nn.Linear(learn.model[-1].in_features, 1, bias=True).cuda()\n",
    "\n",
    "    learn.fit_one_cycle(n_epochs, lr, )\n",
    "\n",
    "    fgas_pred, fgas_true = learn.TTA(scale=1.)\n",
    "\n",
    "    with open(f'{PATH}/results/environment/delta_5/xgass-valid-random.txt', 'a') as f:\n",
    "        print('{:.4f}'.format(root_mean_squared_error(fgas_pred, fgas_true)), file=f)"
   ]
  },
  {
   "cell_type": "markdown",
   "metadata": {},
   "source": [
    "# xGASS (Yang+08 group catalog)"
   ]
  },
  {
   "cell_type": "code",
   "execution_count": 12,
   "metadata": {},
   "outputs": [
    {
     "data": {
      "text/plain": [
       "1    541\n",
       "0    352\n",
       "2    262\n",
       "Name: env_code_B, dtype: int64"
      ]
     },
     "execution_count": 12,
     "metadata": {},
     "output_type": "execute_result"
    }
   ],
   "source": [
    "xg = split_isolated(get_xgass_data())\n",
    "\n",
    "xg.env_code_B.value_counts()"
   ]
  },
  {
   "cell_type": "markdown",
   "metadata": {},
   "source": [
    "## Validate on isolated (541/1155)"
   ]
  },
  {
   "cell_type": "code",
   "execution_count": 20,
   "metadata": {},
   "outputs": [
    {
     "data": {
      "text/html": [],
      "text/plain": [
       "<IPython.core.display.HTML object>"
      ]
     },
     "metadata": {},
     "output_type": "display_data"
    }
   ],
   "source": [
    "# validate on all isolated\n",
    "\n",
    "for i in range(5):\n",
    "\n",
    "    try:\n",
    "        learn.purge();\n",
    "    except NameError:\n",
    "        pass\n",
    "\n",
    "    df = split_isolated(get_xgass_data(), split='isolated')\n",
    "\n",
    "\n",
    "    src = (\n",
    "        ImageList.from_df(\n",
    "            df, path=PATH, folder=\"images-xGASS\", suffix=\".jpg\", cols=\"GASS\"\n",
    "        )\n",
    "        .split_from_df(col='validation')\n",
    "        .label_from_df(cols=[\"logfgas\"], label_cls=FloatList)\n",
    "    )\n",
    "\n",
    "    data = (\n",
    "        src.transform(tfms, size=sz)\n",
    "        .databunch(bs=bs)\n",
    "        .normalize(xGASS_stats)\n",
    "    )\n",
    "\n",
    "    learn = Learner(\n",
    "        data,\n",
    "        model=mxresnet34(),\n",
    "        opt_func=partial(Ranger),\n",
    "        loss_func=root_mean_squared_error,\n",
    "        wd=1e-3,\n",
    "        bn_wd=False,\n",
    "        true_wd=True,\n",
    "    )\n",
    "\n",
    "    learn.model[-1] = nn.Linear(learn.model[-1].in_features, 1, bias=True).cuda()\n",
    "\n",
    "    learn.fit_one_cycle(n_epochs, lr)\n",
    "\n",
    "    fgas_pred, fgas_true = learn.TTA(scale=1.)\n",
    "\n",
    "    with open(f'{PATH}/results/environment/groupcat/xgass-valid-isolated.txt', 'a') as f:\n",
    "        print('{:.4f}'.format(root_mean_squared_error(fgas_pred, fgas_true)), file=f)\n"
   ]
  },
  {
   "cell_type": "code",
   "execution_count": 21,
   "metadata": {},
   "outputs": [
    {
     "data": {
      "text/html": [],
      "text/plain": [
       "<IPython.core.display.HTML object>"
      ]
     },
     "metadata": {},
     "output_type": "display_data"
    }
   ],
   "source": [
    "# validate on randoms (same proportion as isolated)\n",
    "\n",
    "for i in range(5):\n",
    "\n",
    "    try:\n",
    "        learn.purge();\n",
    "    except NameError:\n",
    "        pass\n",
    "\n",
    "    df = split_isolated(get_xgass_data(), split='isolated')\n",
    "\n",
    "\n",
    "    src = (\n",
    "        ImageList.from_df(\n",
    "            df, path=PATH, folder=\"images-xGASS\", suffix=\".jpg\", cols=\"GASS\"\n",
    "        )\n",
    "        .split_by_rand_pct(541/1155)\n",
    "        .label_from_df(cols=[\"logfgas\"], label_cls=FloatList)\n",
    "    )\n",
    "\n",
    "    data = (\n",
    "        src.transform(tfms, size=sz)\n",
    "        .databunch(bs=bs)\n",
    "        .normalize(xGASS_stats)\n",
    "    )\n",
    "\n",
    "    learn = Learner(\n",
    "        data,\n",
    "        model=mxresnet34(),\n",
    "        opt_func=partial(Ranger),\n",
    "        loss_func=root_mean_squared_error,\n",
    "        wd=1e-3,\n",
    "        bn_wd=False,\n",
    "        true_wd=True,\n",
    "    )\n",
    "\n",
    "    learn.model[-1] = nn.Linear(learn.model[-1].in_features, 1, bias=True).cuda()\n",
    "\n",
    "    learn.fit_one_cycle(n_epochs, lr)\n",
    "\n",
    "    fgas_pred, fgas_true = learn.TTA(scale=1.)\n",
    "\n",
    "    with open(f'{PATH}/results/environment/groupcat/xgass-valid-isolated_randoms.txt', 'a') as f:\n",
    "        print('{:.4f}'.format(root_mean_squared_error(fgas_pred, fgas_true)), file=f)\n"
   ]
  },
  {
   "cell_type": "markdown",
   "metadata": {},
   "source": [
    "## Validate on groupcentrals (262/1155)"
   ]
  },
  {
   "cell_type": "code",
   "execution_count": 11,
   "metadata": {},
   "outputs": [
    {
     "data": {
      "text/html": [],
      "text/plain": [
       "<IPython.core.display.HTML object>"
      ]
     },
     "metadata": {},
     "output_type": "display_data"
    }
   ],
   "source": [
    "# validate on group centrals\n",
    "\n",
    "for i in range(5):\n",
    "\n",
    "    try:\n",
    "        learn.purge();\n",
    "    except NameError:\n",
    "        pass\n",
    "\n",
    "    df = split_isolated(get_xgass_data(), split='groupcentrals')\n",
    "\n",
    "\n",
    "    src = (\n",
    "        ImageList.from_df(\n",
    "            df, path=PATH, folder=\"images-xGASS\", suffix=\".jpg\", cols=\"GASS\"\n",
    "        )\n",
    "        .split_from_df(col='validation')\n",
    "        .label_from_df(cols=[\"logfgas\"], label_cls=FloatList)\n",
    "    )\n",
    "\n",
    "    data = (\n",
    "        src.transform(tfms, size=sz)\n",
    "        .databunch(bs=bs)\n",
    "        .normalize(xGASS_stats)\n",
    "    )\n",
    "\n",
    "    learn = Learner(\n",
    "        data,\n",
    "        model=mxresnet34(),\n",
    "        opt_func=partial(Ranger),\n",
    "        loss_func=root_mean_squared_error,\n",
    "        wd=1e-3,\n",
    "        bn_wd=False,\n",
    "        true_wd=True,\n",
    "    )\n",
    "\n",
    "    learn.model[-1] = nn.Linear(learn.model[-1].in_features, 1, bias=True).cuda()\n",
    "\n",
    "    learn.fit_one_cycle(n_epochs, lr)\n",
    "\n",
    "    fgas_pred, fgas_true = learn.TTA(scale=1.)\n",
    "\n",
    "    with open(f'{PATH}/results/environment/groupcat/xgass-valid-groupcentrals.txt', 'a') as f:\n",
    "        print('{:.4f}'.format(root_mean_squared_error(fgas_pred, fgas_true)), file=f)\n"
   ]
  },
  {
   "cell_type": "code",
   "execution_count": 12,
   "metadata": {},
   "outputs": [
    {
     "data": {
      "text/html": [],
      "text/plain": [
       "<IPython.core.display.HTML object>"
      ]
     },
     "metadata": {},
     "output_type": "display_data"
    }
   ],
   "source": [
    "# validate on randoms (same proportion as group centrals)\n",
    "\n",
    "for i in range(5):\n",
    "\n",
    "    try:\n",
    "        learn.purge();\n",
    "    except NameError:\n",
    "        pass\n",
    "\n",
    "    df = split_isolated(get_xgass_data(), split='groupcentrals')\n",
    "\n",
    "\n",
    "    src = (\n",
    "        ImageList.from_df(\n",
    "            df, path=PATH, folder=\"images-xGASS\", suffix=\".jpg\", cols=\"GASS\"\n",
    "        )\n",
    "        .split_by_rand_pct(262/1155)\n",
    "        .label_from_df(cols=[\"logfgas\"], label_cls=FloatList)\n",
    "    )\n",
    "\n",
    "    data = (\n",
    "        src.transform(tfms, size=sz)\n",
    "        .databunch(bs=bs)\n",
    "        .normalize(xGASS_stats)\n",
    "    )\n",
    "\n",
    "    learn = Learner(\n",
    "        data,\n",
    "        model=mxresnet34(),\n",
    "        opt_func=partial(Ranger),\n",
    "        loss_func=root_mean_squared_error,\n",
    "        wd=1e-3,\n",
    "        bn_wd=False,\n",
    "        true_wd=True,\n",
    "    )\n",
    "\n",
    "    learn.model[-1] = nn.Linear(learn.model[-1].in_features, 1, bias=True).cuda()\n",
    "\n",
    "    learn.fit_one_cycle(n_epochs, lr)\n",
    "\n",
    "    fgas_pred, fgas_true = learn.TTA(scale=1.)\n",
    "\n",
    "    with open(f'{PATH}/results/environment/groupcat/xgass-valid-groupcentral_randoms.txt', 'a') as f:\n",
    "        print('{:.4f}'.format(root_mean_squared_error(fgas_pred, fgas_true)), file=f)\n"
   ]
  },
  {
   "cell_type": "markdown",
   "metadata": {},
   "source": [
    "## Validate on group satellites (352/1155)"
   ]
  },
  {
   "cell_type": "code",
   "execution_count": 13,
   "metadata": {},
   "outputs": [
    {
     "data": {
      "text/html": [],
      "text/plain": [
       "<IPython.core.display.HTML object>"
      ]
     },
     "metadata": {},
     "output_type": "display_data"
    }
   ],
   "source": [
    "# validate on group satellites\n",
    "\n",
    "for i in range(5):\n",
    "\n",
    "    try:\n",
    "        learn.purge();\n",
    "    except NameError:\n",
    "        pass\n",
    "\n",
    "    df = split_isolated(get_xgass_data(), split='satellites')\n",
    "\n",
    "\n",
    "    src = (\n",
    "        ImageList.from_df(\n",
    "            df, path=PATH, folder=\"images-xGASS\", suffix=\".jpg\", cols=\"GASS\"\n",
    "        )\n",
    "        .split_from_df(col='validation')\n",
    "        .label_from_df(cols=[\"logfgas\"], label_cls=FloatList)\n",
    "    )\n",
    "\n",
    "    data = (\n",
    "        src.transform(tfms, size=sz)\n",
    "        .databunch(bs=bs)\n",
    "        .normalize(xGASS_stats)\n",
    "    )\n",
    "\n",
    "    learn = Learner(\n",
    "        data,\n",
    "        model=mxresnet34(),\n",
    "        opt_func=partial(Ranger),\n",
    "        loss_func=root_mean_squared_error,\n",
    "        wd=1e-3,\n",
    "        bn_wd=False,\n",
    "        true_wd=True,\n",
    "    )\n",
    "\n",
    "    learn.model[-1] = nn.Linear(learn.model[-1].in_features, 1, bias=True).cuda()\n",
    "\n",
    "    learn.fit_one_cycle(n_epochs, lr)\n",
    "\n",
    "    fgas_pred, fgas_true = learn.TTA(scale=1.)\n",
    "\n",
    "    with open(f'{PATH}/results/environment/groupcat/xgass-valid-satellites.txt', 'a') as f:\n",
    "        print('{:.4f}'.format(root_mean_squared_error(fgas_pred, fgas_true)), file=f)\n"
   ]
  },
  {
   "cell_type": "code",
   "execution_count": 14,
   "metadata": {},
   "outputs": [
    {
     "data": {
      "text/html": [],
      "text/plain": [
       "<IPython.core.display.HTML object>"
      ]
     },
     "metadata": {},
     "output_type": "display_data"
    }
   ],
   "source": [
    "# validate on randoms (same proportion as group satellites)\n",
    "\n",
    "for i in range(5):\n",
    "\n",
    "    try:\n",
    "        learn.purge();\n",
    "    except NameError:\n",
    "        pass\n",
    "\n",
    "    df = split_isolated(get_xgass_data(), split='satellites')\n",
    "\n",
    "\n",
    "    src = (\n",
    "        ImageList.from_df(\n",
    "            df, path=PATH, folder=\"images-xGASS\", suffix=\".jpg\", cols=\"GASS\"\n",
    "        )\n",
    "        .split_by_rand_pct(262/1155)\n",
    "        .label_from_df(cols=[\"logfgas\"], label_cls=FloatList)\n",
    "    )\n",
    "\n",
    "    data = (\n",
    "        src.transform(tfms, size=sz)\n",
    "        .databunch(bs=bs)\n",
    "        .normalize(xGASS_stats)\n",
    "    )\n",
    "\n",
    "    learn = Learner(\n",
    "        data,\n",
    "        model=mxresnet34(),\n",
    "        opt_func=partial(Ranger),\n",
    "        loss_func=root_mean_squared_error,\n",
    "        wd=1e-3,\n",
    "        bn_wd=False,\n",
    "        true_wd=True,\n",
    "    )\n",
    "\n",
    "    learn.model[-1] = nn.Linear(learn.model[-1].in_features, 1, bias=True).cuda()\n",
    "\n",
    "    learn.fit_one_cycle(n_epochs, lr)\n",
    "\n",
    "    fgas_pred, fgas_true = learn.TTA(scale=1.)\n",
    "\n",
    "    with open(f'{PATH}/results/environment/groupcat/xgass-valid-satellite_randoms.txt', 'a') as f:\n",
    "        print('{:.4f}'.format(root_mean_squared_error(fgas_pred, fgas_true)), file=f)\n"
   ]
  },
  {
   "cell_type": "markdown",
   "metadata": {},
   "source": [
    "# The overdensity transition"
   ]
  },
  {
   "cell_type": "markdown",
   "metadata": {},
   "source": [
    "## q = 0.7\n",
    "Note that q = 1-p, where p is the validation fraction"
   ]
  },
  {
   "cell_type": "code",
   "execution_count": 12,
   "metadata": {},
   "outputs": [
    {
     "data": {
      "text/html": [],
      "text/plain": [
       "<IPython.core.display.HTML object>"
      ]
     },
     "metadata": {},
     "output_type": "display_data"
    }
   ],
   "source": [
    "q = 0.7 \n",
    "    \n",
    "# overdensity\n",
    "for i in range(5):\n",
    "\n",
    "    try:\n",
    "        learn.purge();\n",
    "    except NameError:\n",
    "        pass\n",
    "\n",
    "    df = split_underdense(get_a40_data(), p=1-q, reverse=True)\n",
    "\n",
    "    src = (\n",
    "        ImageList.from_df(\n",
    "            df, path=PATH, folder=\"images-OC\", suffix=\".jpg\", cols=\"AGCNr\"\n",
    "        )\n",
    "        .split_from_df(col='validation')\n",
    "        .label_from_df(cols=[\"logfgas\"], label_cls=FloatList)\n",
    "    )\n",
    "\n",
    "    data = (\n",
    "        src.transform(tfms, size=sz)\n",
    "        .databunch(bs=bs)\n",
    "        .normalize(xGASS_stats)\n",
    "    )\n",
    "\n",
    "    learn = Learner(\n",
    "        data,\n",
    "        model=mxresnet34(),\n",
    "        opt_func=partial(Ranger),\n",
    "        loss_func=root_mean_squared_error,\n",
    "        wd=1e-4,\n",
    "        bn_wd=False,\n",
    "        true_wd=True,\n",
    "    )\n",
    "\n",
    "    learn.model[-1] = nn.Linear(learn.model[-1].in_features, 1, bias=True).cuda()\n",
    "\n",
    "    learn.fit_one_cycle(n_epochs, lr, )\n",
    "\n",
    "    fgas_pred, fgas_true = learn.TTA(scale=1.)\n",
    "    with open(f'{PATH}/results/environment/transition/overdense_{q:.2f}.txt', 'a') as f:\n",
    "        print('{:.4f}'.format(root_mean_squared_error(fgas_pred, fgas_true)), file=f)\n",
    "\n",
    "\n",
    "# randomized\n",
    "for i in range(5):\n",
    "    try:\n",
    "        learn.purge();\n",
    "    except NameError:\n",
    "        pass\n",
    "\n",
    "    df = split_underdense(get_a40_data(), p=1-q, reverse=True)\n",
    "\n",
    "    src = (\n",
    "        ImageList.from_df(\n",
    "            df, path=PATH, folder=\"images-OC\", suffix=\".jpg\", cols=\"AGCNr\"\n",
    "        )\n",
    "        .split_by_rand_pct(1-q)\n",
    "        .label_from_df(cols=[\"logfgas\"], label_cls=FloatList)\n",
    "    )\n",
    "\n",
    "    data = (\n",
    "        src.transform(tfms, size=sz)\n",
    "        .databunch(bs=bs)\n",
    "        .normalize(xGASS_stats)\n",
    "    )\n",
    "\n",
    "    learn = Learner(\n",
    "        data,\n",
    "        model=mxresnet34(),\n",
    "        opt_func=partial(Ranger),\n",
    "        loss_func=root_mean_squared_error,\n",
    "        wd=1e-4,\n",
    "        bn_wd=False,\n",
    "        true_wd=True,\n",
    "    )\n",
    "\n",
    "    learn.model[-1] = nn.Linear(learn.model[-1].in_features, 1, bias=True).cuda()\n",
    "\n",
    "    learn.fit_one_cycle(n_epochs, lr, )\n",
    "\n",
    "    fgas_pred, fgas_true = learn.TTA(scale=1.)\n",
    "    with open(f'{PATH}/results/environment/transition/random_{q:.2f}.txt', 'a') as f:\n",
    "        print('{:.4f}'.format(root_mean_squared_error(fgas_pred, fgas_true)), file=f)"
   ]
  },
  {
   "cell_type": "markdown",
   "metadata": {},
   "source": [
    "## q = 0.6"
   ]
  },
  {
   "cell_type": "code",
   "execution_count": 13,
   "metadata": {},
   "outputs": [
    {
     "data": {
      "text/html": [],
      "text/plain": [
       "<IPython.core.display.HTML object>"
      ]
     },
     "metadata": {},
     "output_type": "display_data"
    }
   ],
   "source": [
    "q = 0.6 \n",
    "    \n",
    "# overdensity\n",
    "for i in range(5):\n",
    "\n",
    "    try:\n",
    "        learn.purge();\n",
    "    except NameError:\n",
    "        pass\n",
    "\n",
    "    df = split_underdense(get_a40_data(), p=1-q, reverse=True)\n",
    "\n",
    "    src = (\n",
    "        ImageList.from_df(\n",
    "            df, path=PATH, folder=\"images-OC\", suffix=\".jpg\", cols=\"AGCNr\"\n",
    "        )\n",
    "        .split_from_df(col='validation')\n",
    "        .label_from_df(cols=[\"logfgas\"], label_cls=FloatList)\n",
    "    )\n",
    "\n",
    "    data = (\n",
    "        src.transform(tfms, size=sz)\n",
    "        .databunch(bs=bs)\n",
    "        .normalize(xGASS_stats)\n",
    "    )\n",
    "\n",
    "    learn = Learner(\n",
    "        data,\n",
    "        model=mxresnet34(),\n",
    "        opt_func=partial(Ranger),\n",
    "        loss_func=root_mean_squared_error,\n",
    "        wd=1e-4,\n",
    "        bn_wd=False,\n",
    "        true_wd=True,\n",
    "    )\n",
    "\n",
    "    learn.model[-1] = nn.Linear(learn.model[-1].in_features, 1, bias=True).cuda()\n",
    "\n",
    "    learn.fit_one_cycle(n_epochs, lr, )\n",
    "\n",
    "    fgas_pred, fgas_true = learn.TTA(scale=1.)\n",
    "    with open(f'{PATH}/results/environment/transition/overdense_{q:.2f}.txt', 'a') as f:\n",
    "        print('{:.4f}'.format(root_mean_squared_error(fgas_pred, fgas_true)), file=f)\n",
    "\n",
    "\n",
    "# randomized\n",
    "for i in range(5):\n",
    "    try:\n",
    "        learn.purge();\n",
    "    except NameError:\n",
    "        pass\n",
    "\n",
    "    df = split_underdense(get_a40_data(), p=1-q, reverse=True)\n",
    "\n",
    "    src = (\n",
    "        ImageList.from_df(\n",
    "            df, path=PATH, folder=\"images-OC\", suffix=\".jpg\", cols=\"AGCNr\"\n",
    "        )\n",
    "        .split_by_rand_pct(1-q)\n",
    "        .label_from_df(cols=[\"logfgas\"], label_cls=FloatList)\n",
    "    )\n",
    "\n",
    "    data = (\n",
    "        src.transform(tfms, size=sz)\n",
    "        .databunch(bs=bs)\n",
    "        .normalize(xGASS_stats)\n",
    "    )\n",
    "\n",
    "    learn = Learner(\n",
    "        data,\n",
    "        model=mxresnet34(),\n",
    "        opt_func=partial(Ranger),\n",
    "        loss_func=root_mean_squared_error,\n",
    "        wd=1e-4,\n",
    "        bn_wd=False,\n",
    "        true_wd=True,\n",
    "    )\n",
    "\n",
    "    learn.model[-1] = nn.Linear(learn.model[-1].in_features, 1, bias=True).cuda()\n",
    "\n",
    "    learn.fit_one_cycle(n_epochs, lr, )\n",
    "\n",
    "    fgas_pred, fgas_true = learn.TTA(scale=1.)\n",
    "    with open(f'{PATH}/results/environment/transition/random_{q:.2f}.txt', 'a') as f:\n",
    "        print('{:.4f}'.format(root_mean_squared_error(fgas_pred, fgas_true)), file=f)"
   ]
  },
  {
   "cell_type": "markdown",
   "metadata": {},
   "source": [
    "## q = 0.5"
   ]
  },
  {
   "cell_type": "code",
   "execution_count": 14,
   "metadata": {
    "scrolled": true
   },
   "outputs": [
    {
     "data": {
      "text/html": [],
      "text/plain": [
       "<IPython.core.display.HTML object>"
      ]
     },
     "metadata": {},
     "output_type": "display_data"
    }
   ],
   "source": [
    "q = 0.5 \n",
    "    \n",
    "# overdensity\n",
    "for i in range(5):\n",
    "\n",
    "    try:\n",
    "        learn.purge();\n",
    "    except NameError:\n",
    "        pass\n",
    "\n",
    "    df = split_underdense(get_a40_data(), p=1-q, reverse=True)\n",
    "\n",
    "    src = (\n",
    "        ImageList.from_df(\n",
    "            df, path=PATH, folder=\"images-OC\", suffix=\".jpg\", cols=\"AGCNr\"\n",
    "        )\n",
    "        .split_from_df(col='validation')\n",
    "        .label_from_df(cols=[\"logfgas\"], label_cls=FloatList)\n",
    "    )\n",
    "\n",
    "    data = (\n",
    "        src.transform(tfms, size=sz)\n",
    "        .databunch(bs=bs)\n",
    "        .normalize(xGASS_stats)\n",
    "    )\n",
    "\n",
    "    learn = Learner(\n",
    "        data,\n",
    "        model=mxresnet34(),\n",
    "        opt_func=partial(Ranger),\n",
    "        loss_func=root_mean_squared_error,\n",
    "        wd=1e-4,\n",
    "        bn_wd=False,\n",
    "        true_wd=True,\n",
    "    )\n",
    "\n",
    "    learn.model[-1] = nn.Linear(learn.model[-1].in_features, 1, bias=True).cuda()\n",
    "\n",
    "    learn.fit_one_cycle(n_epochs, lr, )\n",
    "\n",
    "    fgas_pred, fgas_true = learn.TTA(scale=1.)\n",
    "    with open(f'{PATH}/results/environment/transition/overdense_{q:.2f}.txt', 'a') as f:\n",
    "        print('{:.4f}'.format(root_mean_squared_error(fgas_pred, fgas_true)), file=f)\n",
    "\n",
    "\n",
    "# randomized\n",
    "for i in range(5):\n",
    "    try:\n",
    "        learn.purge();\n",
    "    except NameError:\n",
    "        pass\n",
    "\n",
    "    df = split_underdense(get_a40_data(), p=1-q, reverse=True)\n",
    "\n",
    "    src = (\n",
    "        ImageList.from_df(\n",
    "            df, path=PATH, folder=\"images-OC\", suffix=\".jpg\", cols=\"AGCNr\"\n",
    "        )\n",
    "        .split_by_rand_pct(1-q)\n",
    "        .label_from_df(cols=[\"logfgas\"], label_cls=FloatList)\n",
    "    )\n",
    "\n",
    "    data = (\n",
    "        src.transform(tfms, size=sz)\n",
    "        .databunch(bs=bs)\n",
    "        .normalize(xGASS_stats)\n",
    "    )\n",
    "\n",
    "    learn = Learner(\n",
    "        data,\n",
    "        model=mxresnet34(),\n",
    "        opt_func=partial(Ranger),\n",
    "        loss_func=root_mean_squared_error,\n",
    "        wd=1e-4,\n",
    "        bn_wd=False,\n",
    "        true_wd=True,\n",
    "    )\n",
    "\n",
    "    learn.model[-1] = nn.Linear(learn.model[-1].in_features, 1, bias=True).cuda()\n",
    "\n",
    "    learn.fit_one_cycle(n_epochs, lr, )\n",
    "\n",
    "    fgas_pred, fgas_true = learn.TTA(scale=1.)\n",
    "    with open(f'{PATH}/results/environment/transition/random_{q:.2f}.txt', 'a') as f:\n",
    "        print('{:.4f}'.format(root_mean_squared_error(fgas_pred, fgas_true)), file=f)"
   ]
  },
  {
   "cell_type": "code",
   "execution_count": null,
   "metadata": {},
   "outputs": [],
   "source": []
  }
 ],
 "metadata": {
  "kernelspec": {
   "display_name": "Python 3",
   "language": "python",
   "name": "python3"
  },
  "language_info": {
   "codemirror_mode": {
    "name": "ipython",
    "version": 3
   },
   "file_extension": ".py",
   "mimetype": "text/x-python",
   "name": "python",
   "nbconvert_exporter": "python",
   "pygments_lexer": "ipython3",
   "version": "3.7.3"
  },
  "toc": {
   "base_numbering": 1,
   "nav_menu": {},
   "number_sections": true,
   "sideBar": true,
   "skip_h1_title": false,
   "title_cell": "Table of Contents",
   "title_sidebar": "Contents",
   "toc_cell": false,
   "toc_position": {},
   "toc_section_display": true,
   "toc_window_display": false
  }
 },
 "nbformat": 4,
 "nbformat_minor": 2
}
